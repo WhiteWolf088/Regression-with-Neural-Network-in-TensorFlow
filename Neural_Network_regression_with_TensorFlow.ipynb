{
  "nbformat": 4,
  "nbformat_minor": 0,
  "metadata": {
    "colab": {
      "name": "01_Neural_Network_regression_with_TensorFlow.ipynb",
      "provenance": [],
      "collapsed_sections": [],
      "toc_visible": true,
      "mount_file_id": "1Z3GvF-s-6lXjenjX0aqpcpa_crsCeIsR",
      "authorship_tag": "ABX9TyMI0j3Gt9D0qq6YzadKozDL",
      "include_colab_link": true
    },
    "kernelspec": {
      "name": "python3",
      "display_name": "Python 3"
    },
    "language_info": {
      "name": "python"
    }
  },
  "cells": [
    {
      "cell_type": "markdown",
      "metadata": {
        "id": "view-in-github",
        "colab_type": "text"
      },
      "source": [
        "<a href=\"https://colab.research.google.com/github/WhiteWolf088/Regression-with-Neural-Network-in-TensorFlow/blob/main/Neural_Network_regression_with_TensorFlow.ipynb\" target=\"_parent\"><img src=\"https://colab.research.google.com/assets/colab-badge.svg\" alt=\"Open In Colab\"/></a>"
      ]
    },
    {
      "cell_type": "markdown",
      "metadata": {
        "id": "IPR3X8piLlAG"
      },
      "source": [
        "# Introduction to regression with Neural Network in TensorFlow\n",
        "\n",
        "There are *many definition for a regression problem but in our case, we're going to simplify it : predicting a numerical variables based on some other combination of variables,even shorter....predicting a number."
      ]
    },
    {
      "cell_type": "code",
      "metadata": {
        "colab": {
          "base_uri": "https://localhost:8080/"
        },
        "id": "_FU8DfQ4McuB",
        "outputId": "6ce9e81a-14d4-4f66-f1d9-9b539386511b"
      },
      "source": [
        "import tensorflow as tf\n",
        "print(tf.__version__)"
      ],
      "execution_count": null,
      "outputs": [
        {
          "output_type": "stream",
          "name": "stdout",
          "text": [
            "2.6.0\n"
          ]
        }
      ]
    },
    {
      "cell_type": "markdown",
      "metadata": {
        "id": "IL8zavI5NNrD"
      },
      "source": [
        "## Creating data to view and fit"
      ]
    },
    {
      "cell_type": "code",
      "metadata": {
        "colab": {
          "base_uri": "https://localhost:8080/",
          "height": 269
        },
        "id": "cHmYNdu3NMvw",
        "outputId": "f63b2b9d-3b99-4c4a-f888-d490eff46282"
      },
      "source": [
        "import numpy as np\n",
        "import matplotlib.pyplot as plt\n",
        "# Create features\n",
        "x=np.array([-7.0,-4.0,-1.0,2.0,5.0,8.0,11.0,14.0])\n",
        "# Create lables\n",
        "y=np.array([3.0,6.0,9.0,12.0,15.0,18.0,21.0,24.0])\n",
        "# Vizualize it\n",
        "plt.scatter(x,y);"
      ],
      "execution_count": null,
      "outputs": [
        {
          "output_type": "display_data",
          "data": {
            "image/png": "[encoded data removed]",
            "text/plain": [
              "<Figure size 432x288 with 1 Axes>"
            ]
          },
          "metadata": {
            "needs_background": "light"
          }
        }
      ]
    },
    {
      "cell_type": "markdown",
      "metadata": {
        "id": "bKOVkBp1Pvza"
      },
      "source": [
        "## Inputs and Output shapes"
      ]
    },
    {
      "cell_type": "code",
      "metadata": {
        "colab": {
          "base_uri": "https://localhost:8080/"
        },
        "id": "7DDX-EMaPQDJ",
        "outputId": "d3b153eb-28b7-45c0-9291-283d850b5509"
      },
      "source": [
        "# Create a tensor for our housing price prediction problem\n",
        "house_info=tf.constant([\"Bedroom\",\"Bathroom\",\"Garages\"])\n",
        "house_price=tf.constant([939700])\n",
        "house_info,house_price\n"
      ],
      "execution_count": null,
      "outputs": [
        {
          "output_type": "execute_result",
          "data": {
            "text/plain": [
              "(<tf.Tensor: shape=(3,), dtype=string, numpy=array([b'Bedroom', b'Bathroom', b'Garages'], dtype=object)>,\n",
              " <tf.Tensor: shape=(1,), dtype=int32, numpy=array([939700], dtype=int32)>)"
            ]
          },
          "metadata": {},
          "execution_count": 5
        }
      ]
    },
    {
      "cell_type": "markdown",
      "metadata": {
        "id": "gz8hYsQJSmeO"
      },
      "source": [
        "## Steps in modelling with TensorFlow\n",
        "\n",
        "* 1.**Creating a model** - Define the input and output layer ,as well as hidden layers of a deep learning model\n",
        "\n",
        "* 2.**Compiling a model** - Define the loss function(in other words,the function which tell our modelhow wrong it is)and the optimizer(tells our model how to improve the pattern its learning)and evaluation metrics(what we can use to interpret the performance of a model).\n",
        "\n",
        "* 3.**Fitting a model** - letting the model try to find patterns between x and y (features and labels)."
      ]
    },
    {
      "cell_type": "code",
      "metadata": {
        "colab": {
          "base_uri": "https://localhost:8080/"
        },
        "id": "30G1qbHhRg5s",
        "outputId": "39e925ff-4991-4547-a17e-9bbc981df2b1"
      },
      "source": [
        "x,y"
      ],
      "execution_count": null,
      "outputs": [
        {
          "output_type": "execute_result",
          "data": {
            "text/plain": [
              "(array([-7., -4., -1.,  2.,  5.,  8., 11., 14.]),\n",
              " array([ 3.,  6.,  9., 12., 15., 18., 21., 24.]))"
            ]
          },
          "metadata": {},
          "execution_count": 6
        }
      ]
    },
    {
      "cell_type": "code",
      "metadata": {
        "id": "XceyDPDeUggW"
      },
      "source": [
        "x=tf.cast(tf.constant(x),dtype=tf.float32)\n",
        "y=tf.cast(tf.constant(y),dtype=tf.float32)"
      ],
      "execution_count": null,
      "outputs": []
    },
    {
      "cell_type": "code",
      "metadata": {
        "colab": {
          "base_uri": "https://localhost:8080/"
        },
        "id": "cuWBfCctUoQI",
        "outputId": "6d666076-ef5b-4917-fdef-2ebd0d2219ab"
      },
      "source": [
        "x,y"
      ],
      "execution_count": null,
      "outputs": [
        {
          "output_type": "execute_result",
          "data": {
            "text/plain": [
              "(<tf.Tensor: shape=(8,), dtype=float32, numpy=array([-7., -4., -1.,  2.,  5.,  8., 11., 14.], dtype=float32)>,\n",
              " <tf.Tensor: shape=(8,), dtype=float32, numpy=array([ 3.,  6.,  9., 12., 15., 18., 21., 24.], dtype=float32)>)"
            ]
          },
          "metadata": {},
          "execution_count": 8
        }
      ]
    },
    {
      "cell_type": "code",
      "metadata": {
        "colab": {
          "base_uri": "https://localhost:8080/"
        },
        "id": "2XpEU4csUpnt",
        "outputId": "58bd1c9d-c2ef-4ad4-ac02-d59361da43dc"
      },
      "source": [
        "# 1.Create a model\n",
        "model=tf.keras.Sequential([\n",
        "  tf.keras.layers.Dense(1)\n",
        "])\n",
        "# 2.Compile the model\n",
        "model.compile(loss=tf.keras.losses.mae,\n",
        "              optimizer=tf.keras.optimizers.SGD(),\n",
        "              metrics=[\"mae\"])\n",
        "# 3.Fit the model \n",
        "model.fit(x,y,epochs=5)"
      ],
      "execution_count": null,
      "outputs": [
        {
          "output_type": "stream",
          "name": "stdout",
          "text": [
            "Epoch 1/5\n",
            "1/1 [==============================] - 1s 600ms/step - loss: 19.2413 - mae: 19.2413\n",
            "Epoch 2/5\n",
            "1/1 [==============================] - 0s 5ms/step - loss: 18.9600 - mae: 18.9600\n",
            "Epoch 3/5\n",
            "1/1 [==============================] - 0s 3ms/step - loss: 18.6788 - mae: 18.6788\n",
            "Epoch 4/5\n",
            "1/1 [==============================] - 0s 6ms/step - loss: 18.3975 - mae: 18.3975\n",
            "Epoch 5/5\n",
            "1/1 [==============================] - 0s 8ms/step - loss: 18.1163 - mae: 18.1163\n"
          ]
        },
        {
          "output_type": "execute_result",
          "data": {
            "text/plain": [
              "<keras.callbacks.History at 0x7f6385e2fa10>"
            ]
          },
          "metadata": {},
          "execution_count": 9
        }
      ]
    },
    {
      "cell_type": "code",
      "metadata": {
        "colab": {
          "base_uri": "https://localhost:8080/"
        },
        "id": "LDFHw8leZWOm",
        "outputId": "0db55a2f-9880-4792-84c7-2482990ff5d4"
      },
      "source": [
        "x,y"
      ],
      "execution_count": null,
      "outputs": [
        {
          "output_type": "execute_result",
          "data": {
            "text/plain": [
              "(<tf.Tensor: shape=(8,), dtype=float32, numpy=array([-7., -4., -1.,  2.,  5.,  8., 11., 14.], dtype=float32)>,\n",
              " <tf.Tensor: shape=(8,), dtype=float32, numpy=array([ 3.,  6.,  9., 12., 15., 18., 21., 24.], dtype=float32)>)"
            ]
          },
          "metadata": {},
          "execution_count": 10
        }
      ]
    },
    {
      "cell_type": "code",
      "metadata": {
        "colab": {
          "base_uri": "https://localhost:8080/"
        },
        "id": "FEOwsvHTZ75P",
        "outputId": "6b0020d4-91b4-4fec-e552-baa542294c60"
      },
      "source": [
        "model.predict([17.0])"
      ],
      "execution_count": null,
      "outputs": [
        {
          "output_type": "execute_result",
          "data": {
            "text/plain": [
              "array([[-16.519361]], dtype=float32)"
            ]
          },
          "metadata": {},
          "execution_count": 11
        }
      ]
    },
    {
      "cell_type": "markdown",
      "metadata": {
        "id": "kex7b47kbRCg"
      },
      "source": [
        "## Improving Our Model\n",
        "\n",
        "We can improve our model, by altering the steps we tool to create a model.\n",
        "\n",
        "1. **Creating a model** - Here we might add more layers,increase the number of hidden units(all calles neurons) within each of the hidden layers, change the activation function of each layer\n",
        "2. **Compiling a mode** - Here we might change the optimization function or perhaps the **learning rate** of the optimization function.\n",
        "3. **Fitting a model** - Here we might fit a model for more **epochs** (leave it training for longer)or on more data(give themodel more examples to learn from)."
      ]
    },
    {
      "cell_type": "code",
      "metadata": {
        "colab": {
          "base_uri": "https://localhost:8080/"
        },
        "id": "P7xzZbRNwtE2",
        "outputId": "87bad0df-3b3b-4929-d4ed-cf970b305241"
      },
      "source": [
        "model=tf.keras.Sequential([\n",
        "  tf.keras.layers.Dense(100,activation=\"relu\"),\n",
        "  tf.keras.layers.Dense(1)\n",
        "])\n",
        "model.compile(loss=tf.keras.losses.mae,\n",
        "              optimizer=tf.keras.optimizers.SGD(),\n",
        "              metrics=[\"mae\"])\n",
        "model.fit(x,y,epochs=100)"
      ],
      "execution_count": null,
      "outputs": [
        {
          "output_type": "stream",
          "name": "stdout",
          "text": [
            "Epoch 1/100\n",
            "1/1 [==============================] - 0s 318ms/step - loss: 15.3627 - mae: 15.3627\n",
            "Epoch 2/100\n",
            "1/1 [==============================] - 0s 7ms/step - loss: 14.8441 - mae: 14.8441\n",
            "Epoch 3/100\n",
            "1/1 [==============================] - 0s 5ms/step - loss: 14.3407 - mae: 14.3407\n",
            "Epoch 4/100\n",
            "1/1 [==============================] - 0s 3ms/step - loss: 13.8478 - mae: 13.8478\n",
            "Epoch 5/100\n",
            "1/1 [==============================] - 0s 4ms/step - loss: 13.3609 - mae: 13.3609\n",
            "Epoch 6/100\n",
            "1/1 [==============================] - 0s 4ms/step - loss: 12.8756 - mae: 12.8756\n",
            "Epoch 7/100\n",
            "1/1 [==============================] - 0s 4ms/step - loss: 12.3876 - mae: 12.3876\n",
            "Epoch 8/100\n",
            "1/1 [==============================] - 0s 5ms/step - loss: 11.8927 - mae: 11.8927\n",
            "Epoch 9/100\n",
            "1/1 [==============================] - 0s 6ms/step - loss: 11.3920 - mae: 11.3920\n",
            "Epoch 10/100\n",
            "1/1 [==============================] - 0s 5ms/step - loss: 10.8752 - mae: 10.8752\n",
            "Epoch 11/100\n",
            "1/1 [==============================] - 0s 5ms/step - loss: 10.3381 - mae: 10.3381\n",
            "Epoch 12/100\n",
            "1/1 [==============================] - 0s 5ms/step - loss: 9.7763 - mae: 9.7763\n",
            "Epoch 13/100\n",
            "1/1 [==============================] - 0s 5ms/step - loss: 9.1853 - mae: 9.1853\n",
            "Epoch 14/100\n",
            "1/1 [==============================] - 0s 4ms/step - loss: 8.5587 - mae: 8.5587\n",
            "Epoch 15/100\n",
            "1/1 [==============================] - 0s 3ms/step - loss: 7.8908 - mae: 7.8908\n",
            "Epoch 16/100\n",
            "1/1 [==============================] - 0s 4ms/step - loss: 7.1792 - mae: 7.1792\n",
            "Epoch 17/100\n",
            "1/1 [==============================] - 0s 3ms/step - loss: 6.4725 - mae: 6.4725\n",
            "Epoch 18/100\n",
            "1/1 [==============================] - 0s 11ms/step - loss: 5.7048 - mae: 5.7048\n",
            "Epoch 19/100\n",
            "1/1 [==============================] - 0s 3ms/step - loss: 4.8684 - mae: 4.8684\n",
            "Epoch 20/100\n",
            "1/1 [==============================] - 0s 3ms/step - loss: 4.1028 - mae: 4.1028\n",
            "Epoch 21/100\n",
            "1/1 [==============================] - 0s 3ms/step - loss: 4.0088 - mae: 4.0088\n",
            "Epoch 22/100\n",
            "1/1 [==============================] - 0s 4ms/step - loss: 3.9123 - mae: 3.9123\n",
            "Epoch 23/100\n",
            "1/1 [==============================] - 0s 3ms/step - loss: 3.9075 - mae: 3.9075\n",
            "Epoch 24/100\n",
            "1/1 [==============================] - 0s 3ms/step - loss: 3.8868 - mae: 3.8868\n",
            "Epoch 25/100\n",
            "1/1 [==============================] - 0s 4ms/step - loss: 3.9137 - mae: 3.9137\n",
            "Epoch 26/100\n",
            "1/1 [==============================] - 0s 3ms/step - loss: 3.8699 - mae: 3.8699\n",
            "Epoch 27/100\n",
            "1/1 [==============================] - 0s 3ms/step - loss: 3.9293 - mae: 3.9293\n",
            "Epoch 28/100\n",
            "1/1 [==============================] - 0s 3ms/step - loss: 3.8624 - mae: 3.8624\n",
            "Epoch 29/100\n",
            "1/1 [==============================] - 0s 4ms/step - loss: 3.9163 - mae: 3.9163\n",
            "Epoch 30/100\n",
            "1/1 [==============================] - 0s 4ms/step - loss: 3.8687 - mae: 3.8687\n",
            "Epoch 31/100\n",
            "1/1 [==============================] - 0s 4ms/step - loss: 3.8906 - mae: 3.8906\n",
            "Epoch 32/100\n",
            "1/1 [==============================] - 0s 3ms/step - loss: 3.8751 - mae: 3.8751\n",
            "Epoch 33/100\n",
            "1/1 [==============================] - 0s 4ms/step - loss: 3.8647 - mae: 3.8647\n",
            "Epoch 34/100\n",
            "1/1 [==============================] - 0s 4ms/step - loss: 3.8892 - mae: 3.8892\n",
            "Epoch 35/100\n",
            "1/1 [==============================] - 0s 3ms/step - loss: 3.8472 - mae: 3.8472\n",
            "Epoch 36/100\n",
            "1/1 [==============================] - 0s 4ms/step - loss: 3.8976 - mae: 3.8976\n",
            "Epoch 37/100\n",
            "1/1 [==============================] - 0s 4ms/step - loss: 3.8310 - mae: 3.8310\n",
            "Epoch 38/100\n",
            "1/1 [==============================] - 0s 3ms/step - loss: 3.8932 - mae: 3.8932\n",
            "Epoch 39/100\n",
            "1/1 [==============================] - 0s 3ms/step - loss: 3.8376 - mae: 3.8376\n",
            "Epoch 40/100\n",
            "1/1 [==============================] - 0s 6ms/step - loss: 3.8672 - mae: 3.8672\n",
            "Epoch 41/100\n",
            "1/1 [==============================] - 0s 3ms/step - loss: 3.8443 - mae: 3.8443\n",
            "Epoch 42/100\n",
            "1/1 [==============================] - 0s 3ms/step - loss: 3.8479 - mae: 3.8479\n",
            "Epoch 43/100\n",
            "1/1 [==============================] - 0s 4ms/step - loss: 3.8604 - mae: 3.8604\n",
            "Epoch 44/100\n",
            "1/1 [==============================] - 0s 4ms/step - loss: 3.8232 - mae: 3.8232\n",
            "Epoch 45/100\n",
            "1/1 [==============================] - 0s 4ms/step - loss: 3.8672 - mae: 3.8672\n",
            "Epoch 46/100\n",
            "1/1 [==============================] - 0s 3ms/step - loss: 3.8010 - mae: 3.8010\n",
            "Epoch 47/100\n",
            "1/1 [==============================] - 0s 4ms/step - loss: 3.8687 - mae: 3.8687\n",
            "Epoch 48/100\n",
            "1/1 [==============================] - 0s 3ms/step - loss: 3.8079 - mae: 3.8079\n",
            "Epoch 49/100\n",
            "1/1 [==============================] - 0s 3ms/step - loss: 3.8422 - mae: 3.8422\n",
            "Epoch 50/100\n",
            "1/1 [==============================] - 0s 4ms/step - loss: 3.8204 - mae: 3.8204\n",
            "Epoch 51/100\n",
            "1/1 [==============================] - 0s 3ms/step - loss: 3.8243 - mae: 3.8243\n",
            "Epoch 52/100\n",
            "1/1 [==============================] - 0s 3ms/step - loss: 3.8310 - mae: 3.8310\n",
            "Epoch 53/100\n",
            "1/1 [==============================] - 0s 12ms/step - loss: 3.7976 - mae: 3.7976\n",
            "Epoch 54/100\n",
            "1/1 [==============================] - 0s 4ms/step - loss: 3.8381 - mae: 3.8381\n",
            "Epoch 55/100\n",
            "1/1 [==============================] - 0s 4ms/step - loss: 3.7723 - mae: 3.7723\n",
            "Epoch 56/100\n",
            "1/1 [==============================] - 0s 4ms/step - loss: 3.8427 - mae: 3.8427\n",
            "Epoch 57/100\n",
            "1/1 [==============================] - 0s 4ms/step - loss: 3.7793 - mae: 3.7793\n",
            "Epoch 58/100\n",
            "1/1 [==============================] - 0s 4ms/step - loss: 3.8206 - mae: 3.8206\n",
            "Epoch 59/100\n",
            "1/1 [==============================] - 0s 4ms/step - loss: 3.7958 - mae: 3.7958\n",
            "Epoch 60/100\n",
            "1/1 [==============================] - 0s 4ms/step - loss: 3.7977 - mae: 3.7977\n",
            "Epoch 61/100\n",
            "1/1 [==============================] - 0s 4ms/step - loss: 3.8029 - mae: 3.8029\n",
            "Epoch 62/100\n",
            "1/1 [==============================] - 0s 4ms/step - loss: 3.7707 - mae: 3.7707\n",
            "Epoch 63/100\n",
            "1/1 [==============================] - 0s 4ms/step - loss: 3.8101 - mae: 3.8101\n",
            "Epoch 64/100\n",
            "1/1 [==============================] - 0s 4ms/step - loss: 3.7446 - mae: 3.7446\n",
            "Epoch 65/100\n",
            "1/1 [==============================] - 0s 4ms/step - loss: 3.8153 - mae: 3.8153\n",
            "Epoch 66/100\n",
            "1/1 [==============================] - 0s 4ms/step - loss: 3.7551 - mae: 3.7551\n",
            "Epoch 67/100\n",
            "1/1 [==============================] - 0s 4ms/step - loss: 3.7969 - mae: 3.7969\n",
            "Epoch 68/100\n",
            "1/1 [==============================] - 0s 4ms/step - loss: 3.7684 - mae: 3.7684\n",
            "Epoch 69/100\n",
            "1/1 [==============================] - 0s 4ms/step - loss: 3.7696 - mae: 3.7696\n",
            "Epoch 70/100\n",
            "1/1 [==============================] - 0s 4ms/step - loss: 3.7758 - mae: 3.7758\n",
            "Epoch 71/100\n",
            "1/1 [==============================] - 0s 6ms/step - loss: 3.7423 - mae: 3.7423\n",
            "Epoch 72/100\n",
            "1/1 [==============================] - 0s 4ms/step - loss: 3.7833 - mae: 3.7833\n",
            "Epoch 73/100\n",
            "1/1 [==============================] - 0s 4ms/step - loss: 3.7181 - mae: 3.7181\n",
            "Epoch 74/100\n",
            "1/1 [==============================] - 0s 17ms/step - loss: 3.7889 - mae: 3.7889\n",
            "Epoch 75/100\n",
            "1/1 [==============================] - 0s 8ms/step - loss: 3.7347 - mae: 3.7347\n",
            "Epoch 76/100\n",
            "1/1 [==============================] - 0s 12ms/step - loss: 3.7678 - mae: 3.7678\n",
            "Epoch 77/100\n",
            "1/1 [==============================] - 0s 4ms/step - loss: 3.7422 - mae: 3.7422\n",
            "Epoch 78/100\n",
            "1/1 [==============================] - 0s 5ms/step - loss: 3.7404 - mae: 3.7404\n",
            "Epoch 79/100\n",
            "1/1 [==============================] - 0s 4ms/step - loss: 3.7497 - mae: 3.7497\n",
            "Epoch 80/100\n",
            "1/1 [==============================] - 0s 6ms/step - loss: 3.7127 - mae: 3.7127\n",
            "Epoch 81/100\n",
            "1/1 [==============================] - 0s 6ms/step - loss: 3.7574 - mae: 3.7574\n",
            "Epoch 82/100\n",
            "1/1 [==============================] - 0s 6ms/step - loss: 3.6929 - mae: 3.6929\n",
            "Epoch 83/100\n",
            "1/1 [==============================] - 0s 8ms/step - loss: 3.7653 - mae: 3.7653\n",
            "Epoch 84/100\n",
            "1/1 [==============================] - 0s 5ms/step - loss: 3.7092 - mae: 3.7092\n",
            "Epoch 85/100\n",
            "1/1 [==============================] - 0s 9ms/step - loss: 3.7375 - mae: 3.7375\n",
            "Epoch 86/100\n",
            "1/1 [==============================] - 0s 11ms/step - loss: 3.7169 - mae: 3.7169\n",
            "Epoch 87/100\n",
            "1/1 [==============================] - 0s 7ms/step - loss: 3.7096 - mae: 3.7096\n",
            "Epoch 88/100\n",
            "1/1 [==============================] - 0s 10ms/step - loss: 3.7248 - mae: 3.7248\n",
            "Epoch 89/100\n",
            "1/1 [==============================] - 0s 5ms/step - loss: 3.6817 - mae: 3.6817\n",
            "Epoch 90/100\n",
            "1/1 [==============================] - 0s 7ms/step - loss: 3.7327 - mae: 3.7327\n",
            "Epoch 91/100\n",
            "1/1 [==============================] - 0s 5ms/step - loss: 3.6756 - mae: 3.6756\n",
            "Epoch 92/100\n",
            "1/1 [==============================] - 0s 5ms/step - loss: 3.7339 - mae: 3.7339\n",
            "Epoch 93/100\n",
            "1/1 [==============================] - 0s 7ms/step - loss: 3.6849 - mae: 3.6849\n",
            "Epoch 94/100\n",
            "1/1 [==============================] - 0s 9ms/step - loss: 3.7058 - mae: 3.7058\n",
            "Epoch 95/100\n",
            "1/1 [==============================] - 0s 5ms/step - loss: 3.6928 - mae: 3.6928\n",
            "Epoch 96/100\n",
            "1/1 [==============================] - 0s 6ms/step - loss: 3.6776 - mae: 3.6776\n",
            "Epoch 97/100\n",
            "1/1 [==============================] - 0s 4ms/step - loss: 3.7007 - mae: 3.7007\n",
            "Epoch 98/100\n",
            "1/1 [==============================] - 0s 5ms/step - loss: 3.6494 - mae: 3.6494\n",
            "Epoch 99/100\n",
            "1/1 [==============================] - 0s 5ms/step - loss: 3.7146 - mae: 3.7146\n",
            "Epoch 100/100\n",
            "1/1 [==============================] - 0s 6ms/step - loss: 3.6534 - mae: 3.6534\n"
          ]
        },
        {
          "output_type": "execute_result",
          "data": {
            "text/plain": [
              "<keras.callbacks.History at 0x7f63845b9dd0>"
            ]
          },
          "metadata": {},
          "execution_count": 12
        }
      ]
    },
    {
      "cell_type": "code",
      "metadata": {
        "colab": {
          "base_uri": "https://localhost:8080/"
        },
        "id": "sYZcA_4MyfzH",
        "outputId": "6498abb8-7d11-4bd6-ca7e-d8a27d2c41a8"
      },
      "source": [
        "model.predict([17.0])"
      ],
      "execution_count": null,
      "outputs": [
        {
          "output_type": "execute_result",
          "data": {
            "text/plain": [
              "array([[31.203222]], dtype=float32)"
            ]
          },
          "metadata": {},
          "execution_count": 13
        }
      ]
    },
    {
      "cell_type": "code",
      "metadata": {
        "id": "xuzR_NCKzOIH",
        "colab": {
          "base_uri": "https://localhost:8080/"
        },
        "outputId": "2432549c-2d90-4387-f600-c880c622334c"
      },
      "source": [
        "model=tf.keras.Sequential([\n",
        "  tf.keras.layers.Dense(1)\n",
        "])\n",
        "model.compile(loss=tf.keras.losses.mae,\n",
        "              optimizer=tf.keras.optimizers.Adam(lr=0.01),\n",
        "              metrics=[\"mae\"])\n",
        "model.fit(x,y,epochs=100)"
      ],
      "execution_count": null,
      "outputs": [
        {
          "output_type": "stream",
          "name": "stderr",
          "text": [
            "/usr/local/lib/python3.7/dist-packages/keras/optimizer_v2/optimizer_v2.py:356: UserWarning: The `lr` argument is deprecated, use `learning_rate` instead.\n",
            "  \"The `lr` argument is deprecated, use `learning_rate` instead.\")\n"
          ]
        },
        {
          "output_type": "stream",
          "name": "stdout",
          "text": [
            "Epoch 1/100\n",
            "1/1 [==============================] - 0s 275ms/step - loss: 9.1929 - mae: 9.1929\n",
            "Epoch 2/100\n",
            "1/1 [==============================] - 0s 4ms/step - loss: 9.1479 - mae: 9.1479\n",
            "Epoch 3/100\n",
            "1/1 [==============================] - 0s 6ms/step - loss: 9.1029 - mae: 9.1029\n",
            "Epoch 4/100\n",
            "1/1 [==============================] - 0s 3ms/step - loss: 9.0579 - mae: 9.0579\n",
            "Epoch 5/100\n",
            "1/1 [==============================] - 0s 4ms/step - loss: 9.0129 - mae: 9.0129\n",
            "Epoch 6/100\n",
            "1/1 [==============================] - 0s 4ms/step - loss: 8.9679 - mae: 8.9679\n",
            "Epoch 7/100\n",
            "1/1 [==============================] - 0s 5ms/step - loss: 8.9229 - mae: 8.9229\n",
            "Epoch 8/100\n",
            "1/1 [==============================] - 0s 5ms/step - loss: 8.8779 - mae: 8.8779\n",
            "Epoch 9/100\n",
            "1/1 [==============================] - 0s 5ms/step - loss: 8.8329 - mae: 8.8329\n",
            "Epoch 10/100\n",
            "1/1 [==============================] - 0s 5ms/step - loss: 8.7879 - mae: 8.7879\n",
            "Epoch 11/100\n",
            "1/1 [==============================] - 0s 15ms/step - loss: 8.7429 - mae: 8.7429\n",
            "Epoch 12/100\n",
            "1/1 [==============================] - 0s 5ms/step - loss: 8.6979 - mae: 8.6979\n",
            "Epoch 13/100\n",
            "1/1 [==============================] - 0s 6ms/step - loss: 8.6529 - mae: 8.6529\n",
            "Epoch 14/100\n",
            "1/1 [==============================] - 0s 6ms/step - loss: 8.6079 - mae: 8.6079\n",
            "Epoch 15/100\n",
            "1/1 [==============================] - 0s 5ms/step - loss: 8.5629 - mae: 8.5629\n",
            "Epoch 16/100\n",
            "1/1 [==============================] - 0s 8ms/step - loss: 8.5179 - mae: 8.5179\n",
            "Epoch 17/100\n",
            "1/1 [==============================] - 0s 5ms/step - loss: 8.4729 - mae: 8.4729\n",
            "Epoch 18/100\n",
            "1/1 [==============================] - 0s 8ms/step - loss: 8.4279 - mae: 8.4279\n",
            "Epoch 19/100\n",
            "1/1 [==============================] - 0s 7ms/step - loss: 8.3829 - mae: 8.3829\n",
            "Epoch 20/100\n",
            "1/1 [==============================] - 0s 12ms/step - loss: 8.3379 - mae: 8.3379\n",
            "Epoch 21/100\n",
            "1/1 [==============================] - 0s 5ms/step - loss: 8.2929 - mae: 8.2929\n",
            "Epoch 22/100\n",
            "1/1 [==============================] - 0s 8ms/step - loss: 8.2479 - mae: 8.2479\n",
            "Epoch 23/100\n",
            "1/1 [==============================] - 0s 3ms/step - loss: 8.2029 - mae: 8.2029\n",
            "Epoch 24/100\n",
            "1/1 [==============================] - 0s 3ms/step - loss: 8.1579 - mae: 8.1579\n",
            "Epoch 25/100\n",
            "1/1 [==============================] - 0s 4ms/step - loss: 8.1129 - mae: 8.1129\n",
            "Epoch 26/100\n",
            "1/1 [==============================] - 0s 4ms/step - loss: 8.0679 - mae: 8.0679\n",
            "Epoch 27/100\n",
            "1/1 [==============================] - 0s 3ms/step - loss: 8.0229 - mae: 8.0229\n",
            "Epoch 28/100\n",
            "1/1 [==============================] - 0s 4ms/step - loss: 7.9779 - mae: 7.9779\n",
            "Epoch 29/100\n",
            "1/1 [==============================] - 0s 3ms/step - loss: 7.9329 - mae: 7.9329\n",
            "Epoch 30/100\n",
            "1/1 [==============================] - 0s 3ms/step - loss: 7.8879 - mae: 7.8879\n",
            "Epoch 31/100\n",
            "1/1 [==============================] - 0s 4ms/step - loss: 7.8429 - mae: 7.8429\n",
            "Epoch 32/100\n",
            "1/1 [==============================] - 0s 4ms/step - loss: 7.7979 - mae: 7.7979\n",
            "Epoch 33/100\n",
            "1/1 [==============================] - 0s 4ms/step - loss: 7.7529 - mae: 7.7529\n",
            "Epoch 34/100\n",
            "1/1 [==============================] - 0s 4ms/step - loss: 7.7079 - mae: 7.7079\n",
            "Epoch 35/100\n",
            "1/1 [==============================] - 0s 4ms/step - loss: 7.6629 - mae: 7.6629\n",
            "Epoch 36/100\n",
            "1/1 [==============================] - 0s 4ms/step - loss: 7.6179 - mae: 7.6179\n",
            "Epoch 37/100\n",
            "1/1 [==============================] - 0s 4ms/step - loss: 7.5729 - mae: 7.5729\n",
            "Epoch 38/100\n",
            "1/1 [==============================] - 0s 3ms/step - loss: 7.5279 - mae: 7.5279\n",
            "Epoch 39/100\n",
            "1/1 [==============================] - 0s 4ms/step - loss: 7.4829 - mae: 7.4829\n",
            "Epoch 40/100\n",
            "1/1 [==============================] - 0s 4ms/step - loss: 7.4379 - mae: 7.4379\n",
            "Epoch 41/100\n",
            "1/1 [==============================] - 0s 5ms/step - loss: 7.3929 - mae: 7.3929\n",
            "Epoch 42/100\n",
            "1/1 [==============================] - 0s 3ms/step - loss: 7.3479 - mae: 7.3479\n",
            "Epoch 43/100\n",
            "1/1 [==============================] - 0s 5ms/step - loss: 7.3029 - mae: 7.3029\n",
            "Epoch 44/100\n",
            "1/1 [==============================] - 0s 4ms/step - loss: 7.2579 - mae: 7.2579\n",
            "Epoch 45/100\n",
            "1/1 [==============================] - 0s 3ms/step - loss: 7.2129 - mae: 7.2129\n",
            "Epoch 46/100\n",
            "1/1 [==============================] - 0s 4ms/step - loss: 7.1679 - mae: 7.1679\n",
            "Epoch 47/100\n",
            "1/1 [==============================] - 0s 5ms/step - loss: 7.1550 - mae: 7.1550\n",
            "Epoch 48/100\n",
            "1/1 [==============================] - 0s 3ms/step - loss: 7.1477 - mae: 7.1477\n",
            "Epoch 49/100\n",
            "1/1 [==============================] - 0s 3ms/step - loss: 7.1404 - mae: 7.1404\n",
            "Epoch 50/100\n",
            "1/1 [==============================] - 0s 3ms/step - loss: 7.1334 - mae: 7.1334\n",
            "Epoch 51/100\n",
            "1/1 [==============================] - 0s 3ms/step - loss: 7.1264 - mae: 7.1264\n",
            "Epoch 52/100\n",
            "1/1 [==============================] - 0s 4ms/step - loss: 7.1195 - mae: 7.1195\n",
            "Epoch 53/100\n",
            "1/1 [==============================] - 0s 4ms/step - loss: 7.1127 - mae: 7.1127\n",
            "Epoch 54/100\n",
            "1/1 [==============================] - 0s 4ms/step - loss: 7.1060 - mae: 7.1060\n",
            "Epoch 55/100\n",
            "1/1 [==============================] - 0s 5ms/step - loss: 7.0993 - mae: 7.0993\n",
            "Epoch 56/100\n",
            "1/1 [==============================] - 0s 3ms/step - loss: 7.0927 - mae: 7.0927\n",
            "Epoch 57/100\n",
            "1/1 [==============================] - 0s 5ms/step - loss: 7.0862 - mae: 7.0862\n",
            "Epoch 58/100\n",
            "1/1 [==============================] - 0s 5ms/step - loss: 7.0797 - mae: 7.0797\n",
            "Epoch 59/100\n",
            "1/1 [==============================] - 0s 3ms/step - loss: 7.0732 - mae: 7.0732\n",
            "Epoch 60/100\n",
            "1/1 [==============================] - 0s 5ms/step - loss: 7.0668 - mae: 7.0668\n",
            "Epoch 61/100\n",
            "1/1 [==============================] - 0s 5ms/step - loss: 7.0604 - mae: 7.0604\n",
            "Epoch 62/100\n",
            "1/1 [==============================] - 0s 3ms/step - loss: 7.0541 - mae: 7.0541\n",
            "Epoch 63/100\n",
            "1/1 [==============================] - 0s 3ms/step - loss: 7.0477 - mae: 7.0477\n",
            "Epoch 64/100\n",
            "1/1 [==============================] - 0s 5ms/step - loss: 7.0414 - mae: 7.0414\n",
            "Epoch 65/100\n",
            "1/1 [==============================] - 0s 5ms/step - loss: 7.0351 - mae: 7.0351\n",
            "Epoch 66/100\n",
            "1/1 [==============================] - 0s 3ms/step - loss: 7.0288 - mae: 7.0288\n",
            "Epoch 67/100\n",
            "1/1 [==============================] - 0s 5ms/step - loss: 7.0225 - mae: 7.0225\n",
            "Epoch 68/100\n",
            "1/1 [==============================] - 0s 3ms/step - loss: 7.0162 - mae: 7.0162\n",
            "Epoch 69/100\n",
            "1/1 [==============================] - 0s 5ms/step - loss: 7.0099 - mae: 7.0099\n",
            "Epoch 70/100\n",
            "1/1 [==============================] - 0s 4ms/step - loss: 7.0036 - mae: 7.0036\n",
            "Epoch 71/100\n",
            "1/1 [==============================] - 0s 3ms/step - loss: 6.9973 - mae: 6.9973\n",
            "Epoch 72/100\n",
            "1/1 [==============================] - 0s 4ms/step - loss: 6.9911 - mae: 6.9911\n",
            "Epoch 73/100\n",
            "1/1 [==============================] - 0s 4ms/step - loss: 6.9848 - mae: 6.9848\n",
            "Epoch 74/100\n",
            "1/1 [==============================] - 0s 4ms/step - loss: 6.9785 - mae: 6.9785\n",
            "Epoch 75/100\n",
            "1/1 [==============================] - 0s 6ms/step - loss: 6.9722 - mae: 6.9722\n",
            "Epoch 76/100\n",
            "1/1 [==============================] - 0s 3ms/step - loss: 6.9660 - mae: 6.9660\n",
            "Epoch 77/100\n",
            "1/1 [==============================] - 0s 3ms/step - loss: 6.9597 - mae: 6.9597\n",
            "Epoch 78/100\n",
            "1/1 [==============================] - 0s 3ms/step - loss: 6.9534 - mae: 6.9534\n",
            "Epoch 79/100\n",
            "1/1 [==============================] - 0s 6ms/step - loss: 6.9471 - mae: 6.9471\n",
            "Epoch 80/100\n",
            "1/1 [==============================] - 0s 4ms/step - loss: 6.9408 - mae: 6.9408\n",
            "Epoch 81/100\n",
            "1/1 [==============================] - 0s 3ms/step - loss: 6.9345 - mae: 6.9345\n",
            "Epoch 82/100\n",
            "1/1 [==============================] - 0s 4ms/step - loss: 6.9282 - mae: 6.9282\n",
            "Epoch 83/100\n",
            "1/1 [==============================] - 0s 4ms/step - loss: 6.9218 - mae: 6.9218\n",
            "Epoch 84/100\n",
            "1/1 [==============================] - 0s 7ms/step - loss: 6.9155 - mae: 6.9155\n",
            "Epoch 85/100\n",
            "1/1 [==============================] - 0s 3ms/step - loss: 6.9092 - mae: 6.9092\n",
            "Epoch 86/100\n",
            "1/1 [==============================] - 0s 6ms/step - loss: 6.9028 - mae: 6.9028\n",
            "Epoch 87/100\n",
            "1/1 [==============================] - 0s 6ms/step - loss: 6.8965 - mae: 6.8965\n",
            "Epoch 88/100\n",
            "1/1 [==============================] - 0s 3ms/step - loss: 6.8901 - mae: 6.8901\n",
            "Epoch 89/100\n",
            "1/1 [==============================] - 0s 4ms/step - loss: 6.8837 - mae: 6.8837\n",
            "Epoch 90/100\n",
            "1/1 [==============================] - 0s 3ms/step - loss: 6.8774 - mae: 6.8774\n",
            "Epoch 91/100\n",
            "1/1 [==============================] - 0s 4ms/step - loss: 6.8710 - mae: 6.8710\n",
            "Epoch 92/100\n",
            "1/1 [==============================] - 0s 7ms/step - loss: 6.8646 - mae: 6.8646\n",
            "Epoch 93/100\n",
            "1/1 [==============================] - 0s 8ms/step - loss: 6.8582 - mae: 6.8582\n",
            "Epoch 94/100\n",
            "1/1 [==============================] - 0s 4ms/step - loss: 6.8518 - mae: 6.8518\n",
            "Epoch 95/100\n",
            "1/1 [==============================] - 0s 7ms/step - loss: 6.8454 - mae: 6.8454\n",
            "Epoch 96/100\n",
            "1/1 [==============================] - 0s 5ms/step - loss: 6.8389 - mae: 6.8389\n",
            "Epoch 97/100\n",
            "1/1 [==============================] - 0s 6ms/step - loss: 6.8325 - mae: 6.8325\n",
            "Epoch 98/100\n",
            "1/1 [==============================] - 0s 5ms/step - loss: 6.8261 - mae: 6.8261\n",
            "Epoch 99/100\n",
            "1/1 [==============================] - 0s 4ms/step - loss: 6.8196 - mae: 6.8196\n",
            "Epoch 100/100\n",
            "1/1 [==============================] - 0s 5ms/step - loss: 6.8131 - mae: 6.8131\n"
          ]
        },
        {
          "output_type": "execute_result",
          "data": {
            "text/plain": [
              "<keras.callbacks.History at 0x7f6385730990>"
            ]
          },
          "metadata": {},
          "execution_count": 14
        }
      ]
    },
    {
      "cell_type": "code",
      "metadata": {
        "colab": {
          "base_uri": "https://localhost:8080/"
        },
        "id": "_eQeVh0TSGdI",
        "outputId": "b9093e29-6bff-4351-9864-078ceb53a3e7"
      },
      "source": [
        "model.predict([17.0])"
      ],
      "execution_count": null,
      "outputs": [
        {
          "output_type": "execute_result",
          "data": {
            "text/plain": [
              "array([[31.336485]], dtype=float32)"
            ]
          },
          "metadata": {},
          "execution_count": 15
        }
      ]
    },
    {
      "cell_type": "markdown",
      "metadata": {
        "id": "z7at9GvvVEqU"
      },
      "source": [
        "Evaluating a Model \n",
        "\n",
        "In practice a typical workflow you'll go through when building neural networks is : \n",
        "\n",
        "```\n",
        "Build a model -> fit it -> evaluate it -> tweak a model -> fit it -> evaluate it -> tweak a model -> fit it -> evaluate it...\n",
        "```"
      ]
    },
    {
      "cell_type": "markdown",
      "metadata": {
        "id": "EH6ylR0vW4Cu"
      },
      "source": [
        "When it comes to evaluation ... there are 3 word you should memorize:\n",
        "\"Visualize,Visualize,Visualize\"\n",
        "\n",
        "Its a good idea to visualize:\n",
        "* The data - what data are we working with?what does it look like?\n",
        "* The model itself - what does our model look like?\n",
        "* The training of a model - how does a model perform while its learns?\n",
        "* The prediction of the model - how do the prediction of the model line up against the ground truth(the original labels)?"
      ]
    },
    {
      "cell_type": "code",
      "metadata": {
        "colab": {
          "base_uri": "https://localhost:8080/"
        },
        "id": "Ei5a9NCySRpD",
        "outputId": "f6fc6776-3efc-4910-c7b9-726f517d151d"
      },
      "source": [
        "#Create a big data \n",
        "x=tf.range(-100,100,2)\n",
        "x"
      ],
      "execution_count": null,
      "outputs": [
        {
          "output_type": "execute_result",
          "data": {
            "text/plain": [
              "<tf.Tensor: shape=(100,), dtype=int32, numpy=\n",
              "array([-100,  -98,  -96,  -94,  -92,  -90,  -88,  -86,  -84,  -82,  -80,\n",
              "        -78,  -76,  -74,  -72,  -70,  -68,  -66,  -64,  -62,  -60,  -58,\n",
              "        -56,  -54,  -52,  -50,  -48,  -46,  -44,  -42,  -40,  -38,  -36,\n",
              "        -34,  -32,  -30,  -28,  -26,  -24,  -22,  -20,  -18,  -16,  -14,\n",
              "        -12,  -10,   -8,   -6,   -4,   -2,    0,    2,    4,    6,    8,\n",
              "         10,   12,   14,   16,   18,   20,   22,   24,   26,   28,   30,\n",
              "         32,   34,   36,   38,   40,   42,   44,   46,   48,   50,   52,\n",
              "         54,   56,   58,   60,   62,   64,   66,   68,   70,   72,   74,\n",
              "         76,   78,   80,   82,   84,   86,   88,   90,   92,   94,   96,\n",
              "         98], dtype=int32)>"
            ]
          },
          "metadata": {},
          "execution_count": 16
        }
      ]
    },
    {
      "cell_type": "code",
      "metadata": {
        "id": "pPFGDv4NZLSD"
      },
      "source": [
        "y=x+10"
      ],
      "execution_count": null,
      "outputs": []
    },
    {
      "cell_type": "code",
      "metadata": {
        "colab": {
          "base_uri": "https://localhost:8080/"
        },
        "id": "i_BSlF2GZPfS",
        "outputId": "3882520d-12f7-4f3d-e645-048360edebaa"
      },
      "source": [
        "y"
      ],
      "execution_count": null,
      "outputs": [
        {
          "output_type": "execute_result",
          "data": {
            "text/plain": [
              "<tf.Tensor: shape=(100,), dtype=int32, numpy=\n",
              "array([-90, -88, -86, -84, -82, -80, -78, -76, -74, -72, -70, -68, -66,\n",
              "       -64, -62, -60, -58, -56, -54, -52, -50, -48, -46, -44, -42, -40,\n",
              "       -38, -36, -34, -32, -30, -28, -26, -24, -22, -20, -18, -16, -14,\n",
              "       -12, -10,  -8,  -6,  -4,  -2,   0,   2,   4,   6,   8,  10,  12,\n",
              "        14,  16,  18,  20,  22,  24,  26,  28,  30,  32,  34,  36,  38,\n",
              "        40,  42,  44,  46,  48,  50,  52,  54,  56,  58,  60,  62,  64,\n",
              "        66,  68,  70,  72,  74,  76,  78,  80,  82,  84,  86,  88,  90,\n",
              "        92,  94,  96,  98, 100, 102, 104, 106, 108], dtype=int32)>"
            ]
          },
          "metadata": {},
          "execution_count": 18
        }
      ]
    },
    {
      "cell_type": "code",
      "metadata": {
        "colab": {
          "base_uri": "https://localhost:8080/",
          "height": 282
        },
        "id": "aQtRE4TSaDOd",
        "outputId": "dae25d3d-40e4-44f0-f363-cda0f2b20737"
      },
      "source": [
        "import matplotlib.pyplot as plt\n",
        "plt.scatter(x,y)"
      ],
      "execution_count": null,
      "outputs": [
        {
          "output_type": "execute_result",
          "data": {
            "text/plain": [
              "<matplotlib.collections.PathCollection at 0x7f6385686150>"
            ]
          },
          "metadata": {},
          "execution_count": 19
        },
        {
          "output_type": "display_data",
          "data": {
            "image/png": "[encoded data removed]",
            "text/plain": [
              "<Figure size 432x288 with 1 Axes>"
            ]
          },
          "metadata": {
            "needs_background": "light"
          }
        }
      ]
    },
    {
      "cell_type": "markdown",
      "metadata": {
        "id": "j0bOq8QedWSd"
      },
      "source": [
        "### The 3 Sets...\n",
        "\n",
        "* **Training set** - the model learns from this data, which is typically 70-80% of the total data you have available.\n",
        "* **Validation set** - the model gets tuned on this data, which is typically 10-15% of the data available\n",
        "* **Test set** - the model gets evaluated on this data to test what ioy has learned,this set is typically 10-15% of the total data available."
      ]
    },
    {
      "cell_type": "code",
      "metadata": {
        "colab": {
          "base_uri": "https://localhost:8080/"
        },
        "id": "ZS3W01L3byRU",
        "outputId": "06c6b9db-ebfe-44d0-ea7b-94c89a8ee799"
      },
      "source": [
        "x_train=x[:80]\n",
        "x_test=x[80:]\n",
        "\n",
        "y_train=y[:80]\n",
        "y_test=y[80:]\n",
        "\n",
        "len(x_train),len(x_test),len(y_train),len(y_test)"
      ],
      "execution_count": null,
      "outputs": [
        {
          "output_type": "execute_result",
          "data": {
            "text/plain": [
              "(80, 20, 80, 20)"
            ]
          },
          "metadata": {},
          "execution_count": 20
        }
      ]
    },
    {
      "cell_type": "code",
      "metadata": {
        "colab": {
          "base_uri": "https://localhost:8080/",
          "height": 428
        },
        "id": "WVKS4MR3xlmq",
        "outputId": "8db7d718-9673-49bd-9d81-8bdd6b6239c2"
      },
      "source": [
        "plt.figure(figsize=(10,7))\n",
        "plt.scatter(x_train,y_train,c=\"skyblue\",label=\"Training data\")\n",
        "plt.scatter(x_test,y_test,c=\"orange\",label=\"Testing data\")\n",
        "plt.legend();"
      ],
      "execution_count": null,
      "outputs": [
        {
          "output_type": "display_data",
          "data": {
            "image/png": "[encoded data removed]",
            "text/plain": [
              "<Figure size 720x504 with 1 Axes>"
            ]
          },
          "metadata": {
            "needs_background": "light"
          }
        }
      ]
    },
    {
      "cell_type": "code",
      "metadata": {
        "colab": {
          "base_uri": "https://localhost:8080/"
        },
        "id": "IxQR4NzHzJEQ",
        "outputId": "0c04fb3f-21b8-4564-c98b-c98311ee1312"
      },
      "source": [
        "model=tf.keras.Sequential([\n",
        "  tf.keras.layers.Dense(10,input_shape=[1],name=\"input_layer_1\"),\n",
        "  tf.keras.layers.Dense(10,input_shape=[1],name=\"input_layer_2\"),\n",
        "  tf.keras.layers.Dense(1,name=\"output_layer\")\n",
        "])\n",
        "model.compile(loss=tf.keras.losses.mae,\n",
        "              optimizer=tf.keras.optimizers.Adam(lr=0.01),\n",
        "              metrics=[\"mae\"])\n"
      ],
      "execution_count": null,
      "outputs": [
        {
          "output_type": "stream",
          "name": "stderr",
          "text": [
            "/usr/local/lib/python3.7/dist-packages/keras/optimizer_v2/optimizer_v2.py:356: UserWarning: The `lr` argument is deprecated, use `learning_rate` instead.\n",
            "  \"The `lr` argument is deprecated, use `learning_rate` instead.\")\n"
          ]
        }
      ]
    },
    {
      "cell_type": "code",
      "metadata": {
        "colab": {
          "base_uri": "https://localhost:8080/"
        },
        "id": "6XpDxKRjfT7V",
        "outputId": "683b7b71-3b3f-4ebf-d19a-6379ac1a34e4"
      },
      "source": [
        "model.summary()"
      ],
      "execution_count": null,
      "outputs": [
        {
          "output_type": "stream",
          "name": "stdout",
          "text": [
            "Model: \"sequential_3\"\n",
            "_________________________________________________________________\n",
            "Layer (type)                 Output Shape              Param #   \n",
            "=================================================================\n",
            "input_layer_1 (Dense)        (None, 10)                20        \n",
            "_________________________________________________________________\n",
            "input_layer_2 (Dense)        (None, 10)                110       \n",
            "_________________________________________________________________\n",
            "output_layer (Dense)         (None, 1)                 11        \n",
            "=================================================================\n",
            "Total params: 141\n",
            "Trainable params: 141\n",
            "Non-trainable params: 0\n",
            "_________________________________________________________________\n"
          ]
        }
      ]
    },
    {
      "cell_type": "markdown",
      "metadata": {
        "id": "cvN7R-e_hobz"
      },
      "source": [
        "* Total param(parameters) - Total number of parameters in the model.\n",
        "* Trainable parameters - these are the parameters (patterns) the model can update as it trains.\n",
        "* Non-trainable params - these parameters aren't updated during training(this is typical when you bring in already learn patterns or parameters from other models during **transfer learning**"
      ]
    },
    {
      "cell_type": "code",
      "metadata": {
        "colab": {
          "base_uri": "https://localhost:8080/"
        },
        "id": "F40ZbAzEhyow",
        "outputId": "32d7ece5-56bc-415f-b5b2-1f88f1e4314a"
      },
      "source": [
        "model.fit(x_train,y_train,epochs=100,verbose=0)"
      ],
      "execution_count": null,
      "outputs": [
        {
          "output_type": "execute_result",
          "data": {
            "text/plain": [
              "<keras.callbacks.History at 0x7f6382b8a650>"
            ]
          },
          "metadata": {},
          "execution_count": 24
        }
      ]
    },
    {
      "cell_type": "code",
      "metadata": {
        "colab": {
          "base_uri": "https://localhost:8080/",
          "height": 422
        },
        "id": "fzX20VX8f0i3",
        "outputId": "0a221d73-ddf7-4bfe-803f-fd84a28ed884"
      },
      "source": [
        "from tensorflow.keras.utils import plot_model\n",
        "plot_model(model=model, show_shapes=True)"
      ],
      "execution_count": null,
      "outputs": [
        {
          "output_type": "execute_result",
          "data": {
            "image/png": "[encoded data removed]",
            "text/plain": [
              "<IPython.core.display.Image object>"
            ]
          },
          "metadata": {},
          "execution_count": 25
        }
      ]
    },
    {
      "cell_type": "markdown",
      "metadata": {
        "id": "9i8NIPTo0laD"
      },
      "source": [
        "### Vizualizing our model predictions \n",
        "\n",
        "To visualize predictions, it's a good idea to plot them against the ground truth labels.Often you'll see this form of `y_test` or `y_true` versus `y_pred` (ground truth versus your model predictions)"
      ]
    },
    {
      "cell_type": "code",
      "metadata": {
        "colab": {
          "base_uri": "https://localhost:8080/"
        },
        "id": "mZtsQ1UW48Tx",
        "outputId": "c51d1e03-1118-48b1-8f85-a5529e67063f"
      },
      "source": [
        "y_pred = model.predict(x_test)\n",
        "y_pred"
      ],
      "execution_count": null,
      "outputs": [
        {
          "output_type": "execute_result",
          "data": {
            "text/plain": [
              "array([[ 73.01837 ],\n",
              "       [ 75.11727 ],\n",
              "       [ 77.21617 ],\n",
              "       [ 79.31507 ],\n",
              "       [ 81.41398 ],\n",
              "       [ 83.512886],\n",
              "       [ 85.611786],\n",
              "       [ 87.71069 ],\n",
              "       [ 89.80959 ],\n",
              "       [ 91.908485],\n",
              "       [ 94.0074  ],\n",
              "       [ 96.1063  ],\n",
              "       [ 98.2052  ],\n",
              "       [100.30411 ],\n",
              "       [102.403   ],\n",
              "       [104.50191 ],\n",
              "       [106.60081 ],\n",
              "       [108.699715],\n",
              "       [110.798615],\n",
              "       [112.89753 ]], dtype=float32)"
            ]
          },
          "metadata": {},
          "execution_count": 26
        }
      ]
    },
    {
      "cell_type": "code",
      "metadata": {
        "colab": {
          "base_uri": "https://localhost:8080/"
        },
        "id": "fIN4D8BicW6Q",
        "outputId": "accbae05-afb7-4350-dfa0-27ae55f3a1d5"
      },
      "source": [
        "y_test"
      ],
      "execution_count": null,
      "outputs": [
        {
          "output_type": "execute_result",
          "data": {
            "text/plain": [
              "<tf.Tensor: shape=(20,), dtype=int32, numpy=\n",
              "array([ 70,  72,  74,  76,  78,  80,  82,  84,  86,  88,  90,  92,  94,\n",
              "        96,  98, 100, 102, 104, 106, 108], dtype=int32)>"
            ]
          },
          "metadata": {},
          "execution_count": 27
        }
      ]
    },
    {
      "cell_type": "code",
      "metadata": {
        "id": "LdNoEkincgmQ"
      },
      "source": [
        "def plot_prediction(train_data=x_train,\n",
        "                    train_labels=y_train,\n",
        "                    test_data=x_test,\n",
        "                    test_labels=y_test,\n",
        "                    predictions=y_pred):\n",
        "  plt.figure(figsize=(10,7))\n",
        "  plt.scatter(train_data,train_labels,c=\"b\",label=\"Training Data\")\n",
        "  plt.scatter(test_data,test_labels,c=\"g\",label=\"Testing Data\")\n",
        "  plt.scatter(test_data,predictions,c=\"r\",label=\"Predictions\")\n",
        "  plt.legend();"
      ],
      "execution_count": null,
      "outputs": []
    },
    {
      "cell_type": "code",
      "metadata": {
        "colab": {
          "base_uri": "https://localhost:8080/",
          "height": 428
        },
        "id": "a-h2YJFSf9ig",
        "outputId": "e10c2628-97cd-43bd-cf0f-b2eb3c58f474"
      },
      "source": [
        "plot_prediction(train_data=x_train,\n",
        "                train_labels=y_train,\n",
        "                test_data=x_test,\n",
        "                test_labels=y_test,\n",
        "                predictions=y_pred)"
      ],
      "execution_count": null,
      "outputs": [
        {
          "output_type": "display_data",
          "data": {
            "image/png": "[encoded data removed]",
            "text/plain": [
              "<Figure size 720x504 with 1 Axes>"
            ]
          },
          "metadata": {
            "needs_background": "light"
          }
        }
      ]
    },
    {
      "cell_type": "code",
      "metadata": {
        "colab": {
          "base_uri": "https://localhost:8080/"
        },
        "id": "nuz-GoXCBODH",
        "outputId": "f09952e8-2f7f-425d-e693-2d79ad606c7f"
      },
      "source": [
        "model.predict([112])"
      ],
      "execution_count": null,
      "outputs": [
        {
          "output_type": "stream",
          "name": "stdout",
          "text": [
            "WARNING:tensorflow:5 out of the last 5 calls to <function Model.make_predict_function.<locals>.predict_function at 0x7f6385694050> triggered tf.function retracing. Tracing is expensive and the excessive number of tracings could be due to (1) creating @tf.function repeatedly in a loop, (2) passing tensors with different shapes, (3) passing Python objects instead of tensors. For (1), please define your @tf.function outside of the loop. For (2), @tf.function has experimental_relax_shapes=True option that relaxes argument shapes that can avoid unnecessary retracing. For (3), please refer to https://www.tensorflow.org/guide/function#controlling_retracing and https://www.tensorflow.org/api_docs/python/tf/function for  more details.\n"
          ]
        },
        {
          "output_type": "execute_result",
          "data": {
            "text/plain": [
              "array([[127.589836]], dtype=float32)"
            ]
          },
          "metadata": {},
          "execution_count": 30
        }
      ]
    },
    {
      "cell_type": "markdown",
      "metadata": {
        "id": "0yesh4QqhQdH"
      },
      "source": [
        "###Evaluating our model's prediction with regression evaluation metrics\n",
        "\n",
        "Depending on the problem you're working on, there will be different evaluation metrics to evaluate your model's performance.\n",
        "\n",
        "Since we're working on regression, two of the main metrics:\n",
        "* MAE - mean absolute error, \"on average, how wrong is each of my model's predictions\"\n",
        "* MSE - mean sruare error, \"square the average error\"\n"
      ]
    },
    {
      "cell_type": "code",
      "metadata": {
        "colab": {
          "base_uri": "https://localhost:8080/"
        },
        "id": "ecq9pX4Pg9w6",
        "outputId": "08d98f7d-f7c5-42ba-d82a-bd078f5ea3ed"
      },
      "source": [
        "model.evaluate(x_test,y_test)"
      ],
      "execution_count": null,
      "outputs": [
        {
          "output_type": "stream",
          "name": "stdout",
          "text": [
            "1/1 [==============================] - 0s 151ms/step - loss: 3.9579 - mae: 3.9579\n"
          ]
        },
        {
          "output_type": "execute_result",
          "data": {
            "text/plain": [
              "[3.957944869995117, 3.957944869995117]"
            ]
          },
          "metadata": {},
          "execution_count": 31
        }
      ]
    },
    {
      "cell_type": "code",
      "metadata": {
        "colab": {
          "base_uri": "https://localhost:8080/"
        },
        "id": "2oqUGWk85hQ7",
        "outputId": "9c4b7bc0-f0f2-43b9-884f-261d0bb53888"
      },
      "source": [
        "tf.keras.losses.MAE(y_test,tf.constant(y_pred))"
      ],
      "execution_count": null,
      "outputs": [
        {
          "output_type": "execute_result",
          "data": {
            "text/plain": [
              "<tf.Tensor: shape=(20,), dtype=float32, numpy=\n",
              "array([16.385303, 14.817911, 13.470297, 12.342464, 11.434408, 10.746134,\n",
              "       10.277643, 10.028931, 10.      , 10.190848, 10.602221, 11.24252 ,\n",
              "       12.1026  , 13.182465, 14.4821  , 16.001526, 17.740726, 19.699715,\n",
              "       21.798615, 23.89753 ], dtype=float32)>"
            ]
          },
          "metadata": {},
          "execution_count": 32
        }
      ]
    },
    {
      "cell_type": "code",
      "metadata": {
        "colab": {
          "base_uri": "https://localhost:8080/"
        },
        "id": "pl_NkBgc5Ce-",
        "outputId": "c7a607e8-3e52-4219-ca05-8d9785cbb3ea"
      },
      "source": [
        "tf.constant(y_pred)"
      ],
      "execution_count": null,
      "outputs": [
        {
          "output_type": "execute_result",
          "data": {
            "text/plain": [
              "<tf.Tensor: shape=(20, 1), dtype=float32, numpy=\n",
              "array([[ 73.01837 ],\n",
              "       [ 75.11727 ],\n",
              "       [ 77.21617 ],\n",
              "       [ 79.31507 ],\n",
              "       [ 81.41398 ],\n",
              "       [ 83.512886],\n",
              "       [ 85.611786],\n",
              "       [ 87.71069 ],\n",
              "       [ 89.80959 ],\n",
              "       [ 91.908485],\n",
              "       [ 94.0074  ],\n",
              "       [ 96.1063  ],\n",
              "       [ 98.2052  ],\n",
              "       [100.30411 ],\n",
              "       [102.403   ],\n",
              "       [104.50191 ],\n",
              "       [106.60081 ],\n",
              "       [108.699715],\n",
              "       [110.798615],\n",
              "       [112.89753 ]], dtype=float32)>"
            ]
          },
          "metadata": {},
          "execution_count": 33
        }
      ]
    },
    {
      "cell_type": "code",
      "metadata": {
        "colab": {
          "base_uri": "https://localhost:8080/"
        },
        "id": "ev1i6i5R5dUl",
        "outputId": "0c78ab18-f883-4778-f9d2-2f751bc1d3ef"
      },
      "source": [
        "y_test"
      ],
      "execution_count": null,
      "outputs": [
        {
          "output_type": "execute_result",
          "data": {
            "text/plain": [
              "<tf.Tensor: shape=(20,), dtype=int32, numpy=\n",
              "array([ 70,  72,  74,  76,  78,  80,  82,  84,  86,  88,  90,  92,  94,\n",
              "        96,  98, 100, 102, 104, 106, 108], dtype=int32)>"
            ]
          },
          "metadata": {},
          "execution_count": 34
        }
      ]
    },
    {
      "cell_type": "code",
      "metadata": {
        "colab": {
          "base_uri": "https://localhost:8080/"
        },
        "id": "308paVQF6dm8",
        "outputId": "57c56193-c306-4281-8636-aaafce26fa99"
      },
      "source": [
        "tf.squeeze(y_pred)"
      ],
      "execution_count": null,
      "outputs": [
        {
          "output_type": "execute_result",
          "data": {
            "text/plain": [
              "<tf.Tensor: shape=(20,), dtype=float32, numpy=\n",
              "array([ 73.01837 ,  75.11727 ,  77.21617 ,  79.31507 ,  81.41398 ,\n",
              "        83.512886,  85.611786,  87.71069 ,  89.80959 ,  91.908485,\n",
              "        94.0074  ,  96.1063  ,  98.2052  , 100.30411 , 102.403   ,\n",
              "       104.50191 , 106.60081 , 108.699715, 110.798615, 112.89753 ],\n",
              "      dtype=float32)>"
            ]
          },
          "metadata": {},
          "execution_count": 35
        }
      ]
    },
    {
      "cell_type": "code",
      "metadata": {
        "colab": {
          "base_uri": "https://localhost:8080/"
        },
        "id": "UbI7V0W88Riw",
        "outputId": "37b04f7b-3805-4c74-9365-fcff800db835"
      },
      "source": [
        "mae=tf.metrics.mean_absolute_error(y_true=y_test,\n",
        "                                   y_pred=tf.squeeze(y_pred))\n",
        "mae"
      ],
      "execution_count": null,
      "outputs": [
        {
          "output_type": "execute_result",
          "data": {
            "text/plain": [
              "<tf.Tensor: shape=(), dtype=float32, numpy=3.9579444>"
            ]
          },
          "metadata": {},
          "execution_count": 36
        }
      ]
    },
    {
      "cell_type": "code",
      "metadata": {
        "colab": {
          "base_uri": "https://localhost:8080/"
        },
        "id": "-iViXZMH8sGz",
        "outputId": "84d53460-3408-407c-af50-bd979bf6e4ef"
      },
      "source": [
        "tf.keras.losses.MSE(y_test,tf.squeeze(y_pred))"
      ],
      "execution_count": null,
      "outputs": [
        {
          "output_type": "execute_result",
          "data": {
            "text/plain": [
              "<tf.Tensor: shape=(), dtype=float32, numpy=15.990567>"
            ]
          },
          "metadata": {},
          "execution_count": 37
        }
      ]
    },
    {
      "cell_type": "code",
      "metadata": {
        "id": "lUQkTZxz9Yyt"
      },
      "source": [
        "def mae(y_true,y_pred):\n",
        "  return tf.metrics.mean_absolute_error(y_true=y_true,\n",
        "                                        y_pred=tf.squeeze(y_pred))\n",
        "\n",
        "  \n",
        "def mse(y_true,y_pred):\n",
        "  return tf.metrics.mean_squared_error(y_true=y_true,\n",
        "                                       y_pred=tf.squeeze(y_pred))"
      ],
      "execution_count": null,
      "outputs": []
    },
    {
      "cell_type": "markdown",
      "metadata": {
        "id": "tPPdxuVs_h1I"
      },
      "source": [
        "### Running experiments to improve our model\n",
        "\n",
        "```\n",
        "Build a model -> fit it -> evaluate it -\n",
        "> tweak it -> fit it -> evaluate it -> tweak it -> fit it -> evaluate it....\n",
        "```\n",
        "\n",
        "1. Get more data - get more examples for your model to train on (more opportunities to learn patterns or relationships between features and labels).\n",
        "2. Make your modal larger (using a more complex model) - this might come in the form of more layers or more hidden units in each layer.\n",
        "3. Train for longer - give your model more of a chance to find patterns in the data.\n",
        "\n",
        "Let's do 3 modelling experiments:\n",
        "\n",
        "1. `model_1` - Same as the original model, 1 layer, trained for 100 epochs.\n",
        "2. `model_2` - 2 layers,trained for 100 epochs.```````````````````````\n",
        "3. `model_3` - 2 layers,trained for 500 epochs."
      ]
    },
    {
      "cell_type": "code",
      "metadata": {
        "colab": {
          "base_uri": "https://localhost:8080/"
        },
        "id": "30ONf3M4-1js",
        "outputId": "91530a7a-1885-4a39-fa79-83cdd47b6de5"
      },
      "source": [
        "tf.random.set_seed(42)\n",
        "model_1=tf.keras.Sequential([\n",
        "  tf.keras.layers.Dense(10),\n",
        "  tf.keras.layers.Dense(1)\n",
        "])\n",
        "model_1.compile(loss=tf.keras.losses.mse,\n",
        "                optimizer=tf.keras.optimizers.Adam(lr=0.01),\n",
        "                metrics=[\"mse\"])\n",
        "model_1.fit(x_train,y_train,epochs=500)"
      ],
      "execution_count": null,
      "outputs": [
        {
          "output_type": "stream",
          "name": "stdout",
          "text": [
            "Epoch 1/500\n"
          ]
        },
        {
          "output_type": "stream",
          "name": "stderr",
          "text": [
            "/usr/local/lib/python3.7/dist-packages/keras/optimizer_v2/optimizer_v2.py:356: UserWarning: The `lr` argument is deprecated, use `learning_rate` instead.\n",
            "  \"The `lr` argument is deprecated, use `learning_rate` instead.\")\n"
          ]
        },
        {
          "output_type": "stream",
          "name": "stdout",
          "text": [
            "3/3 [==============================] - 0s 2ms/step - loss: 748.5167 - mse: 748.5167\n",
            "Epoch 2/500\n",
            "3/3 [==============================] - 0s 4ms/step - loss: 314.3088 - mse: 314.3088\n",
            "Epoch 3/500\n",
            "3/3 [==============================] - 0s 4ms/step - loss: 115.0752 - mse: 115.0752\n",
            "Epoch 4/500\n",
            "3/3 [==============================] - 0s 3ms/step - loss: 90.4366 - mse: 90.4366\n",
            "Epoch 5/500\n",
            "3/3 [==============================] - 0s 3ms/step - loss: 135.5509 - mse: 135.5509\n",
            "Epoch 6/500\n",
            "3/3 [==============================] - 0s 3ms/step - loss: 158.8615 - mse: 158.8615\n",
            "Epoch 7/500\n",
            "3/3 [==============================] - 0s 5ms/step - loss: 129.1371 - mse: 129.1371\n",
            "Epoch 8/500\n",
            "3/3 [==============================] - 0s 4ms/step - loss: 91.5364 - mse: 91.5364\n",
            "Epoch 9/500\n",
            "3/3 [==============================] - 0s 4ms/step - loss: 71.7937 - mse: 71.7937\n",
            "Epoch 10/500\n",
            "3/3 [==============================] - 0s 3ms/step - loss: 76.4053 - mse: 76.4053\n",
            "Epoch 11/500\n",
            "3/3 [==============================] - 0s 3ms/step - loss: 82.4603 - mse: 82.4603\n",
            "Epoch 12/500\n",
            "3/3 [==============================] - 0s 4ms/step - loss: 77.7940 - mse: 77.7940\n",
            "Epoch 13/500\n",
            "3/3 [==============================] - 0s 3ms/step - loss: 67.8653 - mse: 67.8653\n",
            "Epoch 14/500\n",
            "3/3 [==============================] - 0s 3ms/step - loss: 62.7544 - mse: 62.7544\n",
            "Epoch 15/500\n",
            "3/3 [==============================] - 0s 3ms/step - loss: 61.4069 - mse: 61.4069\n",
            "Epoch 16/500\n",
            "3/3 [==============================] - 0s 3ms/step - loss: 62.0437 - mse: 62.0437\n",
            "Epoch 17/500\n",
            "3/3 [==============================] - 0s 3ms/step - loss: 59.9876 - mse: 59.9876\n",
            "Epoch 18/500\n",
            "3/3 [==============================] - 0s 4ms/step - loss: 56.4324 - mse: 56.4324\n",
            "Epoch 19/500\n",
            "3/3 [==============================] - 0s 4ms/step - loss: 53.1314 - mse: 53.1314\n",
            "Epoch 20/500\n",
            "3/3 [==============================] - 0s 3ms/step - loss: 51.9320 - mse: 51.9320\n",
            "Epoch 21/500\n",
            "3/3 [==============================] - 0s 4ms/step - loss: 51.0259 - mse: 51.0259\n",
            "Epoch 22/500\n",
            "3/3 [==============================] - 0s 5ms/step - loss: 49.3737 - mse: 49.3737\n",
            "Epoch 23/500\n",
            "3/3 [==============================] - 0s 5ms/step - loss: 46.8032 - mse: 46.8032\n",
            "Epoch 24/500\n",
            "3/3 [==============================] - 0s 4ms/step - loss: 45.0747 - mse: 45.0747\n",
            "Epoch 25/500\n",
            "3/3 [==============================] - 0s 3ms/step - loss: 44.0959 - mse: 44.0959\n",
            "Epoch 26/500\n",
            "3/3 [==============================] - 0s 7ms/step - loss: 42.4838 - mse: 42.4838\n",
            "Epoch 27/500\n",
            "3/3 [==============================] - 0s 8ms/step - loss: 40.7926 - mse: 40.7926\n",
            "Epoch 28/500\n",
            "3/3 [==============================] - 0s 5ms/step - loss: 39.3876 - mse: 39.3876\n",
            "Epoch 29/500\n",
            "3/3 [==============================] - 0s 3ms/step - loss: 37.9401 - mse: 37.9401\n",
            "Epoch 30/500\n",
            "3/3 [==============================] - 0s 3ms/step - loss: 36.4565 - mse: 36.4565\n",
            "Epoch 31/500\n",
            "3/3 [==============================] - 0s 5ms/step - loss: 35.0413 - mse: 35.0413\n",
            "Epoch 32/500\n",
            "3/3 [==============================] - 0s 3ms/step - loss: 33.8082 - mse: 33.8082\n",
            "Epoch 33/500\n",
            "3/3 [==============================] - 0s 4ms/step - loss: 32.5198 - mse: 32.5198\n",
            "Epoch 34/500\n",
            "3/3 [==============================] - 0s 3ms/step - loss: 31.1664 - mse: 31.1664\n",
            "Epoch 35/500\n",
            "3/3 [==============================] - 0s 3ms/step - loss: 29.8467 - mse: 29.8467\n",
            "Epoch 36/500\n",
            "3/3 [==============================] - 0s 3ms/step - loss: 28.6183 - mse: 28.6183\n",
            "Epoch 37/500\n",
            "3/3 [==============================] - 0s 4ms/step - loss: 27.4278 - mse: 27.4278\n",
            "Epoch 38/500\n",
            "3/3 [==============================] - 0s 5ms/step - loss: 26.2017 - mse: 26.2017\n",
            "Epoch 39/500\n",
            "3/3 [==============================] - 0s 3ms/step - loss: 25.0414 - mse: 25.0414\n",
            "Epoch 40/500\n",
            "3/3 [==============================] - 0s 4ms/step - loss: 23.9117 - mse: 23.9117\n",
            "Epoch 41/500\n",
            "3/3 [==============================] - 0s 3ms/step - loss: 22.8148 - mse: 22.8148\n",
            "Epoch 42/500\n",
            "3/3 [==============================] - 0s 4ms/step - loss: 21.9526 - mse: 21.9526\n",
            "Epoch 43/500\n",
            "3/3 [==============================] - 0s 3ms/step - loss: 20.7335 - mse: 20.7335\n",
            "Epoch 44/500\n",
            "3/3 [==============================] - 0s 7ms/step - loss: 19.7531 - mse: 19.7531\n",
            "Epoch 45/500\n",
            "3/3 [==============================] - 0s 4ms/step - loss: 18.8182 - mse: 18.8182\n",
            "Epoch 46/500\n",
            "3/3 [==============================] - 0s 4ms/step - loss: 17.8160 - mse: 17.8160\n",
            "Epoch 47/500\n",
            "3/3 [==============================] - 0s 3ms/step - loss: 16.8176 - mse: 16.8176\n",
            "Epoch 48/500\n",
            "3/3 [==============================] - 0s 2ms/step - loss: 16.1181 - mse: 16.1181\n",
            "Epoch 49/500\n",
            "3/3 [==============================] - 0s 2ms/step - loss: 15.1056 - mse: 15.1056\n",
            "Epoch 50/500\n",
            "3/3 [==============================] - 0s 2ms/step - loss: 14.2484 - mse: 14.2484\n",
            "Epoch 51/500\n",
            "3/3 [==============================] - 0s 3ms/step - loss: 13.4340 - mse: 13.4340\n",
            "Epoch 52/500\n",
            "3/3 [==============================] - 0s 6ms/step - loss: 12.6307 - mse: 12.6307\n",
            "Epoch 53/500\n",
            "3/3 [==============================] - 0s 5ms/step - loss: 11.8447 - mse: 11.8447\n",
            "Epoch 54/500\n",
            "3/3 [==============================] - 0s 3ms/step - loss: 11.1341 - mse: 11.1341\n",
            "Epoch 55/500\n",
            "3/3 [==============================] - 0s 3ms/step - loss: 10.4168 - mse: 10.4168\n",
            "Epoch 56/500\n",
            "3/3 [==============================] - 0s 4ms/step - loss: 9.8163 - mse: 9.8163\n",
            "Epoch 57/500\n",
            "3/3 [==============================] - 0s 5ms/step - loss: 9.1023 - mse: 9.1023\n",
            "Epoch 58/500\n",
            "3/3 [==============================] - 0s 5ms/step - loss: 8.5904 - mse: 8.5904\n",
            "Epoch 59/500\n",
            "3/3 [==============================] - 0s 2ms/step - loss: 7.9906 - mse: 7.9906\n",
            "Epoch 60/500\n",
            "3/3 [==============================] - 0s 3ms/step - loss: 7.4090 - mse: 7.4090\n",
            "Epoch 61/500\n",
            "3/3 [==============================] - 0s 3ms/step - loss: 6.8136 - mse: 6.8136\n",
            "Epoch 62/500\n",
            "3/3 [==============================] - 0s 3ms/step - loss: 6.2870 - mse: 6.2870\n",
            "Epoch 63/500\n",
            "3/3 [==============================] - 0s 3ms/step - loss: 5.7797 - mse: 5.7797\n",
            "Epoch 64/500\n",
            "3/3 [==============================] - 0s 2ms/step - loss: 5.4087 - mse: 5.4087\n",
            "Epoch 65/500\n",
            "3/3 [==============================] - 0s 3ms/step - loss: 4.9502 - mse: 4.9502\n",
            "Epoch 66/500\n",
            "3/3 [==============================] - 0s 3ms/step - loss: 4.5105 - mse: 4.5105\n",
            "Epoch 67/500\n",
            "3/3 [==============================] - 0s 2ms/step - loss: 4.1600 - mse: 4.1600\n",
            "Epoch 68/500\n",
            "3/3 [==============================] - 0s 3ms/step - loss: 3.8206 - mse: 3.8206\n",
            "Epoch 69/500\n",
            "3/3 [==============================] - 0s 3ms/step - loss: 3.4581 - mse: 3.4581\n",
            "Epoch 70/500\n",
            "3/3 [==============================] - 0s 4ms/step - loss: 3.1661 - mse: 3.1661\n",
            "Epoch 71/500\n",
            "3/3 [==============================] - 0s 3ms/step - loss: 2.9094 - mse: 2.9094\n",
            "Epoch 72/500\n",
            "3/3 [==============================] - 0s 3ms/step - loss: 2.6080 - mse: 2.6080\n",
            "Epoch 73/500\n",
            "3/3 [==============================] - 0s 3ms/step - loss: 2.3809 - mse: 2.3809\n",
            "Epoch 74/500\n",
            "3/3 [==============================] - 0s 3ms/step - loss: 2.1867 - mse: 2.1867\n",
            "Epoch 75/500\n",
            "3/3 [==============================] - 0s 3ms/step - loss: 1.9730 - mse: 1.9730\n",
            "Epoch 76/500\n",
            "3/3 [==============================] - 0s 3ms/step - loss: 1.7513 - mse: 1.7513\n",
            "Epoch 77/500\n",
            "3/3 [==============================] - 0s 3ms/step - loss: 1.5832 - mse: 1.5832\n",
            "Epoch 78/500\n",
            "3/3 [==============================] - 0s 4ms/step - loss: 1.4126 - mse: 1.4126\n",
            "Epoch 79/500\n",
            "3/3 [==============================] - 0s 7ms/step - loss: 1.2632 - mse: 1.2632\n",
            "Epoch 80/500\n",
            "3/3 [==============================] - 0s 5ms/step - loss: 1.1317 - mse: 1.1317\n",
            "Epoch 81/500\n",
            "3/3 [==============================] - 0s 4ms/step - loss: 1.0042 - mse: 1.0042\n",
            "Epoch 82/500\n",
            "3/3 [==============================] - 0s 3ms/step - loss: 0.9016 - mse: 0.9016\n",
            "Epoch 83/500\n",
            "3/3 [==============================] - 0s 4ms/step - loss: 0.7925 - mse: 0.7925\n",
            "Epoch 84/500\n",
            "3/3 [==============================] - 0s 4ms/step - loss: 0.6990 - mse: 0.6990\n",
            "Epoch 85/500\n",
            "3/3 [==============================] - 0s 3ms/step - loss: 0.6287 - mse: 0.6287\n",
            "Epoch 86/500\n",
            "3/3 [==============================] - 0s 4ms/step - loss: 0.5469 - mse: 0.5469\n",
            "Epoch 87/500\n",
            "3/3 [==============================] - 0s 2ms/step - loss: 0.4884 - mse: 0.4884\n",
            "Epoch 88/500\n",
            "3/3 [==============================] - 0s 4ms/step - loss: 0.4256 - mse: 0.4256\n",
            "Epoch 89/500\n",
            "3/3 [==============================] - 0s 5ms/step - loss: 0.3709 - mse: 0.3709\n",
            "Epoch 90/500\n",
            "3/3 [==============================] - 0s 4ms/step - loss: 0.3241 - mse: 0.3241\n",
            "Epoch 91/500\n",
            "3/3 [==============================] - 0s 9ms/step - loss: 0.2902 - mse: 0.2902\n",
            "Epoch 92/500\n",
            "3/3 [==============================] - 0s 3ms/step - loss: 0.2488 - mse: 0.2488\n",
            "Epoch 93/500\n",
            "3/3 [==============================] - 0s 5ms/step - loss: 0.2172 - mse: 0.2172\n",
            "Epoch 94/500\n",
            "3/3 [==============================] - 0s 3ms/step - loss: 0.1894 - mse: 0.1894\n",
            "Epoch 95/500\n",
            "3/3 [==============================] - 0s 3ms/step - loss: 0.1634 - mse: 0.1634\n",
            "Epoch 96/500\n",
            "3/3 [==============================] - 0s 2ms/step - loss: 0.1430 - mse: 0.1430\n",
            "Epoch 97/500\n",
            "3/3 [==============================] - 0s 7ms/step - loss: 0.1186 - mse: 0.1186\n",
            "Epoch 98/500\n",
            "3/3 [==============================] - 0s 5ms/step - loss: 0.1047 - mse: 0.1047\n",
            "Epoch 99/500\n",
            "3/3 [==============================] - 0s 3ms/step - loss: 0.0894 - mse: 0.0894\n",
            "Epoch 100/500\n",
            "3/3 [==============================] - 0s 2ms/step - loss: 0.0752 - mse: 0.0752\n",
            "Epoch 101/500\n",
            "3/3 [==============================] - 0s 3ms/step - loss: 0.0646 - mse: 0.0646\n",
            "Epoch 102/500\n",
            "3/3 [==============================] - 0s 2ms/step - loss: 0.0547 - mse: 0.0547\n",
            "Epoch 103/500\n",
            "3/3 [==============================] - 0s 5ms/step - loss: 0.0465 - mse: 0.0465\n",
            "Epoch 104/500\n",
            "3/3 [==============================] - 0s 2ms/step - loss: 0.0397 - mse: 0.0397\n",
            "Epoch 105/500\n",
            "3/3 [==============================] - 0s 2ms/step - loss: 0.0336 - mse: 0.0336\n",
            "Epoch 106/500\n",
            "3/3 [==============================] - 0s 6ms/step - loss: 0.0290 - mse: 0.0290\n",
            "Epoch 107/500\n",
            "3/3 [==============================] - 0s 4ms/step - loss: 0.0236 - mse: 0.0236\n",
            "Epoch 108/500\n",
            "3/3 [==============================] - 0s 4ms/step - loss: 0.0200 - mse: 0.0200\n",
            "Epoch 109/500\n",
            "3/3 [==============================] - 0s 4ms/step - loss: 0.0169 - mse: 0.0169\n",
            "Epoch 110/500\n",
            "3/3 [==============================] - 0s 3ms/step - loss: 0.0141 - mse: 0.0141\n",
            "Epoch 111/500\n",
            "3/3 [==============================] - 0s 3ms/step - loss: 0.0119 - mse: 0.0119\n",
            "Epoch 112/500\n",
            "3/3 [==============================] - 0s 5ms/step - loss: 0.0099 - mse: 0.0099\n",
            "Epoch 113/500\n",
            "3/3 [==============================] - 0s 5ms/step - loss: 0.0083 - mse: 0.0083\n",
            "Epoch 114/500\n",
            "3/3 [==============================] - 0s 3ms/step - loss: 0.0069 - mse: 0.0069\n",
            "Epoch 115/500\n",
            "3/3 [==============================] - 0s 4ms/step - loss: 0.0058 - mse: 0.0058\n",
            "Epoch 116/500\n",
            "3/3 [==============================] - 0s 2ms/step - loss: 0.0049 - mse: 0.0049\n",
            "Epoch 117/500\n",
            "3/3 [==============================] - 0s 4ms/step - loss: 0.0039 - mse: 0.0039\n",
            "Epoch 118/500\n",
            "3/3 [==============================] - 0s 7ms/step - loss: 0.0033 - mse: 0.0033\n",
            "Epoch 119/500\n",
            "3/3 [==============================] - 0s 6ms/step - loss: 0.0027 - mse: 0.0027\n",
            "Epoch 120/500\n",
            "3/3 [==============================] - 0s 2ms/step - loss: 0.0022 - mse: 0.0022\n",
            "Epoch 121/500\n",
            "3/3 [==============================] - 0s 2ms/step - loss: 0.0018 - mse: 0.0018\n",
            "Epoch 122/500\n",
            "3/3 [==============================] - 0s 4ms/step - loss: 0.0015 - mse: 0.0015\n",
            "Epoch 123/500\n",
            "3/3 [==============================] - 0s 4ms/step - loss: 0.0013 - mse: 0.0013\n",
            "Epoch 124/500\n",
            "3/3 [==============================] - 0s 2ms/step - loss: 9.9280e-04 - mse: 9.9280e-04\n",
            "Epoch 125/500\n",
            "3/3 [==============================] - 0s 2ms/step - loss: 8.0220e-04 - mse: 8.0220e-04\n",
            "Epoch 126/500\n",
            "3/3 [==============================] - 0s 2ms/step - loss: 6.4679e-04 - mse: 6.4679e-04\n",
            "Epoch 127/500\n",
            "3/3 [==============================] - 0s 2ms/step - loss: 5.2988e-04 - mse: 5.2988e-04\n",
            "Epoch 128/500\n",
            "3/3 [==============================] - 0s 3ms/step - loss: 4.2498e-04 - mse: 4.2498e-04\n",
            "Epoch 129/500\n",
            "3/3 [==============================] - 0s 7ms/step - loss: 3.4673e-04 - mse: 3.4673e-04\n",
            "Epoch 130/500\n",
            "3/3 [==============================] - 0s 4ms/step - loss: 2.7227e-04 - mse: 2.7227e-04\n",
            "Epoch 131/500\n",
            "3/3 [==============================] - 0s 4ms/step - loss: 2.2189e-04 - mse: 2.2189e-04\n",
            "Epoch 132/500\n",
            "3/3 [==============================] - 0s 5ms/step - loss: 1.7861e-04 - mse: 1.7861e-04\n",
            "Epoch 133/500\n",
            "3/3 [==============================] - 0s 6ms/step - loss: 1.3820e-04 - mse: 1.3820e-04\n",
            "Epoch 134/500\n",
            "3/3 [==============================] - 0s 2ms/step - loss: 1.1867e-04 - mse: 1.1867e-04\n",
            "Epoch 135/500\n",
            "3/3 [==============================] - 0s 4ms/step - loss: 8.9120e-05 - mse: 8.9120e-05\n",
            "Epoch 136/500\n",
            "3/3 [==============================] - 0s 3ms/step - loss: 7.0439e-05 - mse: 7.0439e-05\n",
            "Epoch 137/500\n",
            "3/3 [==============================] - 0s 4ms/step - loss: 5.6946e-05 - mse: 5.6946e-05\n",
            "Epoch 138/500\n",
            "3/3 [==============================] - 0s 4ms/step - loss: 4.3027e-05 - mse: 4.3027e-05\n",
            "Epoch 139/500\n",
            "3/3 [==============================] - 0s 4ms/step - loss: 3.4868e-05 - mse: 3.4868e-05\n",
            "Epoch 140/500\n",
            "3/3 [==============================] - 0s 5ms/step - loss: 2.7304e-05 - mse: 2.7304e-05\n",
            "Epoch 141/500\n",
            "3/3 [==============================] - 0s 3ms/step - loss: 2.1721e-05 - mse: 2.1721e-05\n",
            "Epoch 142/500\n",
            "3/3 [==============================] - 0s 3ms/step - loss: 1.7247e-05 - mse: 1.7247e-05\n",
            "Epoch 143/500\n",
            "3/3 [==============================] - 0s 3ms/step - loss: 1.3678e-05 - mse: 1.3678e-05\n",
            "Epoch 144/500\n",
            "3/3 [==============================] - 0s 5ms/step - loss: 1.0205e-05 - mse: 1.0205e-05\n",
            "Epoch 145/500\n",
            "3/3 [==============================] - 0s 6ms/step - loss: 8.1999e-06 - mse: 8.1999e-06\n",
            "Epoch 146/500\n",
            "3/3 [==============================] - 0s 5ms/step - loss: 6.4195e-06 - mse: 6.4195e-06\n",
            "Epoch 147/500\n",
            "3/3 [==============================] - 0s 7ms/step - loss: 4.8387e-06 - mse: 4.8387e-06\n",
            "Epoch 148/500\n",
            "3/3 [==============================] - 0s 9ms/step - loss: 3.7987e-06 - mse: 3.7987e-06\n",
            "Epoch 149/500\n",
            "3/3 [==============================] - 0s 3ms/step - loss: 2.9054e-06 - mse: 2.9054e-06\n",
            "Epoch 150/500\n",
            "3/3 [==============================] - 0s 6ms/step - loss: 2.2607e-06 - mse: 2.2607e-06\n",
            "Epoch 151/500\n",
            "3/3 [==============================] - 0s 6ms/step - loss: 1.7006e-06 - mse: 1.7006e-06\n",
            "Epoch 152/500\n",
            "3/3 [==============================] - 0s 5ms/step - loss: 1.3374e-06 - mse: 1.3374e-06\n",
            "Epoch 153/500\n",
            "3/3 [==============================] - 0s 5ms/step - loss: 1.0082e-06 - mse: 1.0082e-06\n",
            "Epoch 154/500\n",
            "3/3 [==============================] - 0s 4ms/step - loss: 7.6322e-07 - mse: 7.6322e-07\n",
            "Epoch 155/500\n",
            "3/3 [==============================] - 0s 3ms/step - loss: 5.8197e-07 - mse: 5.8197e-07\n",
            "Epoch 156/500\n",
            "3/3 [==============================] - 0s 3ms/step - loss: 4.3765e-07 - mse: 4.3765e-07\n",
            "Epoch 157/500\n",
            "3/3 [==============================] - 0s 4ms/step - loss: 3.3008e-07 - mse: 3.3008e-07\n",
            "Epoch 158/500\n",
            "3/3 [==============================] - 0s 3ms/step - loss: 2.4711e-07 - mse: 2.4711e-07\n",
            "Epoch 159/500\n",
            "3/3 [==============================] - 0s 4ms/step - loss: 1.8563e-07 - mse: 1.8563e-07\n",
            "Epoch 160/500\n",
            "3/3 [==============================] - 0s 3ms/step - loss: 1.3736e-07 - mse: 1.3736e-07\n",
            "Epoch 161/500\n",
            "3/3 [==============================] - 0s 5ms/step - loss: 1.0466e-07 - mse: 1.0466e-07\n",
            "Epoch 162/500\n",
            "3/3 [==============================] - 0s 5ms/step - loss: 7.5344e-08 - mse: 7.5344e-08\n",
            "Epoch 163/500\n",
            "3/3 [==============================] - 0s 2ms/step - loss: 5.7409e-08 - mse: 5.7409e-08\n",
            "Epoch 164/500\n",
            "3/3 [==============================] - 0s 4ms/step - loss: 4.0447e-08 - mse: 4.0447e-08\n",
            "Epoch 165/500\n",
            "3/3 [==============================] - 0s 4ms/step - loss: 3.3116e-08 - mse: 3.3116e-08\n",
            "Epoch 166/500\n",
            "3/3 [==============================] - 0s 4ms/step - loss: 2.3215e-08 - mse: 2.3215e-08\n",
            "Epoch 167/500\n",
            "3/3 [==============================] - 0s 5ms/step - loss: 1.6262e-08 - mse: 1.6262e-08\n",
            "Epoch 168/500\n",
            "3/3 [==============================] - 0s 2ms/step - loss: 1.2050e-08 - mse: 1.2050e-08\n",
            "Epoch 169/500\n",
            "3/3 [==============================] - 0s 4ms/step - loss: 8.0425e-09 - mse: 8.0425e-09\n",
            "Epoch 170/500\n",
            "3/3 [==============================] - 0s 6ms/step - loss: 6.1719e-09 - mse: 6.1719e-09\n",
            "Epoch 171/500\n",
            "3/3 [==============================] - 0s 5ms/step - loss: 4.0973e-09 - mse: 4.0973e-09\n",
            "Epoch 172/500\n",
            "3/3 [==============================] - 0s 3ms/step - loss: 2.9458e-09 - mse: 2.9458e-09\n",
            "Epoch 173/500\n",
            "3/3 [==============================] - 0s 4ms/step - loss: 1.9026e-09 - mse: 1.9026e-09\n",
            "Epoch 174/500\n",
            "3/3 [==============================] - 0s 5ms/step - loss: 1.3522e-09 - mse: 1.3522e-09\n",
            "Epoch 175/500\n",
            "3/3 [==============================] - 0s 5ms/step - loss: 8.6894e-10 - mse: 8.6894e-10\n",
            "Epoch 176/500\n",
            "3/3 [==============================] - 0s 4ms/step - loss: 6.6386e-10 - mse: 6.6386e-10\n",
            "Epoch 177/500\n",
            "3/3 [==============================] - 0s 4ms/step - loss: 4.4384e-10 - mse: 4.4384e-10\n",
            "Epoch 178/500\n",
            "3/3 [==============================] - 0s 3ms/step - loss: 3.3876e-10 - mse: 3.3876e-10\n",
            "Epoch 179/500\n",
            "3/3 [==============================] - 0s 3ms/step - loss: 2.0930e-10 - mse: 2.0930e-10\n",
            "Epoch 180/500\n",
            "3/3 [==============================] - 0s 3ms/step - loss: 1.2406e-10 - mse: 1.2406e-10\n",
            "Epoch 181/500\n",
            "3/3 [==============================] - 0s 3ms/step - loss: 8.4060e-11 - mse: 8.4060e-11\n",
            "Epoch 182/500\n",
            "3/3 [==============================] - 0s 3ms/step - loss: 5.8193e-11 - mse: 5.8193e-11\n",
            "Epoch 183/500\n",
            "3/3 [==============================] - 0s 4ms/step - loss: 4.2539e-11 - mse: 4.2539e-11\n",
            "Epoch 184/500\n",
            "3/3 [==============================] - 0s 3ms/step - loss: 3.9062e-11 - mse: 3.9062e-11\n",
            "Epoch 185/500\n",
            "3/3 [==============================] - 0s 3ms/step - loss: 4.1924e-11 - mse: 4.1924e-11\n",
            "Epoch 186/500\n",
            "3/3 [==============================] - 0s 3ms/step - loss: 4.1379e-11 - mse: 4.1379e-11\n",
            "Epoch 187/500\n",
            "3/3 [==============================] - 0s 3ms/step - loss: 3.9466e-11 - mse: 3.9466e-11\n",
            "Epoch 188/500\n",
            "3/3 [==============================] - 0s 3ms/step - loss: 3.7697e-11 - mse: 3.7697e-11\n",
            "Epoch 189/500\n",
            "3/3 [==============================] - 0s 3ms/step - loss: 3.6412e-11 - mse: 3.6412e-11\n",
            "Epoch 190/500\n",
            "3/3 [==============================] - 0s 2ms/step - loss: 3.6068e-11 - mse: 3.6068e-11\n",
            "Epoch 191/500\n",
            "3/3 [==============================] - 0s 5ms/step - loss: 3.6068e-11 - mse: 3.6068e-11\n",
            "Epoch 192/500\n",
            "3/3 [==============================] - 0s 4ms/step - loss: 3.6068e-11 - mse: 3.6068e-11\n",
            "Epoch 193/500\n",
            "3/3 [==============================] - 0s 3ms/step - loss: 3.6250e-11 - mse: 3.6250e-11\n",
            "Epoch 194/500\n",
            "3/3 [==============================] - 0s 4ms/step - loss: 3.6597e-11 - mse: 3.6597e-11\n",
            "Epoch 195/500\n",
            "3/3 [==============================] - 0s 4ms/step - loss: 3.6612e-11 - mse: 3.6612e-11\n",
            "Epoch 196/500\n",
            "3/3 [==============================] - 0s 3ms/step - loss: 3.6612e-11 - mse: 3.6612e-11\n",
            "Epoch 197/500\n",
            "3/3 [==============================] - 0s 3ms/step - loss: 3.6612e-11 - mse: 3.6612e-11\n",
            "Epoch 198/500\n",
            "3/3 [==============================] - 0s 3ms/step - loss: 3.5767e-11 - mse: 3.5767e-11\n",
            "Epoch 199/500\n",
            "3/3 [==============================] - 0s 5ms/step - loss: 3.6279e-11 - mse: 3.6279e-11\n",
            "Epoch 200/500\n",
            "3/3 [==============================] - 0s 6ms/step - loss: 3.6017e-11 - mse: 3.6017e-11\n",
            "Epoch 201/500\n",
            "3/3 [==============================] - 0s 4ms/step - loss: 3.5870e-11 - mse: 3.5870e-11\n",
            "Epoch 202/500\n",
            "3/3 [==============================] - 0s 8ms/step - loss: 3.5870e-11 - mse: 3.5870e-11\n",
            "Epoch 203/500\n",
            "3/3 [==============================] - 0s 6ms/step - loss: 3.5870e-11 - mse: 3.5870e-11\n",
            "Epoch 204/500\n",
            "3/3 [==============================] - 0s 5ms/step - loss: 3.5870e-11 - mse: 3.5870e-11\n",
            "Epoch 205/500\n",
            "3/3 [==============================] - 0s 7ms/step - loss: 3.5870e-11 - mse: 3.5870e-11\n",
            "Epoch 206/500\n",
            "3/3 [==============================] - 0s 5ms/step - loss: 3.5870e-11 - mse: 3.5870e-11\n",
            "Epoch 207/500\n",
            "3/3 [==============================] - 0s 5ms/step - loss: 3.5870e-11 - mse: 3.5870e-11\n",
            "Epoch 208/500\n",
            "3/3 [==============================] - 0s 4ms/step - loss: 3.5870e-11 - mse: 3.5870e-11\n",
            "Epoch 209/500\n",
            "3/3 [==============================] - 0s 5ms/step - loss: 3.5870e-11 - mse: 3.5870e-11\n",
            "Epoch 210/500\n",
            "3/3 [==============================] - 0s 7ms/step - loss: 3.6612e-11 - mse: 3.6612e-11\n",
            "Epoch 211/500\n",
            "3/3 [==============================] - 0s 3ms/step - loss: 3.6678e-11 - mse: 3.6678e-11\n",
            "Epoch 212/500\n",
            "3/3 [==============================] - 0s 4ms/step - loss: 3.6743e-11 - mse: 3.6743e-11\n",
            "Epoch 213/500\n",
            "3/3 [==============================] - 0s 6ms/step - loss: 3.6612e-11 - mse: 3.6612e-11\n",
            "Epoch 214/500\n",
            "3/3 [==============================] - 0s 4ms/step - loss: 3.6612e-11 - mse: 3.6612e-11\n",
            "Epoch 215/500\n",
            "3/3 [==============================] - 0s 4ms/step - loss: 3.5870e-11 - mse: 3.5870e-11\n",
            "Epoch 216/500\n",
            "3/3 [==============================] - 0s 2ms/step - loss: 3.6097e-11 - mse: 3.6097e-11\n",
            "Epoch 217/500\n",
            "3/3 [==============================] - 0s 2ms/step - loss: 3.6068e-11 - mse: 3.6068e-11\n",
            "Epoch 218/500\n",
            "3/3 [==============================] - 0s 3ms/step - loss: 3.6068e-11 - mse: 3.6068e-11\n",
            "Epoch 219/500\n",
            "3/3 [==============================] - 0s 5ms/step - loss: 3.6068e-11 - mse: 3.6068e-11\n",
            "Epoch 220/500\n",
            "3/3 [==============================] - 0s 3ms/step - loss: 3.6068e-11 - mse: 3.6068e-11\n",
            "Epoch 221/500\n",
            "3/3 [==============================] - 0s 3ms/step - loss: 3.6279e-11 - mse: 3.6279e-11\n",
            "Epoch 222/500\n",
            "3/3 [==============================] - 0s 5ms/step - loss: 3.6743e-11 - mse: 3.6743e-11\n",
            "Epoch 223/500\n",
            "3/3 [==============================] - 0s 7ms/step - loss: 3.6743e-11 - mse: 3.6743e-11\n",
            "Epoch 224/500\n",
            "3/3 [==============================] - 0s 8ms/step - loss: 3.6743e-11 - mse: 3.6743e-11\n",
            "Epoch 225/500\n",
            "3/3 [==============================] - 0s 6ms/step - loss: 3.6678e-11 - mse: 3.6678e-11\n",
            "Epoch 226/500\n",
            "3/3 [==============================] - 0s 2ms/step - loss: 3.5870e-11 - mse: 3.5870e-11\n",
            "Epoch 227/500\n",
            "3/3 [==============================] - 0s 2ms/step - loss: 3.5870e-11 - mse: 3.5870e-11\n",
            "Epoch 228/500\n",
            "3/3 [==============================] - 0s 3ms/step - loss: 3.5870e-11 - mse: 3.5870e-11\n",
            "Epoch 229/500\n",
            "3/3 [==============================] - 0s 3ms/step - loss: 3.6612e-11 - mse: 3.6612e-11\n",
            "Epoch 230/500\n",
            "3/3 [==============================] - 0s 3ms/step - loss: 3.6612e-11 - mse: 3.6612e-11\n",
            "Epoch 231/500\n",
            "3/3 [==============================] - 0s 3ms/step - loss: 3.6612e-11 - mse: 3.6612e-11\n",
            "Epoch 232/500\n",
            "3/3 [==============================] - 0s 4ms/step - loss: 3.5870e-11 - mse: 3.5870e-11\n",
            "Epoch 233/500\n",
            "3/3 [==============================] - 0s 3ms/step - loss: 3.6250e-11 - mse: 3.6250e-11\n",
            "Epoch 234/500\n",
            "3/3 [==============================] - 0s 3ms/step - loss: 3.6068e-11 - mse: 3.6068e-11\n",
            "Epoch 235/500\n",
            "3/3 [==============================] - 0s 7ms/step - loss: 3.6097e-11 - mse: 3.6097e-11\n",
            "Epoch 236/500\n",
            "3/3 [==============================] - 0s 5ms/step - loss: 3.6294e-11 - mse: 3.6294e-11\n",
            "Epoch 237/500\n",
            "3/3 [==============================] - 0s 6ms/step - loss: 3.6561e-11 - mse: 3.6561e-11\n",
            "Epoch 238/500\n",
            "3/3 [==============================] - 0s 4ms/step - loss: 3.6561e-11 - mse: 3.6561e-11\n",
            "Epoch 239/500\n",
            "3/3 [==============================] - 0s 4ms/step - loss: 3.7354e-11 - mse: 3.7354e-11\n",
            "Epoch 240/500\n",
            "3/3 [==============================] - 0s 5ms/step - loss: 3.6561e-11 - mse: 3.6561e-11\n",
            "Epoch 241/500\n",
            "3/3 [==============================] - 0s 3ms/step - loss: 3.6430e-11 - mse: 3.6430e-11\n",
            "Epoch 242/500\n",
            "3/3 [==============================] - 0s 3ms/step - loss: 3.5688e-11 - mse: 3.5688e-11\n",
            "Epoch 243/500\n",
            "3/3 [==============================] - 0s 4ms/step - loss: 3.5688e-11 - mse: 3.5688e-11\n",
            "Epoch 244/500\n",
            "3/3 [==============================] - 0s 5ms/step - loss: 3.5688e-11 - mse: 3.5688e-11\n",
            "Epoch 245/500\n",
            "3/3 [==============================] - 0s 3ms/step - loss: 3.5915e-11 - mse: 3.5915e-11\n",
            "Epoch 246/500\n",
            "3/3 [==============================] - 0s 5ms/step - loss: 3.5886e-11 - mse: 3.5886e-11\n",
            "Epoch 247/500\n",
            "3/3 [==============================] - 0s 4ms/step - loss: 3.5886e-11 - mse: 3.5886e-11\n",
            "Epoch 248/500\n",
            "3/3 [==============================] - 0s 3ms/step - loss: 3.5551e-11 - mse: 3.5551e-11\n",
            "Epoch 249/500\n",
            "3/3 [==============================] - 0s 2ms/step - loss: 3.5688e-11 - mse: 3.5688e-11\n",
            "Epoch 250/500\n",
            "3/3 [==============================] - 0s 5ms/step - loss: 3.5688e-11 - mse: 3.5688e-11\n",
            "Epoch 251/500\n",
            "3/3 [==============================] - 0s 2ms/step - loss: 3.5688e-11 - mse: 3.5688e-11\n",
            "Epoch 252/500\n",
            "3/3 [==============================] - 0s 3ms/step - loss: 3.5688e-11 - mse: 3.5688e-11\n",
            "Epoch 253/500\n",
            "3/3 [==============================] - 0s 2ms/step - loss: 3.6233e-11 - mse: 3.6233e-11\n",
            "Epoch 254/500\n",
            "3/3 [==============================] - 0s 4ms/step - loss: 3.5404e-11 - mse: 3.5404e-11\n",
            "Epoch 255/500\n",
            "3/3 [==============================] - 0s 6ms/step - loss: 3.5688e-11 - mse: 3.5688e-11\n",
            "Epoch 256/500\n",
            "3/3 [==============================] - 0s 2ms/step - loss: 3.5688e-11 - mse: 3.5688e-11\n",
            "Epoch 257/500\n",
            "3/3 [==============================] - 0s 4ms/step - loss: 3.5949e-11 - mse: 3.5949e-11\n",
            "Epoch 258/500\n",
            "3/3 [==============================] - 0s 2ms/step - loss: 3.6199e-11 - mse: 3.6199e-11\n",
            "Epoch 259/500\n",
            "3/3 [==============================] - 0s 5ms/step - loss: 3.6430e-11 - mse: 3.6430e-11\n",
            "Epoch 260/500\n",
            "3/3 [==============================] - 0s 2ms/step - loss: 3.6430e-11 - mse: 3.6430e-11\n",
            "Epoch 261/500\n",
            "3/3 [==============================] - 0s 6ms/step - loss: 3.6430e-11 - mse: 3.6430e-11\n",
            "Epoch 262/500\n",
            "3/3 [==============================] - 0s 2ms/step - loss: 3.6415e-11 - mse: 3.6415e-11\n",
            "Epoch 263/500\n",
            "3/3 [==============================] - 0s 6ms/step - loss: 3.6097e-11 - mse: 3.6097e-11\n",
            "Epoch 264/500\n",
            "3/3 [==============================] - 0s 2ms/step - loss: 3.5886e-11 - mse: 3.5886e-11\n",
            "Epoch 265/500\n",
            "3/3 [==============================] - 0s 2ms/step - loss: 3.5886e-11 - mse: 3.5886e-11\n",
            "Epoch 266/500\n",
            "3/3 [==============================] - 0s 5ms/step - loss: 3.5886e-11 - mse: 3.5886e-11\n",
            "Epoch 267/500\n",
            "3/3 [==============================] - 0s 5ms/step - loss: 3.5886e-11 - mse: 3.5886e-11\n",
            "Epoch 268/500\n",
            "3/3 [==============================] - 0s 7ms/step - loss: 3.5886e-11 - mse: 3.5886e-11\n",
            "Epoch 269/500\n",
            "3/3 [==============================] - 0s 4ms/step - loss: 3.5886e-11 - mse: 3.5886e-11\n",
            "Epoch 270/500\n",
            "3/3 [==============================] - 0s 6ms/step - loss: 3.5886e-11 - mse: 3.5886e-11\n",
            "Epoch 271/500\n",
            "3/3 [==============================] - 0s 4ms/step - loss: 3.6233e-11 - mse: 3.6233e-11\n",
            "Epoch 272/500\n",
            "3/3 [==============================] - 0s 3ms/step - loss: 3.5915e-11 - mse: 3.5915e-11\n",
            "Epoch 273/500\n",
            "3/3 [==============================] - 0s 4ms/step - loss: 3.5886e-11 - mse: 3.5886e-11\n",
            "Epoch 274/500\n",
            "3/3 [==============================] - 0s 6ms/step - loss: 3.5886e-11 - mse: 3.5886e-11\n",
            "Epoch 275/500\n",
            "3/3 [==============================] - 0s 6ms/step - loss: 3.5886e-11 - mse: 3.5886e-11\n",
            "Epoch 276/500\n",
            "3/3 [==============================] - 0s 3ms/step - loss: 3.5915e-11 - mse: 3.5915e-11\n",
            "Epoch 277/500\n",
            "3/3 [==============================] - 0s 5ms/step - loss: 3.5688e-11 - mse: 3.5688e-11\n",
            "Epoch 278/500\n",
            "3/3 [==============================] - 0s 3ms/step - loss: 3.6430e-11 - mse: 3.6430e-11\n",
            "Epoch 279/500\n",
            "3/3 [==============================] - 0s 4ms/step - loss: 3.6430e-11 - mse: 3.6430e-11\n",
            "Epoch 280/500\n",
            "3/3 [==============================] - 0s 4ms/step - loss: 3.5688e-11 - mse: 3.5688e-11\n",
            "Epoch 281/500\n",
            "3/3 [==============================] - 0s 3ms/step - loss: 3.5886e-11 - mse: 3.5886e-11\n",
            "Epoch 282/500\n",
            "3/3 [==============================] - 0s 3ms/step - loss: 3.5704e-11 - mse: 3.5704e-11\n",
            "Epoch 283/500\n",
            "3/3 [==============================] - 0s 6ms/step - loss: 3.5522e-11 - mse: 3.5522e-11\n",
            "Epoch 284/500\n",
            "3/3 [==============================] - 0s 3ms/step - loss: 3.5522e-11 - mse: 3.5522e-11\n",
            "Epoch 285/500\n",
            "3/3 [==============================] - 0s 6ms/step - loss: 3.5886e-11 - mse: 3.5886e-11\n",
            "Epoch 286/500\n",
            "3/3 [==============================] - 0s 4ms/step - loss: 3.5886e-11 - mse: 3.5886e-11\n",
            "Epoch 287/500\n",
            "3/3 [==============================] - 0s 3ms/step - loss: 3.6097e-11 - mse: 3.6097e-11\n",
            "Epoch 288/500\n",
            "3/3 [==============================] - 0s 3ms/step - loss: 3.5421e-11 - mse: 3.5421e-11\n",
            "Epoch 289/500\n",
            "3/3 [==============================] - 0s 3ms/step - loss: 3.5569e-11 - mse: 3.5569e-11\n",
            "Epoch 290/500\n",
            "3/3 [==============================] - 0s 2ms/step - loss: 3.5583e-11 - mse: 3.5583e-11\n",
            "Epoch 291/500\n",
            "3/3 [==============================] - 0s 3ms/step - loss: 3.5583e-11 - mse: 3.5583e-11\n",
            "Epoch 292/500\n",
            "3/3 [==============================] - 0s 3ms/step - loss: 3.5436e-11 - mse: 3.5436e-11\n",
            "Epoch 293/500\n",
            "3/3 [==============================] - 0s 2ms/step - loss: 3.4594e-11 - mse: 3.4594e-11\n",
            "Epoch 294/500\n",
            "3/3 [==============================] - 0s 2ms/step - loss: 3.4642e-11 - mse: 3.4642e-11\n",
            "Epoch 295/500\n",
            "3/3 [==============================] - 0s 4ms/step - loss: 3.4613e-11 - mse: 3.4613e-11\n",
            "Epoch 296/500\n",
            "3/3 [==============================] - 0s 4ms/step - loss: 3.4431e-11 - mse: 3.4431e-11\n",
            "Epoch 297/500\n",
            "3/3 [==============================] - 0s 3ms/step - loss: 3.3629e-11 - mse: 3.3629e-11\n",
            "Epoch 298/500\n",
            "3/3 [==============================] - 0s 4ms/step - loss: 3.4416e-11 - mse: 3.4416e-11\n",
            "Epoch 299/500\n",
            "3/3 [==============================] - 0s 9ms/step - loss: 3.3371e-11 - mse: 3.3371e-11\n",
            "Epoch 300/500\n",
            "3/3 [==============================] - 0s 4ms/step - loss: 3.3371e-11 - mse: 3.3371e-11\n",
            "Epoch 301/500\n",
            "3/3 [==============================] - 0s 3ms/step - loss: 3.3371e-11 - mse: 3.3371e-11\n",
            "Epoch 302/500\n",
            "3/3 [==============================] - 0s 3ms/step - loss: 3.3371e-11 - mse: 3.3371e-11\n",
            "Epoch 303/500\n",
            "3/3 [==============================] - 0s 5ms/step - loss: 3.2265e-11 - mse: 3.2265e-11\n",
            "Epoch 304/500\n",
            "3/3 [==============================] - 0s 4ms/step - loss: 3.3917e-11 - mse: 3.3917e-11\n",
            "Epoch 305/500\n",
            "3/3 [==============================] - 0s 6ms/step - loss: 3.3008e-11 - mse: 3.3008e-11\n",
            "Epoch 306/500\n",
            "3/3 [==============================] - 0s 2ms/step - loss: 3.3857e-11 - mse: 3.3857e-11\n",
            "Epoch 307/500\n",
            "3/3 [==============================] - 0s 3ms/step - loss: 3.3008e-11 - mse: 3.3008e-11\n",
            "Epoch 308/500\n",
            "3/3 [==============================] - 0s 5ms/step - loss: 3.3008e-11 - mse: 3.3008e-11\n",
            "Epoch 309/500\n",
            "3/3 [==============================] - 0s 8ms/step - loss: 3.3857e-11 - mse: 3.3857e-11\n",
            "Epoch 310/500\n",
            "3/3 [==============================] - 0s 4ms/step - loss: 3.3008e-11 - mse: 3.3008e-11\n",
            "Epoch 311/500\n",
            "3/3 [==============================] - 0s 3ms/step - loss: 3.3008e-11 - mse: 3.3008e-11\n",
            "Epoch 312/500\n",
            "3/3 [==============================] - 0s 3ms/step - loss: 3.2387e-11 - mse: 3.2387e-11\n",
            "Epoch 313/500\n",
            "3/3 [==============================] - 0s 4ms/step - loss: 3.3189e-11 - mse: 3.3189e-11\n",
            "Epoch 314/500\n",
            "3/3 [==============================] - 0s 3ms/step - loss: 3.3008e-11 - mse: 3.3008e-11\n",
            "Epoch 315/500\n",
            "3/3 [==============================] - 0s 6ms/step - loss: 3.3008e-11 - mse: 3.3008e-11\n",
            "Epoch 316/500\n",
            "3/3 [==============================] - 0s 4ms/step - loss: 3.2976e-11 - mse: 3.2976e-11\n",
            "Epoch 317/500\n",
            "3/3 [==============================] - 0s 3ms/step - loss: 3.2976e-11 - mse: 3.2976e-11\n",
            "Epoch 318/500\n",
            "3/3 [==============================] - 0s 4ms/step - loss: 3.2355e-11 - mse: 3.2355e-11\n",
            "Epoch 319/500\n",
            "3/3 [==============================] - 0s 6ms/step - loss: 3.2355e-11 - mse: 3.2355e-11\n",
            "Epoch 320/500\n",
            "3/3 [==============================] - 0s 3ms/step - loss: 3.2415e-11 - mse: 3.2415e-11\n",
            "Epoch 321/500\n",
            "3/3 [==============================] - 0s 6ms/step - loss: 3.3339e-11 - mse: 3.3339e-11\n",
            "Epoch 322/500\n",
            "3/3 [==============================] - 0s 6ms/step - loss: 3.2903e-11 - mse: 3.2903e-11\n",
            "Epoch 323/500\n",
            "3/3 [==============================] - 0s 5ms/step - loss: 3.2576e-11 - mse: 3.2576e-11\n",
            "Epoch 324/500\n",
            "3/3 [==============================] - 0s 2ms/step - loss: 2.9965e-11 - mse: 2.9965e-11\n",
            "Epoch 325/500\n",
            "3/3 [==============================] - 0s 6ms/step - loss: 2.7472e-11 - mse: 2.7472e-11\n",
            "Epoch 326/500\n",
            "3/3 [==============================] - 0s 6ms/step - loss: 2.8781e-11 - mse: 2.8781e-11\n",
            "Epoch 327/500\n",
            "3/3 [==============================] - 0s 4ms/step - loss: 3.0738e-11 - mse: 3.0738e-11\n",
            "Epoch 328/500\n",
            "3/3 [==============================] - 0s 4ms/step - loss: 2.7828e-11 - mse: 2.7828e-11\n",
            "Epoch 329/500\n",
            "3/3 [==============================] - 0s 3ms/step - loss: 2.8968e-11 - mse: 2.8968e-11\n",
            "Epoch 330/500\n",
            "3/3 [==============================] - 0s 5ms/step - loss: 2.7732e-11 - mse: 2.7732e-11\n",
            "Epoch 331/500\n",
            "3/3 [==============================] - 0s 3ms/step - loss: 2.8473e-11 - mse: 2.8473e-11\n",
            "Epoch 332/500\n",
            "3/3 [==============================] - 0s 3ms/step - loss: 2.8530e-11 - mse: 2.8530e-11\n",
            "Epoch 333/500\n",
            "3/3 [==============================] - 0s 2ms/step - loss: 2.5887e-11 - mse: 2.5887e-11\n",
            "Epoch 334/500\n",
            "3/3 [==============================] - 0s 2ms/step - loss: 2.7991e-11 - mse: 2.7991e-11\n",
            "Epoch 335/500\n",
            "3/3 [==============================] - 0s 2ms/step - loss: 2.7954e-11 - mse: 2.7954e-11\n",
            "Epoch 336/500\n",
            "3/3 [==============================] - 0s 2ms/step - loss: 2.7226e-11 - mse: 2.7226e-11\n",
            "Epoch 337/500\n",
            "3/3 [==============================] - 0s 4ms/step - loss: 2.6303e-11 - mse: 2.6303e-11\n",
            "Epoch 338/500\n",
            "3/3 [==============================] - 0s 3ms/step - loss: 2.7672e-11 - mse: 2.7672e-11\n",
            "Epoch 339/500\n",
            "3/3 [==============================] - 0s 3ms/step - loss: 2.6944e-11 - mse: 2.6944e-11\n",
            "Epoch 340/500\n",
            "3/3 [==============================] - 0s 2ms/step - loss: 2.6944e-11 - mse: 2.6944e-11\n",
            "Epoch 341/500\n",
            "3/3 [==============================] - 0s 4ms/step - loss: 2.8906e-11 - mse: 2.8906e-11\n",
            "Epoch 342/500\n",
            "3/3 [==============================] - 0s 7ms/step - loss: 3.1629e-11 - mse: 3.1629e-11\n",
            "Epoch 343/500\n",
            "3/3 [==============================] - 0s 3ms/step - loss: 2.7694e-11 - mse: 2.7694e-11\n",
            "Epoch 344/500\n",
            "3/3 [==============================] - 0s 3ms/step - loss: 2.6412e-11 - mse: 2.6412e-11\n",
            "Epoch 345/500\n",
            "3/3 [==============================] - 0s 4ms/step - loss: 2.6957e-11 - mse: 2.6957e-11\n",
            "Epoch 346/500\n",
            "3/3 [==============================] - 0s 3ms/step - loss: 2.8156e-11 - mse: 2.8156e-11\n",
            "Epoch 347/500\n",
            "3/3 [==============================] - 0s 4ms/step - loss: 3.2885e-11 - mse: 3.2885e-11\n",
            "Epoch 348/500\n",
            "3/3 [==============================] - 0s 2ms/step - loss: 3.0673e-11 - mse: 3.0673e-11\n",
            "Epoch 349/500\n",
            "3/3 [==============================] - 0s 8ms/step - loss: 2.8469e-11 - mse: 2.8469e-11\n",
            "Epoch 350/500\n",
            "3/3 [==============================] - 0s 3ms/step - loss: 2.7352e-11 - mse: 2.7352e-11\n",
            "Epoch 351/500\n",
            "3/3 [==============================] - 0s 2ms/step - loss: 2.8182e-11 - mse: 2.8182e-11\n",
            "Epoch 352/500\n",
            "3/3 [==============================] - 0s 4ms/step - loss: 2.7729e-11 - mse: 2.7729e-11\n",
            "Epoch 353/500\n",
            "3/3 [==============================] - 0s 3ms/step - loss: 2.8469e-11 - mse: 2.8469e-11\n",
            "Epoch 354/500\n",
            "3/3 [==============================] - 0s 2ms/step - loss: 2.7378e-11 - mse: 2.7378e-11\n",
            "Epoch 355/500\n",
            "3/3 [==============================] - 0s 3ms/step - loss: 2.7620e-11 - mse: 2.7620e-11\n",
            "Epoch 356/500\n",
            "3/3 [==============================] - 0s 4ms/step - loss: 2.7620e-11 - mse: 2.7620e-11\n",
            "Epoch 357/500\n",
            "3/3 [==============================] - 0s 2ms/step - loss: 2.7467e-11 - mse: 2.7467e-11\n",
            "Epoch 358/500\n",
            "3/3 [==============================] - 0s 3ms/step - loss: 2.7831e-11 - mse: 2.7831e-11\n",
            "Epoch 359/500\n",
            "3/3 [==============================] - 0s 6ms/step - loss: 2.7831e-11 - mse: 2.7831e-11\n",
            "Epoch 360/500\n",
            "3/3 [==============================] - 0s 3ms/step - loss: 2.7438e-11 - mse: 2.7438e-11\n",
            "Epoch 361/500\n",
            "3/3 [==============================] - 0s 4ms/step - loss: 2.7196e-11 - mse: 2.7196e-11\n",
            "Epoch 362/500\n",
            "3/3 [==============================] - 0s 6ms/step - loss: 2.7196e-11 - mse: 2.7196e-11\n",
            "Epoch 363/500\n",
            "3/3 [==============================] - 0s 3ms/step - loss: 2.8711e-11 - mse: 2.8711e-11\n",
            "Epoch 364/500\n",
            "3/3 [==============================] - 0s 2ms/step - loss: 2.8995e-11 - mse: 2.8995e-11\n",
            "Epoch 365/500\n",
            "3/3 [==============================] - 0s 3ms/step - loss: 2.7225e-11 - mse: 2.7225e-11\n",
            "Epoch 366/500\n",
            "3/3 [==============================] - 0s 3ms/step - loss: 2.7043e-11 - mse: 2.7043e-11\n",
            "Epoch 367/500\n",
            "3/3 [==============================] - 0s 2ms/step - loss: 3.0281e-11 - mse: 3.0281e-11\n",
            "Epoch 368/500\n",
            "3/3 [==============================] - 0s 3ms/step - loss: 2.9929e-11 - mse: 2.9929e-11\n",
            "Epoch 369/500\n",
            "3/3 [==============================] - 0s 5ms/step - loss: 2.7621e-11 - mse: 2.7621e-11\n",
            "Epoch 370/500\n",
            "3/3 [==============================] - 0s 6ms/step - loss: 2.5963e-11 - mse: 2.5963e-11\n",
            "Epoch 371/500\n",
            "3/3 [==============================] - 0s 2ms/step - loss: 2.5963e-11 - mse: 2.5963e-11\n",
            "Epoch 372/500\n",
            "3/3 [==============================] - 0s 6ms/step - loss: 2.6193e-11 - mse: 2.6193e-11\n",
            "Epoch 373/500\n",
            "3/3 [==============================] - 0s 3ms/step - loss: 2.5121e-11 - mse: 2.5121e-11\n",
            "Epoch 374/500\n",
            "3/3 [==============================] - 0s 7ms/step - loss: 2.5848e-11 - mse: 2.5848e-11\n",
            "Epoch 375/500\n",
            "3/3 [==============================] - 0s 3ms/step - loss: 2.6292e-11 - mse: 2.6292e-11\n",
            "Epoch 376/500\n",
            "3/3 [==============================] - 0s 5ms/step - loss: 2.6212e-11 - mse: 2.6212e-11\n",
            "Epoch 377/500\n",
            "3/3 [==============================] - 0s 7ms/step - loss: 2.7109e-11 - mse: 2.7109e-11\n",
            "Epoch 378/500\n",
            "3/3 [==============================] - 0s 7ms/step - loss: 2.7109e-11 - mse: 2.7109e-11\n",
            "Epoch 379/500\n",
            "3/3 [==============================] - 0s 2ms/step - loss: 2.7109e-11 - mse: 2.7109e-11\n",
            "Epoch 380/500\n",
            "3/3 [==============================] - 0s 4ms/step - loss: 2.7109e-11 - mse: 2.7109e-11\n",
            "Epoch 381/500\n",
            "3/3 [==============================] - 0s 2ms/step - loss: 2.5302e-11 - mse: 2.5302e-11\n",
            "Epoch 382/500\n",
            "3/3 [==============================] - 0s 2ms/step - loss: 2.6850e-11 - mse: 2.6850e-11\n",
            "Epoch 383/500\n",
            "3/3 [==============================] - 0s 4ms/step - loss: 2.6771e-11 - mse: 2.6771e-11\n",
            "Epoch 384/500\n",
            "3/3 [==============================] - 0s 2ms/step - loss: 2.5054e-11 - mse: 2.5054e-11\n",
            "Epoch 385/500\n",
            "3/3 [==============================] - 0s 5ms/step - loss: 2.6473e-11 - mse: 2.6473e-11\n",
            "Epoch 386/500\n",
            "3/3 [==============================] - 0s 3ms/step - loss: 2.6789e-11 - mse: 2.6789e-11\n",
            "Epoch 387/500\n",
            "3/3 [==============================] - 0s 2ms/step - loss: 2.6789e-11 - mse: 2.6789e-11\n",
            "Epoch 388/500\n",
            "3/3 [==============================] - 0s 2ms/step - loss: 2.6255e-11 - mse: 2.6255e-11\n",
            "Epoch 389/500\n",
            "3/3 [==============================] - 0s 5ms/step - loss: 2.6679e-11 - mse: 2.6679e-11\n",
            "Epoch 390/500\n",
            "3/3 [==============================] - 0s 2ms/step - loss: 2.5539e-11 - mse: 2.5539e-11\n",
            "Epoch 391/500\n",
            "3/3 [==============================] - 0s 5ms/step - loss: 2.4879e-11 - mse: 2.4879e-11\n",
            "Epoch 392/500\n",
            "3/3 [==============================] - 0s 5ms/step - loss: 2.5716e-11 - mse: 2.5716e-11\n",
            "Epoch 393/500\n",
            "3/3 [==============================] - 0s 2ms/step - loss: 2.6316e-11 - mse: 2.6316e-11\n",
            "Epoch 394/500\n",
            "3/3 [==============================] - 0s 2ms/step - loss: 2.6316e-11 - mse: 2.6316e-11\n",
            "Epoch 395/500\n",
            "3/3 [==============================] - 0s 6ms/step - loss: 2.0452e-11 - mse: 2.0452e-11\n",
            "Epoch 396/500\n",
            "3/3 [==============================] - 0s 3ms/step - loss: 2.0970e-11 - mse: 2.0970e-11\n",
            "Epoch 397/500\n",
            "3/3 [==============================] - 0s 7ms/step - loss: 2.1516e-11 - mse: 2.1516e-11\n",
            "Epoch 398/500\n",
            "3/3 [==============================] - 0s 3ms/step - loss: 2.1357e-11 - mse: 2.1357e-11\n",
            "Epoch 399/500\n",
            "3/3 [==============================] - 0s 3ms/step - loss: 2.1357e-11 - mse: 2.1357e-11\n",
            "Epoch 400/500\n",
            "3/3 [==============================] - 0s 2ms/step - loss: 2.1357e-11 - mse: 2.1357e-11\n",
            "Epoch 401/500\n",
            "3/3 [==============================] - 0s 3ms/step - loss: 2.2207e-11 - mse: 2.2207e-11\n",
            "Epoch 402/500\n",
            "3/3 [==============================] - 0s 2ms/step - loss: 2.1275e-11 - mse: 2.1275e-11\n",
            "Epoch 403/500\n",
            "3/3 [==============================] - 0s 2ms/step - loss: 2.1821e-11 - mse: 2.1821e-11\n",
            "Epoch 404/500\n",
            "3/3 [==============================] - 0s 4ms/step - loss: 2.2549e-11 - mse: 2.2549e-11\n",
            "Epoch 405/500\n",
            "3/3 [==============================] - 0s 3ms/step - loss: 2.1099e-11 - mse: 2.1099e-11\n",
            "Epoch 406/500\n",
            "3/3 [==============================] - 0s 3ms/step - loss: 2.0658e-11 - mse: 2.0658e-11\n",
            "Epoch 407/500\n",
            "3/3 [==============================] - 0s 6ms/step - loss: 2.0396e-11 - mse: 2.0396e-11\n",
            "Epoch 408/500\n",
            "3/3 [==============================] - 0s 2ms/step - loss: 2.0942e-11 - mse: 2.0942e-11\n",
            "Epoch 409/500\n",
            "3/3 [==============================] - 0s 10ms/step - loss: 2.1476e-11 - mse: 2.1476e-11\n",
            "Epoch 410/500\n",
            "3/3 [==============================] - 0s 2ms/step - loss: 2.1064e-11 - mse: 2.1064e-11\n",
            "Epoch 411/500\n",
            "3/3 [==============================] - 0s 2ms/step - loss: 2.1355e-11 - mse: 2.1355e-11\n",
            "Epoch 412/500\n",
            "3/3 [==============================] - 0s 5ms/step - loss: 2.1355e-11 - mse: 2.1355e-11\n",
            "Epoch 413/500\n",
            "3/3 [==============================] - 0s 4ms/step - loss: 2.3244e-11 - mse: 2.3244e-11\n",
            "Epoch 414/500\n",
            "3/3 [==============================] - 0s 2ms/step - loss: 2.4930e-11 - mse: 2.4930e-11\n",
            "Epoch 415/500\n",
            "3/3 [==============================] - 0s 3ms/step - loss: 2.2548e-11 - mse: 2.2548e-11\n",
            "Epoch 416/500\n",
            "3/3 [==============================] - 0s 2ms/step - loss: 2.2500e-11 - mse: 2.2500e-11\n",
            "Epoch 417/500\n",
            "3/3 [==============================] - 0s 2ms/step - loss: 2.2318e-11 - mse: 2.2318e-11\n",
            "Epoch 418/500\n",
            "3/3 [==============================] - 0s 7ms/step - loss: 2.2136e-11 - mse: 2.2136e-11\n",
            "Epoch 419/500\n",
            "3/3 [==============================] - 0s 3ms/step - loss: 2.1397e-11 - mse: 2.1397e-11\n",
            "Epoch 420/500\n",
            "3/3 [==============================] - 0s 4ms/step - loss: 2.2318e-11 - mse: 2.2318e-11\n",
            "Epoch 421/500\n",
            "3/3 [==============================] - 0s 7ms/step - loss: 2.3071e-11 - mse: 2.3071e-11\n",
            "Epoch 422/500\n",
            "3/3 [==============================] - 0s 3ms/step - loss: 2.2537e-11 - mse: 2.2537e-11\n",
            "Epoch 423/500\n",
            "3/3 [==============================] - 0s 8ms/step - loss: 2.2890e-11 - mse: 2.2890e-11\n",
            "Epoch 424/500\n",
            "3/3 [==============================] - 0s 2ms/step - loss: 2.2852e-11 - mse: 2.2852e-11\n",
            "Epoch 425/500\n",
            "3/3 [==============================] - 0s 8ms/step - loss: 2.2415e-11 - mse: 2.2415e-11\n",
            "Epoch 426/500\n",
            "3/3 [==============================] - 0s 2ms/step - loss: 2.1663e-11 - mse: 2.1663e-11\n",
            "Epoch 427/500\n",
            "3/3 [==============================] - 0s 4ms/step - loss: 2.1471e-11 - mse: 2.1471e-11\n",
            "Epoch 428/500\n",
            "3/3 [==============================] - 0s 7ms/step - loss: 2.1653e-11 - mse: 2.1653e-11\n",
            "Epoch 429/500\n",
            "3/3 [==============================] - 0s 4ms/step - loss: 2.2052e-11 - mse: 2.2052e-11\n",
            "Epoch 430/500\n",
            "3/3 [==============================] - 0s 8ms/step - loss: 2.4053e-11 - mse: 2.4053e-11\n",
            "Epoch 431/500\n",
            "3/3 [==============================] - 0s 4ms/step - loss: 2.3143e-11 - mse: 2.3143e-11\n",
            "Epoch 432/500\n",
            "3/3 [==============================] - 0s 6ms/step - loss: 2.2198e-11 - mse: 2.2198e-11\n",
            "Epoch 433/500\n",
            "3/3 [==============================] - 0s 2ms/step - loss: 2.0822e-11 - mse: 2.0822e-11\n",
            "Epoch 434/500\n",
            "3/3 [==============================] - 0s 5ms/step - loss: 2.0094e-11 - mse: 2.0094e-11\n",
            "Epoch 435/500\n",
            "3/3 [==============================] - 0s 4ms/step - loss: 2.1674e-11 - mse: 2.1674e-11\n",
            "Epoch 436/500\n",
            "3/3 [==============================] - 0s 9ms/step - loss: 2.1674e-11 - mse: 2.1674e-11\n",
            "Epoch 437/500\n",
            "3/3 [==============================] - 0s 4ms/step - loss: 1.9778e-11 - mse: 1.9778e-11\n",
            "Epoch 438/500\n",
            "3/3 [==============================] - 0s 5ms/step - loss: 1.9725e-11 - mse: 1.9725e-11\n",
            "Epoch 439/500\n",
            "3/3 [==============================] - 0s 14ms/step - loss: 1.9821e-11 - mse: 1.9821e-11\n",
            "Epoch 440/500\n",
            "3/3 [==============================] - 0s 3ms/step - loss: 1.9650e-11 - mse: 1.9650e-11\n",
            "Epoch 441/500\n",
            "3/3 [==============================] - 0s 7ms/step - loss: 1.9831e-11 - mse: 1.9831e-11\n",
            "Epoch 442/500\n",
            "3/3 [==============================] - 0s 3ms/step - loss: 1.8740e-11 - mse: 1.8740e-11\n",
            "Epoch 443/500\n",
            "3/3 [==============================] - 0s 3ms/step - loss: 1.8687e-11 - mse: 1.8687e-11\n",
            "Epoch 444/500\n",
            "3/3 [==============================] - 0s 9ms/step - loss: 1.8687e-11 - mse: 1.8687e-11\n",
            "Epoch 445/500\n",
            "3/3 [==============================] - 0s 2ms/step - loss: 1.8687e-11 - mse: 1.8687e-11\n",
            "Epoch 446/500\n",
            "3/3 [==============================] - 0s 8ms/step - loss: 1.8687e-11 - mse: 1.8687e-11\n",
            "Epoch 447/500\n",
            "3/3 [==============================] - 0s 3ms/step - loss: 1.8730e-11 - mse: 1.8730e-11\n",
            "Epoch 448/500\n",
            "3/3 [==============================] - 0s 7ms/step - loss: 1.8730e-11 - mse: 1.8730e-11\n",
            "Epoch 449/500\n",
            "3/3 [==============================] - 0s 9ms/step - loss: 1.8194e-11 - mse: 1.8194e-11\n",
            "Epoch 450/500\n",
            "3/3 [==============================] - 0s 3ms/step - loss: 1.8730e-11 - mse: 1.8730e-11\n",
            "Epoch 451/500\n",
            "3/3 [==============================] - 0s 3ms/step - loss: 1.8548e-11 - mse: 1.8548e-11\n",
            "Epoch 452/500\n",
            "3/3 [==============================] - 0s 7ms/step - loss: 1.8730e-11 - mse: 1.8730e-11\n",
            "Epoch 453/500\n",
            "3/3 [==============================] - 0s 2ms/step - loss: 1.8505e-11 - mse: 1.8505e-11\n",
            "Epoch 454/500\n",
            "3/3 [==============================] - 0s 4ms/step - loss: 1.8494e-11 - mse: 1.8494e-11\n",
            "Epoch 455/500\n",
            "3/3 [==============================] - 0s 8ms/step - loss: 1.8494e-11 - mse: 1.8494e-11\n",
            "Epoch 456/500\n",
            "3/3 [==============================] - 0s 3ms/step - loss: 1.8494e-11 - mse: 1.8494e-11\n",
            "Epoch 457/500\n",
            "3/3 [==============================] - 0s 9ms/step - loss: 1.9425e-11 - mse: 1.9425e-11\n",
            "Epoch 458/500\n",
            "3/3 [==============================] - 0s 2ms/step - loss: 1.9275e-11 - mse: 1.9275e-11\n",
            "Epoch 459/500\n",
            "3/3 [==============================] - 0s 3ms/step - loss: 1.7863e-11 - mse: 1.7863e-11\n",
            "Epoch 460/500\n",
            "3/3 [==============================] - 0s 3ms/step - loss: 2.0911e-11 - mse: 2.0911e-11\n",
            "Epoch 461/500\n",
            "3/3 [==============================] - 0s 3ms/step - loss: 2.0184e-11 - mse: 2.0184e-11\n",
            "Epoch 462/500\n",
            "3/3 [==============================] - 0s 4ms/step - loss: 1.8821e-11 - mse: 1.8821e-11\n",
            "Epoch 463/500\n",
            "3/3 [==============================] - 0s 4ms/step - loss: 1.9398e-11 - mse: 1.9398e-11\n",
            "Epoch 464/500\n",
            "3/3 [==============================] - 0s 4ms/step - loss: 2.0582e-11 - mse: 2.0582e-11\n",
            "Epoch 465/500\n",
            "3/3 [==============================] - 0s 3ms/step - loss: 2.0310e-11 - mse: 2.0310e-11\n",
            "Epoch 466/500\n",
            "3/3 [==============================] - 0s 8ms/step - loss: 1.9844e-11 - mse: 1.9844e-11\n",
            "Epoch 467/500\n",
            "3/3 [==============================] - 0s 2ms/step - loss: 1.8581e-11 - mse: 1.8581e-11\n",
            "Epoch 468/500\n",
            "3/3 [==============================] - 0s 5ms/step - loss: 1.7297e-11 - mse: 1.7297e-11\n",
            "Epoch 469/500\n",
            "3/3 [==============================] - 0s 3ms/step - loss: 1.9073e-11 - mse: 1.9073e-11\n",
            "Epoch 470/500\n",
            "3/3 [==============================] - 0s 3ms/step - loss: 1.9810e-11 - mse: 1.9810e-11\n",
            "Epoch 471/500\n",
            "3/3 [==============================] - 0s 3ms/step - loss: 1.7092e-11 - mse: 1.7092e-11\n",
            "Epoch 472/500\n",
            "3/3 [==============================] - 0s 6ms/step - loss: 1.8527e-11 - mse: 1.8527e-11\n",
            "Epoch 473/500\n",
            "3/3 [==============================] - 0s 3ms/step - loss: 1.8345e-11 - mse: 1.8345e-11\n",
            "Epoch 474/500\n",
            "3/3 [==============================] - 0s 3ms/step - loss: 1.8345e-11 - mse: 1.8345e-11\n",
            "Epoch 475/500\n",
            "3/3 [==============================] - 0s 3ms/step - loss: 1.7273e-11 - mse: 1.7273e-11\n",
            "Epoch 476/500\n",
            "3/3 [==============================] - 0s 3ms/step - loss: 1.7273e-11 - mse: 1.7273e-11\n",
            "Epoch 477/500\n",
            "3/3 [==============================] - 0s 3ms/step - loss: 1.9274e-11 - mse: 1.9274e-11\n",
            "Epoch 478/500\n",
            "3/3 [==============================] - 0s 3ms/step - loss: 1.8197e-11 - mse: 1.8197e-11\n",
            "Epoch 479/500\n",
            "3/3 [==============================] - 0s 4ms/step - loss: 1.9298e-11 - mse: 1.9298e-11\n",
            "Epoch 480/500\n",
            "3/3 [==============================] - 0s 5ms/step - loss: 1.7319e-11 - mse: 1.7319e-11\n",
            "Epoch 481/500\n",
            "3/3 [==============================] - 0s 7ms/step - loss: 1.7319e-11 - mse: 1.7319e-11\n",
            "Epoch 482/500\n",
            "3/3 [==============================] - 0s 3ms/step - loss: 1.7712e-11 - mse: 1.7712e-11\n",
            "Epoch 483/500\n",
            "3/3 [==============================] - 0s 9ms/step - loss: 1.7584e-11 - mse: 1.7584e-11\n",
            "Epoch 484/500\n",
            "3/3 [==============================] - 0s 2ms/step - loss: 1.7584e-11 - mse: 1.7584e-11\n",
            "Epoch 485/500\n",
            "3/3 [==============================] - 0s 3ms/step - loss: 1.5275e-11 - mse: 1.5275e-11\n",
            "Epoch 486/500\n",
            "3/3 [==============================] - 0s 3ms/step - loss: 1.4892e-11 - mse: 1.4892e-11\n",
            "Epoch 487/500\n",
            "3/3 [==============================] - 0s 7ms/step - loss: 1.4892e-11 - mse: 1.4892e-11\n",
            "Epoch 488/500\n",
            "3/3 [==============================] - 0s 3ms/step - loss: 1.5345e-11 - mse: 1.5345e-11\n",
            "Epoch 489/500\n",
            "3/3 [==============================] - 0s 4ms/step - loss: 2.5131e-11 - mse: 2.5131e-11\n",
            "Epoch 490/500\n",
            "3/3 [==============================] - 0s 8ms/step - loss: 2.1925e-11 - mse: 2.1925e-11\n",
            "Epoch 491/500\n",
            "3/3 [==============================] - 0s 2ms/step - loss: 1.4829e-11 - mse: 1.4829e-11\n",
            "Epoch 492/500\n",
            "3/3 [==============================] - 0s 5ms/step - loss: 1.8150e-11 - mse: 1.8150e-11\n",
            "Epoch 493/500\n",
            "3/3 [==============================] - 0s 4ms/step - loss: 1.8265e-11 - mse: 1.8265e-11\n",
            "Epoch 494/500\n",
            "3/3 [==============================] - 0s 2ms/step - loss: 1.5881e-11 - mse: 1.5881e-11\n",
            "Epoch 495/500\n",
            "3/3 [==============================] - 0s 4ms/step - loss: 2.0448e-11 - mse: 2.0448e-11\n",
            "Epoch 496/500\n",
            "3/3 [==============================] - 0s 7ms/step - loss: 1.6618e-11 - mse: 1.6618e-11\n",
            "Epoch 497/500\n",
            "3/3 [==============================] - 0s 5ms/step - loss: 1.6851e-11 - mse: 1.6851e-11\n",
            "Epoch 498/500\n",
            "3/3 [==============================] - 0s 9ms/step - loss: 1.7396e-11 - mse: 1.7396e-11\n",
            "Epoch 499/500\n",
            "3/3 [==============================] - 0s 2ms/step - loss: 1.7396e-11 - mse: 1.7396e-11\n",
            "Epoch 500/500\n",
            "3/3 [==============================] - 0s 2ms/step - loss: 1.7155e-11 - mse: 1.7155e-11\n"
          ]
        },
        {
          "output_type": "execute_result",
          "data": {
            "text/plain": [
              "<keras.callbacks.History at 0x7f63d35f9850>"
            ]
          },
          "metadata": {},
          "execution_count": 39
        }
      ]
    },
    {
      "cell_type": "code",
      "metadata": {
        "colab": {
          "base_uri": "https://localhost:8080/",
          "height": 465
        },
        "id": "pvcAM65Dmzlp",
        "outputId": "760057dd-9be2-49ff-bdb5-cc3666b94944"
      },
      "source": [
        "y_pred_1=model_1.predict(x_test)\n",
        "tf.squeeze(x_test)\n",
        "plot_prediction(predictions=y_pred_1)"
      ],
      "execution_count": null,
      "outputs": [
        {
          "output_type": "stream",
          "name": "stdout",
          "text": [
            "WARNING:tensorflow:6 out of the last 6 calls to <function Model.make_predict_function.<locals>.predict_function at 0x7f6382b7b680> triggered tf.function retracing. Tracing is expensive and the excessive number of tracings could be due to (1) creating @tf.function repeatedly in a loop, (2) passing tensors with different shapes, (3) passing Python objects instead of tensors. For (1), please define your @tf.function outside of the loop. For (2), @tf.function has experimental_relax_shapes=True option that relaxes argument shapes that can avoid unnecessary retracing. For (3), please refer to https://www.tensorflow.org/guide/function#controlling_retracing and https://www.tensorflow.org/api_docs/python/tf/function for  more details.\n"
          ]
        },
        {
          "output_type": "display_data",
          "data": {
            "image/png": "[encoded data removed]",
            "text/plain": [
              "<Figure size 720x504 with 1 Axes>"
            ]
          },
          "metadata": {
            "needs_background": "light"
          }
        }
      ]
    },
    {
      "cell_type": "code",
      "metadata": {
        "colab": {
          "base_uri": "https://localhost:8080/"
        },
        "id": "OwBWvHWAEEph",
        "outputId": "2db1530a-cd69-4417-d76b-0aa5cc2c1034"
      },
      "source": [
        "model_1.predict([-95])"
      ],
      "execution_count": null,
      "outputs": [
        {
          "output_type": "execute_result",
          "data": {
            "text/plain": [
              "array([[-85.00001]], dtype=float32)"
            ]
          },
          "metadata": {},
          "execution_count": 41
        }
      ]
    },
    {
      "cell_type": "code",
      "metadata": {
        "colab": {
          "base_uri": "https://localhost:8080/"
        },
        "id": "hNb5Lf3UE3Ij",
        "outputId": "fe539dc3-4255-47ef-fbfe-98674f1dfbf4"
      },
      "source": [
        "x_train,y_train"
      ],
      "execution_count": null,
      "outputs": [
        {
          "output_type": "execute_result",
          "data": {
            "text/plain": [
              "(<tf.Tensor: shape=(80,), dtype=int32, numpy=\n",
              " array([-100,  -98,  -96,  -94,  -92,  -90,  -88,  -86,  -84,  -82,  -80,\n",
              "         -78,  -76,  -74,  -72,  -70,  -68,  -66,  -64,  -62,  -60,  -58,\n",
              "         -56,  -54,  -52,  -50,  -48,  -46,  -44,  -42,  -40,  -38,  -36,\n",
              "         -34,  -32,  -30,  -28,  -26,  -24,  -22,  -20,  -18,  -16,  -14,\n",
              "         -12,  -10,   -8,   -6,   -4,   -2,    0,    2,    4,    6,    8,\n",
              "          10,   12,   14,   16,   18,   20,   22,   24,   26,   28,   30,\n",
              "          32,   34,   36,   38,   40,   42,   44,   46,   48,   50,   52,\n",
              "          54,   56,   58], dtype=int32)>,\n",
              " <tf.Tensor: shape=(80,), dtype=int32, numpy=\n",
              " array([-90, -88, -86, -84, -82, -80, -78, -76, -74, -72, -70, -68, -66,\n",
              "        -64, -62, -60, -58, -56, -54, -52, -50, -48, -46, -44, -42, -40,\n",
              "        -38, -36, -34, -32, -30, -28, -26, -24, -22, -20, -18, -16, -14,\n",
              "        -12, -10,  -8,  -6,  -4,  -2,   0,   2,   4,   6,   8,  10,  12,\n",
              "         14,  16,  18,  20,  22,  24,  26,  28,  30,  32,  34,  36,  38,\n",
              "         40,  42,  44,  46,  48,  50,  52,  54,  56,  58,  60,  62,  64,\n",
              "         66,  68], dtype=int32)>)"
            ]
          },
          "metadata": {},
          "execution_count": 42
        }
      ]
    },
    {
      "cell_type": "markdown",
      "metadata": {
        "id": "HjOSZAgQHwUF"
      },
      "source": [
        "### Comparing the results of our experiments\n",
        "we've run few experiments,lets compare the results"
      ]
    },
    {
      "cell_type": "code",
      "metadata": {
        "colab": {
          "base_uri": "https://localhost:8080/"
        },
        "id": "oOKR_XpnHPQJ",
        "outputId": "92bfa5de-a47a-4f43-d072-eee9c8e4a429"
      },
      "source": [
        "model_1.summary()"
      ],
      "execution_count": null,
      "outputs": [
        {
          "output_type": "stream",
          "name": "stdout",
          "text": [
            "Model: \"sequential_4\"\n",
            "_________________________________________________________________\n",
            "Layer (type)                 Output Shape              Param #   \n",
            "=================================================================\n",
            "dense_4 (Dense)              (None, 10)                20        \n",
            "_________________________________________________________________\n",
            "dense_5 (Dense)              (None, 1)                 11        \n",
            "=================================================================\n",
            "Total params: 31\n",
            "Trainable params: 31\n",
            "Non-trainable params: 0\n",
            "_________________________________________________________________\n"
          ]
        }
      ]
    },
    {
      "cell_type": "markdown",
      "metadata": {
        "id": "qhSbjFc0NYzQ"
      },
      "source": [
        "**Note:** One of your main goal should be to minimize the time between your experiments you do,the more things you'll figure out which don't work and in turn, get closure to figuring out what does work. Remember the machine learning practioner's motto: \"experiment,experiment,experiment\"."
      ]
    },
    {
      "cell_type": "markdown",
      "metadata": {
        "id": "xKxsBYudOvyg"
      },
      "source": [
        "## Tracking your experiments\n",
        "\n",
        "One really good habit in machine learning modelling is to track the results of your experiment.\n",
        "\n",
        "And when doing so, it can be tendious if you're running lot of experiments.\n",
        "\n",
        "Luckily,there are tools to help us!\n",
        "\n",
        "**Resource:** As you build more models,you'll want to look into using:\n",
        "\n",
        "* TensorBoard - a component of the TensorFlow library to help track modelling experiments (we'll see this one later)\n",
        "* Weights and Biases - a tool for tracking all kinds of machine learning experiments(plugs straight into TensorBoard)"
      ]
    },
    {
      "cell_type": "markdown",
      "metadata": {
        "id": "tx-UL6HzQWdm"
      },
      "source": [
        "## Saving Our Models\n",
        "\n",
        "\n",
        "Saving our models allows us to use them outside of google Colab( or wherever they were trained) such as in a web application or mobile applications.\n",
        "\n",
        "There are two main formats we can save our model's too:\n",
        "\n",
        "1. The SavedModel format\n",
        "2. The HDF5 format"
      ]
    },
    {
      "cell_type": "code",
      "metadata": {
        "colab": {
          "base_uri": "https://localhost:8080/"
        },
        "id": "mOUiPljXKLRE",
        "outputId": "3091a510-aaf8-4290-94e0-63707ea6fe8b"
      },
      "source": [
        "model_1.save(\"Best_model_SavedModel_format\")"
      ],
      "execution_count": null,
      "outputs": [
        {
          "output_type": "stream",
          "name": "stdout",
          "text": [
            "INFO:tensorflow:Assets written to: Best_model_SavedModel_format/assets\n"
          ]
        }
      ]
    },
    {
      "cell_type": "code",
      "metadata": {
        "id": "D60xwr5G_ptI"
      },
      "source": [
        "model_1.save(\"Best_model_HDF5_format.h5\")"
      ],
      "execution_count": null,
      "outputs": []
    },
    {
      "cell_type": "markdown",
      "metadata": {
        "id": "lzLiRPk3BJFH"
      },
      "source": [
        "# loading in saved model"
      ]
    },
    {
      "cell_type": "code",
      "metadata": {
        "colab": {
          "base_uri": "https://localhost:8080/"
        },
        "id": "2DuXAqRcAnFo",
        "outputId": "f7f2dac7-e3e5-4edc-de1e-9abded75c486"
      },
      "source": [
        "loaded_SavedModel_format=tf.keras.models.load_model(\"/content/Best_model_SavedModel_format\")\n",
        "loaded_SavedModel_format.summary()"
      ],
      "execution_count": null,
      "outputs": [
        {
          "output_type": "stream",
          "text": [
            "Model: \"sequential_4\"\n",
            "_________________________________________________________________\n",
            "Layer (type)                 Output Shape              Param #   \n",
            "=================================================================\n",
            "dense_4 (Dense)              (None, 10)                20        \n",
            "_________________________________________________________________\n",
            "dense_5 (Dense)              (None, 1)                 11        \n",
            "=================================================================\n",
            "Total params: 31\n",
            "Trainable params: 31\n",
            "Non-trainable params: 0\n",
            "_________________________________________________________________\n"
          ],
          "name": "stdout"
        }
      ]
    },
    {
      "cell_type": "code",
      "metadata": {
        "colab": {
          "base_uri": "https://localhost:8080/"
        },
        "id": "pCHAPCwCBt3U",
        "outputId": "5a7acfd5-6513-43a3-db56-de42c75112cf"
      },
      "source": [
        "model_1_preds=model_1.predict(x_test)\n",
        "loaded_SavedModel_format.preds=loaded_SavedModel_format.predict(x_test)\n",
        "model_1_preds==loaded_SavedModel_format.preds"
      ],
      "execution_count": null,
      "outputs": [
        {
          "output_type": "execute_result",
          "data": {
            "text/plain": [
              "array([[ True],\n",
              "       [ True],\n",
              "       [ True],\n",
              "       [ True],\n",
              "       [ True],\n",
              "       [ True],\n",
              "       [ True],\n",
              "       [ True],\n",
              "       [ True],\n",
              "       [ True],\n",
              "       [ True],\n",
              "       [ True],\n",
              "       [ True],\n",
              "       [ True],\n",
              "       [ True],\n",
              "       [ True],\n",
              "       [ True],\n",
              "       [ True],\n",
              "       [ True],\n",
              "       [ True]])"
            ]
          },
          "metadata": {},
          "execution_count": 45
        }
      ]
    },
    {
      "cell_type": "code",
      "metadata": {
        "colab": {
          "base_uri": "https://localhost:8080/"
        },
        "id": "nEmxf6oqDNgl",
        "outputId": "5fbb6074-8f6d-4c41-82af-e523c218c9bd"
      },
      "source": [
        "loaded_h5_model=tf.keras.models.load_model(\"/content/Best_model_HDF5_format.h5\")\n",
        "loaded_h5_model.summary()"
      ],
      "execution_count": null,
      "outputs": [
        {
          "output_type": "stream",
          "text": [
            "Model: \"sequential_4\"\n",
            "_________________________________________________________________\n",
            "Layer (type)                 Output Shape              Param #   \n",
            "=================================================================\n",
            "dense_4 (Dense)              (None, 10)                20        \n",
            "_________________________________________________________________\n",
            "dense_5 (Dense)              (None, 1)                 11        \n",
            "=================================================================\n",
            "Total params: 31\n",
            "Trainable params: 31\n",
            "Non-trainable params: 0\n",
            "_________________________________________________________________\n"
          ],
          "name": "stdout"
        }
      ]
    },
    {
      "cell_type": "code",
      "metadata": {
        "colab": {
          "base_uri": "https://localhost:8080/"
        },
        "id": "CY328oY1D_3t",
        "outputId": "19617880-177b-4b55-cdc8-5a9aadef7fc9"
      },
      "source": [
        "loaded_h5_model.preds=loaded_h5_model.predict(x_test)\n",
        "model_1_preds=model_1.predict(x_test)\n",
        "loaded_h5_model.preds==model_1_preds"
      ],
      "execution_count": null,
      "outputs": [
        {
          "output_type": "execute_result",
          "data": {
            "text/plain": [
              "array([[ True],\n",
              "       [ True],\n",
              "       [ True],\n",
              "       [ True],\n",
              "       [ True],\n",
              "       [ True],\n",
              "       [ True],\n",
              "       [ True],\n",
              "       [ True],\n",
              "       [ True],\n",
              "       [ True],\n",
              "       [ True],\n",
              "       [ True],\n",
              "       [ True],\n",
              "       [ True],\n",
              "       [ True],\n",
              "       [ True],\n",
              "       [ True],\n",
              "       [ True],\n",
              "       [ True]])"
            ]
          },
          "metadata": {},
          "execution_count": 47
        }
      ]
    },
    {
      "cell_type": "markdown",
      "metadata": {
        "id": "1HwhnFb1Fl7G"
      },
      "source": [
        "## Download a model (or any other file) from Google Colab\n",
        "\n",
        "If you want to download your files from Google Colab:\n",
        "\n",
        "1. You can go to the \"files\" tab and right click on the file you're after and click \"download\".\n",
        "2. Use code (see the cell below).\n",
        "3. Save it to Google Drive by connecting Google Drive and copying it there (See 2nd code cell below).\n"
      ]
    },
    {
      "cell_type": "code",
      "metadata": {
        "colab": {
          "base_uri": "https://localhost:8080/",
          "height": 17
        },
        "id": "BSmdYriFEuDO",
        "outputId": "83826b00-e8cc-49da-946a-47264a23b070"
      },
      "source": [
        "from google.colab import files\n",
        "files.download(\"/content/Best_model_HDF5_format.h5\")"
      ],
      "execution_count": null,
      "outputs": [
        {
          "output_type": "display_data",
          "data": {
            "application/javascript": [
              "\n",
              "    async function download(id, filename, size) {\n",
              "      if (!google.colab.kernel.accessAllowed) {\n",
              "        return;\n",
              "      }\n",
              "      const div = document.createElement('div');\n",
              "      const label = document.createElement('label');\n",
              "      label.textContent = `Downloading \"${filename}\": `;\n",
              "      div.appendChild(label);\n",
              "      const progress = document.createElement('progress');\n",
              "      progress.max = size;\n",
              "      div.appendChild(progress);\n",
              "      document.body.appendChild(div);\n",
              "\n",
              "      const buffers = [];\n",
              "      let downloaded = 0;\n",
              "\n",
              "      const channel = await google.colab.kernel.comms.open(id);\n",
              "      // Send a message to notify the kernel that we're ready.\n",
              "      channel.send({})\n",
              "\n",
              "      for await (const message of channel.messages) {\n",
              "        // Send a message to notify the kernel that we're ready.\n",
              "        channel.send({})\n",
              "        if (message.buffers) {\n",
              "          for (const buffer of message.buffers) {\n",
              "            buffers.push(buffer);\n",
              "            downloaded += buffer.byteLength;\n",
              "            progress.value = downloaded;\n",
              "          }\n",
              "        }\n",
              "      }\n",
              "      const blob = new Blob(buffers, {type: 'application/binary'});\n",
              "      const a = document.createElement('a');\n",
              "      a.href = window.URL.createObjectURL(blob);\n",
              "      a.download = filename;\n",
              "      div.appendChild(a);\n",
              "      a.click();\n",
              "      div.remove();\n",
              "    }\n",
              "  "
            ],
            "text/plain": [
              "<IPython.core.display.Javascript object>"
            ]
          },
          "metadata": {}
        },
        {
          "output_type": "display_data",
          "data": {
            "application/javascript": [
              "download(\"download_d3246872-bf66-4691-b678-ae96a7a0d015\", \"Best_model_HDF5_format.h5\", 25536)"
            ],
            "text/plain": [
              "<IPython.core.display.Javascript object>"
            ]
          },
          "metadata": {}
        }
      ]
    },
    {
      "cell_type": "code",
      "metadata": {
        "colab": {
          "base_uri": "https://localhost:8080/"
        },
        "id": "J9RjOs6xHLq3",
        "outputId": "5c87df65-cdff-494f-c811-619f632952d1"
      },
      "source": [
        "!cp /content/Best_model_HDF5_format.h5 /content/drive/MyDrive/Trained model"
      ],
      "execution_count": null,
      "outputs": [
        {
          "output_type": "stream",
          "text": [
            "cp: target 'model' is not a directory\n"
          ],
          "name": "stdout"
        }
      ]
    },
    {
      "cell_type": "markdown",
      "metadata": {
        "id": "pd8cpx8xJwog"
      },
      "source": [
        "## A larger example"
      ]
    },
    {
      "cell_type": "code",
      "metadata": {
        "id": "S-xaYPDwI2dH"
      },
      "source": [
        "# Import required libraries\n",
        "import tensorflow as tf\n",
        "import pandas as pd\n",
        "import matplotlib.pyplot as plt"
      ],
      "execution_count": null,
      "outputs": []
    },
    {
      "cell_type": "code",
      "metadata": {
        "colab": {
          "base_uri": "https://localhost:8080/",
          "height": 419
        },
        "id": "vi5hd4tvN-b3",
        "outputId": "25e99504-3a29-46bc-8b71-00b91deae1ba"
      },
      "source": [
        "# Read in the insurance dataset\n",
        "insurance=pd.read_csv(\"https://raw.githubusercontent.com/stedy/Machine-Learning-with-R-datasets/master/insurance.csv\")\n",
        "insurance"
      ],
      "execution_count": null,
      "outputs": [
        {
          "output_type": "execute_result",
          "data": {
            "text/html": [
              "<div>\n",
              "<style scoped>\n",
              "    .dataframe tbody tr th:only-of-type {\n",
              "        vertical-align: middle;\n",
              "    }\n",
              "\n",
              "    .dataframe tbody tr th {\n",
              "        vertical-align: top;\n",
              "    }\n",
              "\n",
              "    .dataframe thead th {\n",
              "        text-align: right;\n",
              "    }\n",
              "</style>\n",
              "<table border=\"1\" class=\"dataframe\">\n",
              "  <thead>\n",
              "    <tr style=\"text-align: right;\">\n",
              "      <th></th>\n",
              "      <th>age</th>\n",
              "      <th>sex</th>\n",
              "      <th>bmi</th>\n",
              "      <th>children</th>\n",
              "      <th>smoker</th>\n",
              "      <th>region</th>\n",
              "      <th>charges</th>\n",
              "    </tr>\n",
              "  </thead>\n",
              "  <tbody>\n",
              "    <tr>\n",
              "      <th>0</th>\n",
              "      <td>19</td>\n",
              "      <td>female</td>\n",
              "      <td>27.900</td>\n",
              "      <td>0</td>\n",
              "      <td>yes</td>\n",
              "      <td>southwest</td>\n",
              "      <td>16884.92400</td>\n",
              "    </tr>\n",
              "    <tr>\n",
              "      <th>1</th>\n",
              "      <td>18</td>\n",
              "      <td>male</td>\n",
              "      <td>33.770</td>\n",
              "      <td>1</td>\n",
              "      <td>no</td>\n",
              "      <td>southeast</td>\n",
              "      <td>1725.55230</td>\n",
              "    </tr>\n",
              "    <tr>\n",
              "      <th>2</th>\n",
              "      <td>28</td>\n",
              "      <td>male</td>\n",
              "      <td>33.000</td>\n",
              "      <td>3</td>\n",
              "      <td>no</td>\n",
              "      <td>southeast</td>\n",
              "      <td>4449.46200</td>\n",
              "    </tr>\n",
              "    <tr>\n",
              "      <th>3</th>\n",
              "      <td>33</td>\n",
              "      <td>male</td>\n",
              "      <td>22.705</td>\n",
              "      <td>0</td>\n",
              "      <td>no</td>\n",
              "      <td>northwest</td>\n",
              "      <td>21984.47061</td>\n",
              "    </tr>\n",
              "    <tr>\n",
              "      <th>4</th>\n",
              "      <td>32</td>\n",
              "      <td>male</td>\n",
              "      <td>28.880</td>\n",
              "      <td>0</td>\n",
              "      <td>no</td>\n",
              "      <td>northwest</td>\n",
              "      <td>3866.85520</td>\n",
              "    </tr>\n",
              "    <tr>\n",
              "      <th>...</th>\n",
              "      <td>...</td>\n",
              "      <td>...</td>\n",
              "      <td>...</td>\n",
              "      <td>...</td>\n",
              "      <td>...</td>\n",
              "      <td>...</td>\n",
              "      <td>...</td>\n",
              "    </tr>\n",
              "    <tr>\n",
              "      <th>1333</th>\n",
              "      <td>50</td>\n",
              "      <td>male</td>\n",
              "      <td>30.970</td>\n",
              "      <td>3</td>\n",
              "      <td>no</td>\n",
              "      <td>northwest</td>\n",
              "      <td>10600.54830</td>\n",
              "    </tr>\n",
              "    <tr>\n",
              "      <th>1334</th>\n",
              "      <td>18</td>\n",
              "      <td>female</td>\n",
              "      <td>31.920</td>\n",
              "      <td>0</td>\n",
              "      <td>no</td>\n",
              "      <td>northeast</td>\n",
              "      <td>2205.98080</td>\n",
              "    </tr>\n",
              "    <tr>\n",
              "      <th>1335</th>\n",
              "      <td>18</td>\n",
              "      <td>female</td>\n",
              "      <td>36.850</td>\n",
              "      <td>0</td>\n",
              "      <td>no</td>\n",
              "      <td>southeast</td>\n",
              "      <td>1629.83350</td>\n",
              "    </tr>\n",
              "    <tr>\n",
              "      <th>1336</th>\n",
              "      <td>21</td>\n",
              "      <td>female</td>\n",
              "      <td>25.800</td>\n",
              "      <td>0</td>\n",
              "      <td>no</td>\n",
              "      <td>southwest</td>\n",
              "      <td>2007.94500</td>\n",
              "    </tr>\n",
              "    <tr>\n",
              "      <th>1337</th>\n",
              "      <td>61</td>\n",
              "      <td>female</td>\n",
              "      <td>29.070</td>\n",
              "      <td>0</td>\n",
              "      <td>yes</td>\n",
              "      <td>northwest</td>\n",
              "      <td>29141.36030</td>\n",
              "    </tr>\n",
              "  </tbody>\n",
              "</table>\n",
              "<p>1338 rows × 7 columns</p>\n",
              "</div>"
            ],
            "text/plain": [
              "      age     sex     bmi  children smoker     region      charges\n",
              "0      19  female  27.900         0    yes  southwest  16884.92400\n",
              "1      18    male  33.770         1     no  southeast   1725.55230\n",
              "2      28    male  33.000         3     no  southeast   4449.46200\n",
              "3      33    male  22.705         0     no  northwest  21984.47061\n",
              "4      32    male  28.880         0     no  northwest   3866.85520\n",
              "...   ...     ...     ...       ...    ...        ...          ...\n",
              "1333   50    male  30.970         3     no  northwest  10600.54830\n",
              "1334   18  female  31.920         0     no  northeast   2205.98080\n",
              "1335   18  female  36.850         0     no  southeast   1629.83350\n",
              "1336   21  female  25.800         0     no  southwest   2007.94500\n",
              "1337   61  female  29.070         0    yes  northwest  29141.36030\n",
              "\n",
              "[1338 rows x 7 columns]"
            ]
          },
          "metadata": {},
          "execution_count": 52
        }
      ]
    },
    {
      "cell_type": "code",
      "metadata": {
        "colab": {
          "base_uri": "https://localhost:8080/",
          "height": 204
        },
        "id": "WnyZ-RFYRUzk",
        "outputId": "1a2932fe-2b0a-40b3-96fe-e3346b6729bc"
      },
      "source": [
        "# Let's try one-hot encode our DatFrame so it's all numbers\n",
        "insurance_one_hot=pd.get_dummies(insurance)\n",
        "insurance_one_hot.head()"
      ],
      "execution_count": null,
      "outputs": [
        {
          "output_type": "execute_result",
          "data": {
            "text/html": [
              "<div>\n",
              "<style scoped>\n",
              "    .dataframe tbody tr th:only-of-type {\n",
              "        vertical-align: middle;\n",
              "    }\n",
              "\n",
              "    .dataframe tbody tr th {\n",
              "        vertical-align: top;\n",
              "    }\n",
              "\n",
              "    .dataframe thead th {\n",
              "        text-align: right;\n",
              "    }\n",
              "</style>\n",
              "<table border=\"1\" class=\"dataframe\">\n",
              "  <thead>\n",
              "    <tr style=\"text-align: right;\">\n",
              "      <th></th>\n",
              "      <th>age</th>\n",
              "      <th>bmi</th>\n",
              "      <th>children</th>\n",
              "      <th>charges</th>\n",
              "      <th>sex_female</th>\n",
              "      <th>sex_male</th>\n",
              "      <th>smoker_no</th>\n",
              "      <th>smoker_yes</th>\n",
              "      <th>region_northeast</th>\n",
              "      <th>region_northwest</th>\n",
              "      <th>region_southeast</th>\n",
              "      <th>region_southwest</th>\n",
              "    </tr>\n",
              "  </thead>\n",
              "  <tbody>\n",
              "    <tr>\n",
              "      <th>0</th>\n",
              "      <td>19</td>\n",
              "      <td>27.900</td>\n",
              "      <td>0</td>\n",
              "      <td>16884.92400</td>\n",
              "      <td>1</td>\n",
              "      <td>0</td>\n",
              "      <td>0</td>\n",
              "      <td>1</td>\n",
              "      <td>0</td>\n",
              "      <td>0</td>\n",
              "      <td>0</td>\n",
              "      <td>1</td>\n",
              "    </tr>\n",
              "    <tr>\n",
              "      <th>1</th>\n",
              "      <td>18</td>\n",
              "      <td>33.770</td>\n",
              "      <td>1</td>\n",
              "      <td>1725.55230</td>\n",
              "      <td>0</td>\n",
              "      <td>1</td>\n",
              "      <td>1</td>\n",
              "      <td>0</td>\n",
              "      <td>0</td>\n",
              "      <td>0</td>\n",
              "      <td>1</td>\n",
              "      <td>0</td>\n",
              "    </tr>\n",
              "    <tr>\n",
              "      <th>2</th>\n",
              "      <td>28</td>\n",
              "      <td>33.000</td>\n",
              "      <td>3</td>\n",
              "      <td>4449.46200</td>\n",
              "      <td>0</td>\n",
              "      <td>1</td>\n",
              "      <td>1</td>\n",
              "      <td>0</td>\n",
              "      <td>0</td>\n",
              "      <td>0</td>\n",
              "      <td>1</td>\n",
              "      <td>0</td>\n",
              "    </tr>\n",
              "    <tr>\n",
              "      <th>3</th>\n",
              "      <td>33</td>\n",
              "      <td>22.705</td>\n",
              "      <td>0</td>\n",
              "      <td>21984.47061</td>\n",
              "      <td>0</td>\n",
              "      <td>1</td>\n",
              "      <td>1</td>\n",
              "      <td>0</td>\n",
              "      <td>0</td>\n",
              "      <td>1</td>\n",
              "      <td>0</td>\n",
              "      <td>0</td>\n",
              "    </tr>\n",
              "    <tr>\n",
              "      <th>4</th>\n",
              "      <td>32</td>\n",
              "      <td>28.880</td>\n",
              "      <td>0</td>\n",
              "      <td>3866.85520</td>\n",
              "      <td>0</td>\n",
              "      <td>1</td>\n",
              "      <td>1</td>\n",
              "      <td>0</td>\n",
              "      <td>0</td>\n",
              "      <td>1</td>\n",
              "      <td>0</td>\n",
              "      <td>0</td>\n",
              "    </tr>\n",
              "  </tbody>\n",
              "</table>\n",
              "</div>"
            ],
            "text/plain": [
              "   age     bmi  children  ...  region_northwest  region_southeast  region_southwest\n",
              "0   19  27.900         0  ...                 0                 0                 1\n",
              "1   18  33.770         1  ...                 0                 1                 0\n",
              "2   28  33.000         3  ...                 0                 1                 0\n",
              "3   33  22.705         0  ...                 1                 0                 0\n",
              "4   32  28.880         0  ...                 1                 0                 0\n",
              "\n",
              "[5 rows x 12 columns]"
            ]
          },
          "metadata": {},
          "execution_count": 53
        }
      ]
    },
    {
      "cell_type": "code",
      "metadata": {
        "id": "_A34LQ-YUo_u"
      },
      "source": [
        "# Create x & y values (features and labels)\n",
        "x=insurance_one_hot.drop(\"charges\",axis=1)\n",
        "y=insurance_one_hot[\"charges\"]\n"
      ],
      "execution_count": null,
      "outputs": []
    },
    {
      "cell_type": "code",
      "metadata": {
        "colab": {
          "base_uri": "https://localhost:8080/",
          "height": 204
        },
        "id": "Jx_HHqCPV3bo",
        "outputId": "c050bdb3-5995-4d48-f795-f3dc43e55211"
      },
      "source": [
        "x.head()"
      ],
      "execution_count": null,
      "outputs": [
        {
          "output_type": "execute_result",
          "data": {
            "text/html": [
              "<div>\n",
              "<style scoped>\n",
              "    .dataframe tbody tr th:only-of-type {\n",
              "        vertical-align: middle;\n",
              "    }\n",
              "\n",
              "    .dataframe tbody tr th {\n",
              "        vertical-align: top;\n",
              "    }\n",
              "\n",
              "    .dataframe thead th {\n",
              "        text-align: right;\n",
              "    }\n",
              "</style>\n",
              "<table border=\"1\" class=\"dataframe\">\n",
              "  <thead>\n",
              "    <tr style=\"text-align: right;\">\n",
              "      <th></th>\n",
              "      <th>age</th>\n",
              "      <th>bmi</th>\n",
              "      <th>children</th>\n",
              "      <th>sex_female</th>\n",
              "      <th>sex_male</th>\n",
              "      <th>smoker_no</th>\n",
              "      <th>smoker_yes</th>\n",
              "      <th>region_northeast</th>\n",
              "      <th>region_northwest</th>\n",
              "      <th>region_southeast</th>\n",
              "      <th>region_southwest</th>\n",
              "    </tr>\n",
              "  </thead>\n",
              "  <tbody>\n",
              "    <tr>\n",
              "      <th>0</th>\n",
              "      <td>19</td>\n",
              "      <td>27.900</td>\n",
              "      <td>0</td>\n",
              "      <td>1</td>\n",
              "      <td>0</td>\n",
              "      <td>0</td>\n",
              "      <td>1</td>\n",
              "      <td>0</td>\n",
              "      <td>0</td>\n",
              "      <td>0</td>\n",
              "      <td>1</td>\n",
              "    </tr>\n",
              "    <tr>\n",
              "      <th>1</th>\n",
              "      <td>18</td>\n",
              "      <td>33.770</td>\n",
              "      <td>1</td>\n",
              "      <td>0</td>\n",
              "      <td>1</td>\n",
              "      <td>1</td>\n",
              "      <td>0</td>\n",
              "      <td>0</td>\n",
              "      <td>0</td>\n",
              "      <td>1</td>\n",
              "      <td>0</td>\n",
              "    </tr>\n",
              "    <tr>\n",
              "      <th>2</th>\n",
              "      <td>28</td>\n",
              "      <td>33.000</td>\n",
              "      <td>3</td>\n",
              "      <td>0</td>\n",
              "      <td>1</td>\n",
              "      <td>1</td>\n",
              "      <td>0</td>\n",
              "      <td>0</td>\n",
              "      <td>0</td>\n",
              "      <td>1</td>\n",
              "      <td>0</td>\n",
              "    </tr>\n",
              "    <tr>\n",
              "      <th>3</th>\n",
              "      <td>33</td>\n",
              "      <td>22.705</td>\n",
              "      <td>0</td>\n",
              "      <td>0</td>\n",
              "      <td>1</td>\n",
              "      <td>1</td>\n",
              "      <td>0</td>\n",
              "      <td>0</td>\n",
              "      <td>1</td>\n",
              "      <td>0</td>\n",
              "      <td>0</td>\n",
              "    </tr>\n",
              "    <tr>\n",
              "      <th>4</th>\n",
              "      <td>32</td>\n",
              "      <td>28.880</td>\n",
              "      <td>0</td>\n",
              "      <td>0</td>\n",
              "      <td>1</td>\n",
              "      <td>1</td>\n",
              "      <td>0</td>\n",
              "      <td>0</td>\n",
              "      <td>1</td>\n",
              "      <td>0</td>\n",
              "      <td>0</td>\n",
              "    </tr>\n",
              "  </tbody>\n",
              "</table>\n",
              "</div>"
            ],
            "text/plain": [
              "   age     bmi  children  ...  region_northwest  region_southeast  region_southwest\n",
              "0   19  27.900         0  ...                 0                 0                 1\n",
              "1   18  33.770         1  ...                 0                 1                 0\n",
              "2   28  33.000         3  ...                 0                 1                 0\n",
              "3   33  22.705         0  ...                 1                 0                 0\n",
              "4   32  28.880         0  ...                 1                 0                 0\n",
              "\n",
              "[5 rows x 11 columns]"
            ]
          },
          "metadata": {},
          "execution_count": 55
        }
      ]
    },
    {
      "cell_type": "code",
      "metadata": {
        "colab": {
          "base_uri": "https://localhost:8080/"
        },
        "id": "YOlApz0IV9Hl",
        "outputId": "bfe6c022-9b54-4b50-eedb-2d02845ccf27"
      },
      "source": [
        "y.head()"
      ],
      "execution_count": null,
      "outputs": [
        {
          "output_type": "execute_result",
          "data": {
            "text/plain": [
              "0    16884.92400\n",
              "1     1725.55230\n",
              "2     4449.46200\n",
              "3    21984.47061\n",
              "4     3866.85520\n",
              "Name: charges, dtype: float64"
            ]
          },
          "metadata": {},
          "execution_count": 56
        }
      ]
    },
    {
      "cell_type": "code",
      "metadata": {
        "colab": {
          "base_uri": "https://localhost:8080/"
        },
        "id": "UOtQ-eQbU8vR",
        "outputId": "9bf49102-5949-4345-8330-8bb1f0699041"
      },
      "source": [
        "# Create training and test sets\n",
        "from sklearn.model_selection import train_test_split\n",
        "x_train,x_test,y_train,y_test=train_test_split(x,y,test_size=0.2,random_state=42)\n",
        "len(x),len(x_train),len(x_test)"
      ],
      "execution_count": null,
      "outputs": [
        {
          "output_type": "execute_result",
          "data": {
            "text/plain": [
              "(1338, 1070, 268)"
            ]
          },
          "metadata": {},
          "execution_count": 57
        }
      ]
    },
    {
      "cell_type": "code",
      "metadata": {
        "colab": {
          "base_uri": "https://localhost:8080/"
        },
        "id": "Ai9v01zYU_fP",
        "outputId": "fd12fc72-5c37-471b-c3b0-710e9a1a04ad"
      },
      "source": [
        "# Build a neural network (sort of like model_1 above)\n",
        "tf.random.set_seed(42)\n",
        "\n",
        "insurance_model=tf.keras.Sequential([\n",
        "  tf.keras.layers.Dense(10),\n",
        "  tf.keras.layers.Dense(1)\n",
        "])\n",
        "\n",
        "insurance_model.compile(loss=tf.keras.losses.mae,\n",
        "                        optimizer=tf.keras.optimizers.Adam(lr=0.01),\n",
        "                        metrics=[\"mae\"])\n",
        "\n",
        "insurance_model.fit(x_train,y_train,epochs=500)"
      ],
      "execution_count": null,
      "outputs": [
        {
          "output_type": "stream",
          "text": [
            "/usr/local/lib/python3.7/dist-packages/keras/optimizer_v2/optimizer_v2.py:356: UserWarning: The `lr` argument is deprecated, use `learning_rate` instead.\n",
            "  \"The `lr` argument is deprecated, use `learning_rate` instead.\")\n"
          ],
          "name": "stderr"
        },
        {
          "output_type": "stream",
          "text": [
            "Epoch 1/500\n",
            "34/34 [==============================] - 0s 1ms/step - loss: 13279.1016 - mae: 13279.1016\n",
            "Epoch 2/500\n",
            "34/34 [==============================] - 0s 1ms/step - loss: 12998.5508 - mae: 12998.5508\n",
            "Epoch 3/500\n",
            "34/34 [==============================] - 0s 1ms/step - loss: 12359.9570 - mae: 12359.9570\n",
            "Epoch 4/500\n",
            "34/34 [==============================] - 0s 2ms/step - loss: 11267.7432 - mae: 11267.7432\n",
            "Epoch 5/500\n",
            "34/34 [==============================] - 0s 1ms/step - loss: 9902.3105 - mae: 9902.3105\n",
            "Epoch 6/500\n",
            "34/34 [==============================] - 0s 2ms/step - loss: 8626.2051 - mae: 8626.2051\n",
            "Epoch 7/500\n",
            "34/34 [==============================] - 0s 2ms/step - loss: 7781.4487 - mae: 7781.4487\n",
            "Epoch 8/500\n",
            "34/34 [==============================] - 0s 2ms/step - loss: 7492.3174 - mae: 7492.3174\n",
            "Epoch 9/500\n",
            "34/34 [==============================] - 0s 2ms/step - loss: 7429.4502 - mae: 7429.4502\n",
            "Epoch 10/500\n",
            "34/34 [==============================] - 0s 2ms/step - loss: 7404.6792 - mae: 7404.6792\n",
            "Epoch 11/500\n",
            "34/34 [==============================] - 0s 2ms/step - loss: 7384.3906 - mae: 7384.3906\n",
            "Epoch 12/500\n",
            "34/34 [==============================] - 0s 2ms/step - loss: 7361.3511 - mae: 7361.3511\n",
            "Epoch 13/500\n",
            "34/34 [==============================] - 0s 2ms/step - loss: 7339.2119 - mae: 7339.2119\n",
            "Epoch 14/500\n",
            "34/34 [==============================] - 0s 2ms/step - loss: 7315.2129 - mae: 7315.2129\n",
            "Epoch 15/500\n",
            "34/34 [==============================] - 0s 1ms/step - loss: 7293.9048 - mae: 7293.9048\n",
            "Epoch 16/500\n",
            "34/34 [==============================] - 0s 2ms/step - loss: 7270.2925 - mae: 7270.2925\n",
            "Epoch 17/500\n",
            "34/34 [==============================] - 0s 2ms/step - loss: 7246.8384 - mae: 7246.8384\n",
            "Epoch 18/500\n",
            "34/34 [==============================] - 0s 2ms/step - loss: 7222.0161 - mae: 7222.0161\n",
            "Epoch 19/500\n",
            "34/34 [==============================] - 0s 2ms/step - loss: 7197.0708 - mae: 7197.0708\n",
            "Epoch 20/500\n",
            "34/34 [==============================] - 0s 2ms/step - loss: 7171.0181 - mae: 7171.0181\n",
            "Epoch 21/500\n",
            "34/34 [==============================] - 0s 2ms/step - loss: 7149.4346 - mae: 7149.4346\n",
            "Epoch 22/500\n",
            "34/34 [==============================] - 0s 1ms/step - loss: 7118.2129 - mae: 7118.2129\n",
            "Epoch 23/500\n",
            "34/34 [==============================] - 0s 2ms/step - loss: 7090.8457 - mae: 7090.8457\n",
            "Epoch 24/500\n",
            "34/34 [==============================] - 0s 2ms/step - loss: 7062.9463 - mae: 7062.9463\n",
            "Epoch 25/500\n",
            "34/34 [==============================] - 0s 2ms/step - loss: 7041.9849 - mae: 7041.9849\n",
            "Epoch 26/500\n",
            "34/34 [==============================] - 0s 1ms/step - loss: 7006.6938 - mae: 7006.6938\n",
            "Epoch 27/500\n",
            "34/34 [==============================] - 0s 1ms/step - loss: 6975.1846 - mae: 6975.1846\n",
            "Epoch 28/500\n",
            "34/34 [==============================] - 0s 2ms/step - loss: 6943.8940 - mae: 6943.8940\n",
            "Epoch 29/500\n",
            "34/34 [==============================] - 0s 2ms/step - loss: 6912.7324 - mae: 6912.7324\n",
            "Epoch 30/500\n",
            "34/34 [==============================] - 0s 2ms/step - loss: 6881.7705 - mae: 6881.7705\n",
            "Epoch 31/500\n",
            "34/34 [==============================] - 0s 2ms/step - loss: 6849.1709 - mae: 6849.1709\n",
            "Epoch 32/500\n",
            "34/34 [==============================] - 0s 2ms/step - loss: 6818.0718 - mae: 6818.0718\n",
            "Epoch 33/500\n",
            "34/34 [==============================] - 0s 2ms/step - loss: 6783.7856 - mae: 6783.7856\n",
            "Epoch 34/500\n",
            "34/34 [==============================] - 0s 1ms/step - loss: 6749.0054 - mae: 6749.0054\n",
            "Epoch 35/500\n",
            "34/34 [==============================] - 0s 2ms/step - loss: 6713.8711 - mae: 6713.8711\n",
            "Epoch 36/500\n",
            "34/34 [==============================] - 0s 2ms/step - loss: 6679.8857 - mae: 6679.8857\n",
            "Epoch 37/500\n",
            "34/34 [==============================] - 0s 2ms/step - loss: 6644.4365 - mae: 6644.4365\n",
            "Epoch 38/500\n",
            "34/34 [==============================] - 0s 1ms/step - loss: 6615.0771 - mae: 6615.0771\n",
            "Epoch 39/500\n",
            "34/34 [==============================] - 0s 2ms/step - loss: 6577.4893 - mae: 6577.4893\n",
            "Epoch 40/500\n",
            "34/34 [==============================] - 0s 2ms/step - loss: 6546.3525 - mae: 6546.3525\n",
            "Epoch 41/500\n",
            "34/34 [==============================] - 0s 2ms/step - loss: 6519.9917 - mae: 6519.9917\n",
            "Epoch 42/500\n",
            "34/34 [==============================] - 0s 1ms/step - loss: 6498.1089 - mae: 6498.1089\n",
            "Epoch 43/500\n",
            "34/34 [==============================] - 0s 2ms/step - loss: 6475.4033 - mae: 6475.4033\n",
            "Epoch 44/500\n",
            "34/34 [==============================] - 0s 2ms/step - loss: 6455.2295 - mae: 6455.2295\n",
            "Epoch 45/500\n",
            "34/34 [==============================] - 0s 2ms/step - loss: 6446.5615 - mae: 6446.5615\n",
            "Epoch 46/500\n",
            "34/34 [==============================] - 0s 2ms/step - loss: 6425.7314 - mae: 6425.7314\n",
            "Epoch 47/500\n",
            "34/34 [==============================] - 0s 2ms/step - loss: 6411.4160 - mae: 6411.4160\n",
            "Epoch 48/500\n",
            "34/34 [==============================] - 0s 2ms/step - loss: 6398.4351 - mae: 6398.4351\n",
            "Epoch 49/500\n",
            "34/34 [==============================] - 0s 2ms/step - loss: 6384.6431 - mae: 6384.6431\n",
            "Epoch 50/500\n",
            "34/34 [==============================] - 0s 2ms/step - loss: 6370.5215 - mae: 6370.5215\n",
            "Epoch 51/500\n",
            "34/34 [==============================] - 0s 2ms/step - loss: 6357.4189 - mae: 6357.4189\n",
            "Epoch 52/500\n",
            "34/34 [==============================] - 0s 2ms/step - loss: 6345.0610 - mae: 6345.0610\n",
            "Epoch 53/500\n",
            "34/34 [==============================] - 0s 2ms/step - loss: 6330.3516 - mae: 6330.3516\n",
            "Epoch 54/500\n",
            "34/34 [==============================] - 0s 1ms/step - loss: 6315.5957 - mae: 6315.5957\n",
            "Epoch 55/500\n",
            "34/34 [==============================] - 0s 2ms/step - loss: 6301.8623 - mae: 6301.8623\n",
            "Epoch 56/500\n",
            "34/34 [==============================] - 0s 2ms/step - loss: 6289.6030 - mae: 6289.6030\n",
            "Epoch 57/500\n",
            "34/34 [==============================] - 0s 2ms/step - loss: 6274.3760 - mae: 6274.3760\n",
            "Epoch 58/500\n",
            "34/34 [==============================] - 0s 1ms/step - loss: 6261.9380 - mae: 6261.9380\n",
            "Epoch 59/500\n",
            "34/34 [==============================] - 0s 1ms/step - loss: 6245.6675 - mae: 6245.6675\n",
            "Epoch 60/500\n",
            "34/34 [==============================] - 0s 1ms/step - loss: 6234.6978 - mae: 6234.6978\n",
            "Epoch 61/500\n",
            "34/34 [==============================] - 0s 1ms/step - loss: 6216.2388 - mae: 6216.2388\n",
            "Epoch 62/500\n",
            "34/34 [==============================] - 0s 1ms/step - loss: 6202.5049 - mae: 6202.5049\n",
            "Epoch 63/500\n",
            "34/34 [==============================] - 0s 2ms/step - loss: 6185.4409 - mae: 6185.4409\n",
            "Epoch 64/500\n",
            "34/34 [==============================] - 0s 2ms/step - loss: 6169.6323 - mae: 6169.6323\n",
            "Epoch 65/500\n",
            "34/34 [==============================] - 0s 2ms/step - loss: 6152.8467 - mae: 6152.8467\n",
            "Epoch 66/500\n",
            "34/34 [==============================] - 0s 2ms/step - loss: 6136.7837 - mae: 6136.7837\n",
            "Epoch 67/500\n",
            "34/34 [==============================] - 0s 2ms/step - loss: 6123.6006 - mae: 6123.6006\n",
            "Epoch 68/500\n",
            "34/34 [==============================] - 0s 2ms/step - loss: 6103.8745 - mae: 6103.8745\n",
            "Epoch 69/500\n",
            "34/34 [==============================] - 0s 1ms/step - loss: 6088.0547 - mae: 6088.0547\n",
            "Epoch 70/500\n",
            "34/34 [==============================] - 0s 2ms/step - loss: 6069.4072 - mae: 6069.4072\n",
            "Epoch 71/500\n",
            "34/34 [==============================] - 0s 2ms/step - loss: 6051.6499 - mae: 6051.6499\n",
            "Epoch 72/500\n",
            "34/34 [==============================] - 0s 1ms/step - loss: 6034.5566 - mae: 6034.5566\n",
            "Epoch 73/500\n",
            "34/34 [==============================] - 0s 2ms/step - loss: 6021.8032 - mae: 6021.8032\n",
            "Epoch 74/500\n",
            "34/34 [==============================] - 0s 2ms/step - loss: 5996.7051 - mae: 5996.7051\n",
            "Epoch 75/500\n",
            "34/34 [==============================] - 0s 2ms/step - loss: 5979.3887 - mae: 5979.3887\n",
            "Epoch 76/500\n",
            "34/34 [==============================] - 0s 2ms/step - loss: 5968.0605 - mae: 5968.0605\n",
            "Epoch 77/500\n",
            "34/34 [==============================] - 0s 2ms/step - loss: 5938.2104 - mae: 5938.2104\n",
            "Epoch 78/500\n",
            "34/34 [==============================] - 0s 2ms/step - loss: 5919.7622 - mae: 5919.7622\n",
            "Epoch 79/500\n",
            "34/34 [==============================] - 0s 3ms/step - loss: 5899.6787 - mae: 5899.6787\n",
            "Epoch 80/500\n",
            "34/34 [==============================] - 0s 2ms/step - loss: 5876.9438 - mae: 5876.9438\n",
            "Epoch 81/500\n",
            "34/34 [==============================] - 0s 2ms/step - loss: 5857.8096 - mae: 5857.8096\n",
            "Epoch 82/500\n",
            "34/34 [==============================] - 0s 1ms/step - loss: 5835.6753 - mae: 5835.6753\n",
            "Epoch 83/500\n",
            "34/34 [==============================] - 0s 2ms/step - loss: 5814.1890 - mae: 5814.1890\n",
            "Epoch 84/500\n",
            "34/34 [==============================] - 0s 2ms/step - loss: 5788.1382 - mae: 5788.1382\n",
            "Epoch 85/500\n",
            "34/34 [==============================] - 0s 2ms/step - loss: 5772.4902 - mae: 5772.4902\n",
            "Epoch 86/500\n",
            "34/34 [==============================] - 0s 2ms/step - loss: 5744.4541 - mae: 5744.4541\n",
            "Epoch 87/500\n",
            "34/34 [==============================] - 0s 2ms/step - loss: 5719.0503 - mae: 5719.0503\n",
            "Epoch 88/500\n",
            "34/34 [==============================] - 0s 2ms/step - loss: 5695.7368 - mae: 5695.7368\n",
            "Epoch 89/500\n",
            "34/34 [==============================] - 0s 2ms/step - loss: 5669.2085 - mae: 5669.2085\n",
            "Epoch 90/500\n",
            "34/34 [==============================] - 0s 2ms/step - loss: 5642.3662 - mae: 5642.3662\n",
            "Epoch 91/500\n",
            "34/34 [==============================] - 0s 1ms/step - loss: 5619.4854 - mae: 5619.4854\n",
            "Epoch 92/500\n",
            "34/34 [==============================] - 0s 2ms/step - loss: 5588.9023 - mae: 5588.9023\n",
            "Epoch 93/500\n",
            "34/34 [==============================] - 0s 3ms/step - loss: 5566.5728 - mae: 5566.5728\n",
            "Epoch 94/500\n",
            "34/34 [==============================] - 0s 2ms/step - loss: 5541.8271 - mae: 5541.8271\n",
            "Epoch 95/500\n",
            "34/34 [==============================] - 0s 2ms/step - loss: 5509.8706 - mae: 5509.8706\n",
            "Epoch 96/500\n",
            "34/34 [==============================] - 0s 2ms/step - loss: 5481.2119 - mae: 5481.2119\n",
            "Epoch 97/500\n",
            "34/34 [==============================] - 0s 1ms/step - loss: 5455.2651 - mae: 5455.2651\n",
            "Epoch 98/500\n",
            "34/34 [==============================] - 0s 1ms/step - loss: 5421.0415 - mae: 5421.0415\n",
            "Epoch 99/500\n",
            "34/34 [==============================] - 0s 1ms/step - loss: 5391.8013 - mae: 5391.8013\n",
            "Epoch 100/500\n",
            "34/34 [==============================] - 0s 1ms/step - loss: 5360.1084 - mae: 5360.1084\n",
            "Epoch 101/500\n",
            "34/34 [==============================] - 0s 2ms/step - loss: 5327.2495 - mae: 5327.2495\n",
            "Epoch 102/500\n",
            "34/34 [==============================] - 0s 2ms/step - loss: 5297.2520 - mae: 5297.2520\n",
            "Epoch 103/500\n",
            "34/34 [==============================] - 0s 2ms/step - loss: 5261.6250 - mae: 5261.6250\n",
            "Epoch 104/500\n",
            "34/34 [==============================] - 0s 2ms/step - loss: 5224.8359 - mae: 5224.8359\n",
            "Epoch 105/500\n",
            "34/34 [==============================] - 0s 2ms/step - loss: 5191.0630 - mae: 5191.0630\n",
            "Epoch 106/500\n",
            "34/34 [==============================] - 0s 1ms/step - loss: 5154.9668 - mae: 5154.9668\n",
            "Epoch 107/500\n",
            "34/34 [==============================] - 0s 2ms/step - loss: 5115.3374 - mae: 5115.3374\n",
            "Epoch 108/500\n",
            "34/34 [==============================] - 0s 2ms/step - loss: 5087.0596 - mae: 5087.0596\n",
            "Epoch 109/500\n",
            "34/34 [==============================] - 0s 1ms/step - loss: 5047.0220 - mae: 5047.0220\n",
            "Epoch 110/500\n",
            "34/34 [==============================] - 0s 1ms/step - loss: 5005.3755 - mae: 5005.3755\n",
            "Epoch 111/500\n",
            "34/34 [==============================] - 0s 1ms/step - loss: 4971.2793 - mae: 4971.2793\n",
            "Epoch 112/500\n",
            "34/34 [==============================] - 0s 2ms/step - loss: 4936.4282 - mae: 4936.4282\n",
            "Epoch 113/500\n",
            "34/34 [==============================] - 0s 1ms/step - loss: 4884.5845 - mae: 4884.5845\n",
            "Epoch 114/500\n",
            "34/34 [==============================] - 0s 2ms/step - loss: 4844.5176 - mae: 4844.5176\n",
            "Epoch 115/500\n",
            "34/34 [==============================] - 0s 1ms/step - loss: 4800.9214 - mae: 4800.9214\n",
            "Epoch 116/500\n",
            "34/34 [==============================] - 0s 1ms/step - loss: 4758.9810 - mae: 4758.9810\n",
            "Epoch 117/500\n",
            "34/34 [==============================] - 0s 1ms/step - loss: 4715.4883 - mae: 4715.4883\n",
            "Epoch 118/500\n",
            "34/34 [==============================] - 0s 2ms/step - loss: 4671.2344 - mae: 4671.2344\n",
            "Epoch 119/500\n",
            "34/34 [==============================] - 0s 2ms/step - loss: 4629.5029 - mae: 4629.5029\n",
            "Epoch 120/500\n",
            "34/34 [==============================] - 0s 2ms/step - loss: 4576.6973 - mae: 4576.6973\n",
            "Epoch 121/500\n",
            "34/34 [==============================] - 0s 1ms/step - loss: 4532.1182 - mae: 4532.1182\n",
            "Epoch 122/500\n",
            "34/34 [==============================] - 0s 1ms/step - loss: 4491.7153 - mae: 4491.7153\n",
            "Epoch 123/500\n",
            "34/34 [==============================] - 0s 1ms/step - loss: 4436.2378 - mae: 4436.2378\n",
            "Epoch 124/500\n",
            "34/34 [==============================] - 0s 1ms/step - loss: 4396.7939 - mae: 4396.7939\n",
            "Epoch 125/500\n",
            "34/34 [==============================] - 0s 2ms/step - loss: 4348.7070 - mae: 4348.7070\n",
            "Epoch 126/500\n",
            "34/34 [==============================] - 0s 2ms/step - loss: 4304.7197 - mae: 4304.7197\n",
            "Epoch 127/500\n",
            "34/34 [==============================] - 0s 2ms/step - loss: 4266.4907 - mae: 4266.4907\n",
            "Epoch 128/500\n",
            "34/34 [==============================] - 0s 1ms/step - loss: 4222.6196 - mae: 4222.6196\n",
            "Epoch 129/500\n",
            "34/34 [==============================] - 0s 2ms/step - loss: 4181.1860 - mae: 4181.1860\n",
            "Epoch 130/500\n",
            "34/34 [==============================] - 0s 2ms/step - loss: 4137.6309 - mae: 4137.6309\n",
            "Epoch 131/500\n",
            "34/34 [==============================] - 0s 2ms/step - loss: 4101.1514 - mae: 4101.1514\n",
            "Epoch 132/500\n",
            "34/34 [==============================] - 0s 2ms/step - loss: 4071.8130 - mae: 4071.8130\n",
            "Epoch 133/500\n",
            "34/34 [==============================] - 0s 2ms/step - loss: 4030.1995 - mae: 4030.1995\n",
            "Epoch 134/500\n",
            "34/34 [==============================] - 0s 1ms/step - loss: 4000.0083 - mae: 4000.0083\n",
            "Epoch 135/500\n",
            "34/34 [==============================] - 0s 2ms/step - loss: 3971.8828 - mae: 3971.8828\n",
            "Epoch 136/500\n",
            "34/34 [==============================] - 0s 2ms/step - loss: 3952.4402 - mae: 3952.4402\n",
            "Epoch 137/500\n",
            "34/34 [==============================] - 0s 2ms/step - loss: 3939.2444 - mae: 3939.2444\n",
            "Epoch 138/500\n",
            "34/34 [==============================] - 0s 2ms/step - loss: 3933.1453 - mae: 3933.1453\n",
            "Epoch 139/500\n",
            "34/34 [==============================] - 0s 2ms/step - loss: 3897.5103 - mae: 3897.5103\n",
            "Epoch 140/500\n",
            "34/34 [==============================] - 0s 2ms/step - loss: 3882.7175 - mae: 3882.7175\n",
            "Epoch 141/500\n",
            "34/34 [==============================] - 0s 2ms/step - loss: 3875.8176 - mae: 3875.8176\n",
            "Epoch 142/500\n",
            "34/34 [==============================] - 0s 2ms/step - loss: 3864.2971 - mae: 3864.2971\n",
            "Epoch 143/500\n",
            "34/34 [==============================] - 0s 2ms/step - loss: 3846.1052 - mae: 3846.1052\n",
            "Epoch 144/500\n",
            "34/34 [==============================] - 0s 1ms/step - loss: 3838.0183 - mae: 3838.0183\n",
            "Epoch 145/500\n",
            "34/34 [==============================] - 0s 2ms/step - loss: 3829.4016 - mae: 3829.4016\n",
            "Epoch 146/500\n",
            "34/34 [==============================] - 0s 2ms/step - loss: 3822.0784 - mae: 3822.0784\n",
            "Epoch 147/500\n",
            "34/34 [==============================] - 0s 2ms/step - loss: 3816.2690 - mae: 3816.2690\n",
            "Epoch 148/500\n",
            "34/34 [==============================] - 0s 2ms/step - loss: 3813.4578 - mae: 3813.4578\n",
            "Epoch 149/500\n",
            "34/34 [==============================] - 0s 2ms/step - loss: 3800.0796 - mae: 3800.0796\n",
            "Epoch 150/500\n",
            "34/34 [==============================] - 0s 2ms/step - loss: 3792.4495 - mae: 3792.4495\n",
            "Epoch 151/500\n",
            "34/34 [==============================] - 0s 2ms/step - loss: 3790.7131 - mae: 3790.7131\n",
            "Epoch 152/500\n",
            "34/34 [==============================] - 0s 2ms/step - loss: 3787.9363 - mae: 3787.9363\n",
            "Epoch 153/500\n",
            "34/34 [==============================] - 0s 2ms/step - loss: 3784.3867 - mae: 3784.3867\n",
            "Epoch 154/500\n",
            "34/34 [==============================] - 0s 2ms/step - loss: 3777.2739 - mae: 3777.2739\n",
            "Epoch 155/500\n",
            "34/34 [==============================] - 0s 2ms/step - loss: 3776.6733 - mae: 3776.6733\n",
            "Epoch 156/500\n",
            "34/34 [==============================] - 0s 2ms/step - loss: 3775.4182 - mae: 3775.4182\n",
            "Epoch 157/500\n",
            "34/34 [==============================] - 0s 2ms/step - loss: 3771.3735 - mae: 3771.3735\n",
            "Epoch 158/500\n",
            "34/34 [==============================] - 0s 2ms/step - loss: 3764.4666 - mae: 3764.4666\n",
            "Epoch 159/500\n",
            "34/34 [==============================] - 0s 2ms/step - loss: 3764.2532 - mae: 3764.2532\n",
            "Epoch 160/500\n",
            "34/34 [==============================] - 0s 2ms/step - loss: 3766.6936 - mae: 3766.6936\n",
            "Epoch 161/500\n",
            "34/34 [==============================] - 0s 2ms/step - loss: 3763.0332 - mae: 3763.0332\n",
            "Epoch 162/500\n",
            "34/34 [==============================] - 0s 2ms/step - loss: 3756.1965 - mae: 3756.1965\n",
            "Epoch 163/500\n",
            "34/34 [==============================] - 0s 2ms/step - loss: 3755.2317 - mae: 3755.2317\n",
            "Epoch 164/500\n",
            "34/34 [==============================] - 0s 2ms/step - loss: 3758.4077 - mae: 3758.4077\n",
            "Epoch 165/500\n",
            "34/34 [==============================] - 0s 2ms/step - loss: 3751.7344 - mae: 3751.7344\n",
            "Epoch 166/500\n",
            "34/34 [==============================] - 0s 3ms/step - loss: 3753.8604 - mae: 3753.8604\n",
            "Epoch 167/500\n",
            "34/34 [==============================] - 0s 2ms/step - loss: 3754.7356 - mae: 3754.7356\n",
            "Epoch 168/500\n",
            "34/34 [==============================] - 0s 2ms/step - loss: 3748.4863 - mae: 3748.4863\n",
            "Epoch 169/500\n",
            "34/34 [==============================] - 0s 2ms/step - loss: 3744.6848 - mae: 3744.6848\n",
            "Epoch 170/500\n",
            "34/34 [==============================] - 0s 2ms/step - loss: 3743.2168 - mae: 3743.2168\n",
            "Epoch 171/500\n",
            "34/34 [==============================] - 0s 2ms/step - loss: 3741.8232 - mae: 3741.8232\n",
            "Epoch 172/500\n",
            "34/34 [==============================] - 0s 2ms/step - loss: 3745.5320 - mae: 3745.5320\n",
            "Epoch 173/500\n",
            "34/34 [==============================] - 0s 2ms/step - loss: 3739.4912 - mae: 3739.4912\n",
            "Epoch 174/500\n",
            "34/34 [==============================] - 0s 1ms/step - loss: 3745.4473 - mae: 3745.4473\n",
            "Epoch 175/500\n",
            "34/34 [==============================] - 0s 2ms/step - loss: 3741.6865 - mae: 3741.6865\n",
            "Epoch 176/500\n",
            "34/34 [==============================] - 0s 2ms/step - loss: 3743.0632 - mae: 3743.0632\n",
            "Epoch 177/500\n",
            "34/34 [==============================] - 0s 1ms/step - loss: 3736.2539 - mae: 3736.2539\n",
            "Epoch 178/500\n",
            "34/34 [==============================] - 0s 2ms/step - loss: 3737.9700 - mae: 3737.9700\n",
            "Epoch 179/500\n",
            "34/34 [==============================] - 0s 2ms/step - loss: 3740.3669 - mae: 3740.3669\n",
            "Epoch 180/500\n",
            "34/34 [==============================] - 0s 2ms/step - loss: 3750.5046 - mae: 3750.5046\n",
            "Epoch 181/500\n",
            "34/34 [==============================] - 0s 1ms/step - loss: 3734.0010 - mae: 3734.0010\n",
            "Epoch 182/500\n",
            "34/34 [==============================] - 0s 2ms/step - loss: 3732.9773 - mae: 3732.9773\n",
            "Epoch 183/500\n",
            "34/34 [==============================] - 0s 2ms/step - loss: 3731.3174 - mae: 3731.3174\n",
            "Epoch 184/500\n",
            "34/34 [==============================] - 0s 1ms/step - loss: 3734.3484 - mae: 3734.3484\n",
            "Epoch 185/500\n",
            "34/34 [==============================] - 0s 1ms/step - loss: 3732.0791 - mae: 3732.0791\n",
            "Epoch 186/500\n",
            "34/34 [==============================] - 0s 2ms/step - loss: 3732.5107 - mae: 3732.5107\n",
            "Epoch 187/500\n",
            "34/34 [==============================] - 0s 1ms/step - loss: 3727.1399 - mae: 3727.1399\n",
            "Epoch 188/500\n",
            "34/34 [==============================] - 0s 1ms/step - loss: 3732.5444 - mae: 3732.5444\n",
            "Epoch 189/500\n",
            "34/34 [==============================] - 0s 1ms/step - loss: 3727.2659 - mae: 3727.2659\n",
            "Epoch 190/500\n",
            "34/34 [==============================] - 0s 1ms/step - loss: 3724.7793 - mae: 3724.7793\n",
            "Epoch 191/500\n",
            "34/34 [==============================] - 0s 2ms/step - loss: 3739.0779 - mae: 3739.0779\n",
            "Epoch 192/500\n",
            "34/34 [==============================] - 0s 2ms/step - loss: 3727.3577 - mae: 3727.3577\n",
            "Epoch 193/500\n",
            "34/34 [==============================] - 0s 1ms/step - loss: 3720.8030 - mae: 3720.8030\n",
            "Epoch 194/500\n",
            "34/34 [==============================] - 0s 2ms/step - loss: 3723.6721 - mae: 3723.6721\n",
            "Epoch 195/500\n",
            "34/34 [==============================] - 0s 1ms/step - loss: 3720.4248 - mae: 3720.4248\n",
            "Epoch 196/500\n",
            "34/34 [==============================] - 0s 3ms/step - loss: 3722.1018 - mae: 3722.1018\n",
            "Epoch 197/500\n",
            "34/34 [==============================] - 0s 2ms/step - loss: 3713.9717 - mae: 3713.9717\n",
            "Epoch 198/500\n",
            "34/34 [==============================] - 0s 1ms/step - loss: 3718.7256 - mae: 3718.7256\n",
            "Epoch 199/500\n",
            "34/34 [==============================] - 0s 2ms/step - loss: 3722.1577 - mae: 3722.1577\n",
            "Epoch 200/500\n",
            "34/34 [==============================] - 0s 2ms/step - loss: 3713.5378 - mae: 3713.5378\n",
            "Epoch 201/500\n",
            "34/34 [==============================] - 0s 2ms/step - loss: 3717.4697 - mae: 3717.4697\n",
            "Epoch 202/500\n",
            "34/34 [==============================] - 0s 2ms/step - loss: 3719.7314 - mae: 3719.7314\n",
            "Epoch 203/500\n",
            "34/34 [==============================] - 0s 3ms/step - loss: 3712.7681 - mae: 3712.7681\n",
            "Epoch 204/500\n",
            "34/34 [==============================] - 0s 2ms/step - loss: 3706.3618 - mae: 3706.3618\n",
            "Epoch 205/500\n",
            "34/34 [==============================] - 0s 2ms/step - loss: 3713.5967 - mae: 3713.5967\n",
            "Epoch 206/500\n",
            "34/34 [==============================] - 0s 2ms/step - loss: 3707.6633 - mae: 3707.6633\n",
            "Epoch 207/500\n",
            "34/34 [==============================] - 0s 2ms/step - loss: 3709.6265 - mae: 3709.6265\n",
            "Epoch 208/500\n",
            "34/34 [==============================] - 0s 2ms/step - loss: 3707.6008 - mae: 3707.6008\n",
            "Epoch 209/500\n",
            "34/34 [==============================] - 0s 2ms/step - loss: 3706.1255 - mae: 3706.1255\n",
            "Epoch 210/500\n",
            "34/34 [==============================] - 0s 2ms/step - loss: 3712.8184 - mae: 3712.8184\n",
            "Epoch 211/500\n",
            "34/34 [==============================] - 0s 1ms/step - loss: 3704.1819 - mae: 3704.1819\n",
            "Epoch 212/500\n",
            "34/34 [==============================] - 0s 2ms/step - loss: 3707.2300 - mae: 3707.2300\n",
            "Epoch 213/500\n",
            "34/34 [==============================] - 0s 2ms/step - loss: 3707.1025 - mae: 3707.1025\n",
            "Epoch 214/500\n",
            "34/34 [==============================] - 0s 2ms/step - loss: 3723.4150 - mae: 3723.4150\n",
            "Epoch 215/500\n",
            "34/34 [==============================] - 0s 2ms/step - loss: 3701.0925 - mae: 3701.0925\n",
            "Epoch 216/500\n",
            "34/34 [==============================] - 0s 2ms/step - loss: 3702.0469 - mae: 3702.0469\n",
            "Epoch 217/500\n",
            "34/34 [==============================] - 0s 2ms/step - loss: 3706.1233 - mae: 3706.1233\n",
            "Epoch 218/500\n",
            "34/34 [==============================] - 0s 2ms/step - loss: 3701.4321 - mae: 3701.4321\n",
            "Epoch 219/500\n",
            "34/34 [==============================] - 0s 2ms/step - loss: 3700.0481 - mae: 3700.0479\n",
            "Epoch 220/500\n",
            "34/34 [==============================] - 0s 2ms/step - loss: 3694.7017 - mae: 3694.7017\n",
            "Epoch 221/500\n",
            "34/34 [==============================] - 0s 1ms/step - loss: 3703.0269 - mae: 3703.0269\n",
            "Epoch 222/500\n",
            "34/34 [==============================] - 0s 1ms/step - loss: 3703.4778 - mae: 3703.4778\n",
            "Epoch 223/500\n",
            "34/34 [==============================] - 0s 2ms/step - loss: 3693.6990 - mae: 3693.6990\n",
            "Epoch 224/500\n",
            "34/34 [==============================] - 0s 1ms/step - loss: 3697.1758 - mae: 3697.1758\n",
            "Epoch 225/500\n",
            "34/34 [==============================] - 0s 3ms/step - loss: 3696.8936 - mae: 3696.8936\n",
            "Epoch 226/500\n",
            "34/34 [==============================] - 0s 2ms/step - loss: 3690.8850 - mae: 3690.8850\n",
            "Epoch 227/500\n",
            "34/34 [==============================] - 0s 2ms/step - loss: 3686.8538 - mae: 3686.8538\n",
            "Epoch 228/500\n",
            "34/34 [==============================] - 0s 2ms/step - loss: 3692.0801 - mae: 3692.0801\n",
            "Epoch 229/500\n",
            "34/34 [==============================] - 0s 2ms/step - loss: 3690.4170 - mae: 3690.4170\n",
            "Epoch 230/500\n",
            "34/34 [==============================] - 0s 2ms/step - loss: 3688.9612 - mae: 3688.9612\n",
            "Epoch 231/500\n",
            "34/34 [==============================] - 0s 2ms/step - loss: 3685.3169 - mae: 3685.3169\n",
            "Epoch 232/500\n",
            "34/34 [==============================] - 0s 2ms/step - loss: 3681.6506 - mae: 3681.6506\n",
            "Epoch 233/500\n",
            "34/34 [==============================] - 0s 2ms/step - loss: 3681.8271 - mae: 3681.8271\n",
            "Epoch 234/500\n",
            "34/34 [==============================] - 0s 2ms/step - loss: 3689.4224 - mae: 3689.4224\n",
            "Epoch 235/500\n",
            "34/34 [==============================] - 0s 2ms/step - loss: 3686.7651 - mae: 3686.7651\n",
            "Epoch 236/500\n",
            "34/34 [==============================] - 0s 2ms/step - loss: 3684.0547 - mae: 3684.0547\n",
            "Epoch 237/500\n",
            "34/34 [==============================] - 0s 2ms/step - loss: 3683.1982 - mae: 3683.1982\n",
            "Epoch 238/500\n",
            "34/34 [==============================] - 0s 2ms/step - loss: 3672.5308 - mae: 3672.5308\n",
            "Epoch 239/500\n",
            "34/34 [==============================] - 0s 2ms/step - loss: 3679.2485 - mae: 3679.2485\n",
            "Epoch 240/500\n",
            "34/34 [==============================] - 0s 2ms/step - loss: 3676.1765 - mae: 3676.1765\n",
            "Epoch 241/500\n",
            "34/34 [==============================] - 0s 2ms/step - loss: 3672.9719 - mae: 3672.9719\n",
            "Epoch 242/500\n",
            "34/34 [==============================] - 0s 1ms/step - loss: 3673.5649 - mae: 3673.5649\n",
            "Epoch 243/500\n",
            "34/34 [==============================] - 0s 1ms/step - loss: 3670.1868 - mae: 3670.1868\n",
            "Epoch 244/500\n",
            "34/34 [==============================] - 0s 2ms/step - loss: 3679.2468 - mae: 3679.2468\n",
            "Epoch 245/500\n",
            "34/34 [==============================] - 0s 2ms/step - loss: 3673.0359 - mae: 3673.0359\n",
            "Epoch 246/500\n",
            "34/34 [==============================] - 0s 2ms/step - loss: 3667.8867 - mae: 3667.8867\n",
            "Epoch 247/500\n",
            "34/34 [==============================] - 0s 2ms/step - loss: 3673.6755 - mae: 3673.6755\n",
            "Epoch 248/500\n",
            "34/34 [==============================] - 0s 2ms/step - loss: 3675.6882 - mae: 3675.6882\n",
            "Epoch 249/500\n",
            "34/34 [==============================] - 0s 2ms/step - loss: 3668.6292 - mae: 3668.6292\n",
            "Epoch 250/500\n",
            "34/34 [==============================] - 0s 2ms/step - loss: 3669.4336 - mae: 3669.4336\n",
            "Epoch 251/500\n",
            "34/34 [==============================] - 0s 2ms/step - loss: 3663.0027 - mae: 3663.0027\n",
            "Epoch 252/500\n",
            "34/34 [==============================] - 0s 2ms/step - loss: 3665.2864 - mae: 3665.2864\n",
            "Epoch 253/500\n",
            "34/34 [==============================] - 0s 2ms/step - loss: 3663.4160 - mae: 3663.4160\n",
            "Epoch 254/500\n",
            "34/34 [==============================] - 0s 2ms/step - loss: 3660.7139 - mae: 3660.7139\n",
            "Epoch 255/500\n",
            "34/34 [==============================] - 0s 2ms/step - loss: 3657.2214 - mae: 3657.2214\n",
            "Epoch 256/500\n",
            "34/34 [==============================] - 0s 2ms/step - loss: 3658.6619 - mae: 3658.6619\n",
            "Epoch 257/500\n",
            "34/34 [==============================] - 0s 2ms/step - loss: 3669.2202 - mae: 3669.2202\n",
            "Epoch 258/500\n",
            "34/34 [==============================] - 0s 2ms/step - loss: 3666.6465 - mae: 3666.6465\n",
            "Epoch 259/500\n",
            "34/34 [==============================] - 0s 2ms/step - loss: 3658.5085 - mae: 3658.5085\n",
            "Epoch 260/500\n",
            "34/34 [==============================] - 0s 2ms/step - loss: 3658.3533 - mae: 3658.3533\n",
            "Epoch 261/500\n",
            "34/34 [==============================] - 0s 2ms/step - loss: 3656.5515 - mae: 3656.5515\n",
            "Epoch 262/500\n",
            "34/34 [==============================] - 0s 2ms/step - loss: 3654.7971 - mae: 3654.7971\n",
            "Epoch 263/500\n",
            "34/34 [==============================] - 0s 2ms/step - loss: 3651.3811 - mae: 3651.3811\n",
            "Epoch 264/500\n",
            "34/34 [==============================] - 0s 2ms/step - loss: 3656.4492 - mae: 3656.4492\n",
            "Epoch 265/500\n",
            "34/34 [==============================] - 0s 2ms/step - loss: 3650.3716 - mae: 3650.3716\n",
            "Epoch 266/500\n",
            "34/34 [==============================] - 0s 2ms/step - loss: 3652.1738 - mae: 3652.1738\n",
            "Epoch 267/500\n",
            "34/34 [==============================] - 0s 2ms/step - loss: 3654.3232 - mae: 3654.3232\n",
            "Epoch 268/500\n",
            "34/34 [==============================] - 0s 2ms/step - loss: 3647.5967 - mae: 3647.5967\n",
            "Epoch 269/500\n",
            "34/34 [==============================] - 0s 2ms/step - loss: 3651.3054 - mae: 3651.3054\n",
            "Epoch 270/500\n",
            "34/34 [==============================] - 0s 2ms/step - loss: 3643.8040 - mae: 3643.8040\n",
            "Epoch 271/500\n",
            "34/34 [==============================] - 0s 2ms/step - loss: 3646.4897 - mae: 3646.4897\n",
            "Epoch 272/500\n",
            "34/34 [==============================] - 0s 2ms/step - loss: 3646.5264 - mae: 3646.5264\n",
            "Epoch 273/500\n",
            "34/34 [==============================] - 0s 2ms/step - loss: 3640.5981 - mae: 3640.5981\n",
            "Epoch 274/500\n",
            "34/34 [==============================] - 0s 3ms/step - loss: 3645.5305 - mae: 3645.5305\n",
            "Epoch 275/500\n",
            "34/34 [==============================] - 0s 2ms/step - loss: 3639.8198 - mae: 3639.8198\n",
            "Epoch 276/500\n",
            "34/34 [==============================] - 0s 2ms/step - loss: 3642.5896 - mae: 3642.5896\n",
            "Epoch 277/500\n",
            "34/34 [==============================] - 0s 2ms/step - loss: 3639.5830 - mae: 3639.5830\n",
            "Epoch 278/500\n",
            "34/34 [==============================] - 0s 2ms/step - loss: 3644.4290 - mae: 3644.4290\n",
            "Epoch 279/500\n",
            "34/34 [==============================] - 0s 2ms/step - loss: 3644.6060 - mae: 3644.6060\n",
            "Epoch 280/500\n",
            "34/34 [==============================] - 0s 2ms/step - loss: 3635.6799 - mae: 3635.6799\n",
            "Epoch 281/500\n",
            "34/34 [==============================] - 0s 2ms/step - loss: 3636.4880 - mae: 3636.4880\n",
            "Epoch 282/500\n",
            "34/34 [==============================] - 0s 2ms/step - loss: 3633.8323 - mae: 3633.8323\n",
            "Epoch 283/500\n",
            "34/34 [==============================] - 0s 2ms/step - loss: 3639.1416 - mae: 3639.1416\n",
            "Epoch 284/500\n",
            "34/34 [==============================] - 0s 2ms/step - loss: 3632.1877 - mae: 3632.1877\n",
            "Epoch 285/500\n",
            "34/34 [==============================] - 0s 2ms/step - loss: 3632.7878 - mae: 3632.7878\n",
            "Epoch 286/500\n",
            "34/34 [==============================] - 0s 2ms/step - loss: 3629.9312 - mae: 3629.9312\n",
            "Epoch 287/500\n",
            "34/34 [==============================] - 0s 2ms/step - loss: 3628.3811 - mae: 3628.3811\n",
            "Epoch 288/500\n",
            "34/34 [==============================] - 0s 2ms/step - loss: 3627.7148 - mae: 3627.7148\n",
            "Epoch 289/500\n",
            "34/34 [==============================] - 0s 2ms/step - loss: 3636.1323 - mae: 3636.1323\n",
            "Epoch 290/500\n",
            "34/34 [==============================] - 0s 2ms/step - loss: 3630.4902 - mae: 3630.4902\n",
            "Epoch 291/500\n",
            "34/34 [==============================] - 0s 2ms/step - loss: 3631.2361 - mae: 3631.2361\n",
            "Epoch 292/500\n",
            "34/34 [==============================] - 0s 2ms/step - loss: 3631.7710 - mae: 3631.7710\n",
            "Epoch 293/500\n",
            "34/34 [==============================] - 0s 2ms/step - loss: 3621.8127 - mae: 3621.8127\n",
            "Epoch 294/500\n",
            "34/34 [==============================] - 0s 2ms/step - loss: 3645.8777 - mae: 3645.8777\n",
            "Epoch 295/500\n",
            "34/34 [==============================] - 0s 2ms/step - loss: 3623.9849 - mae: 3623.9849\n",
            "Epoch 296/500\n",
            "34/34 [==============================] - 0s 2ms/step - loss: 3620.9500 - mae: 3620.9500\n",
            "Epoch 297/500\n",
            "34/34 [==============================] - 0s 2ms/step - loss: 3615.7078 - mae: 3615.7078\n",
            "Epoch 298/500\n",
            "34/34 [==============================] - 0s 2ms/step - loss: 3620.4734 - mae: 3620.4734\n",
            "Epoch 299/500\n",
            "34/34 [==============================] - 0s 2ms/step - loss: 3625.4070 - mae: 3625.4070\n",
            "Epoch 300/500\n",
            "34/34 [==============================] - 0s 2ms/step - loss: 3615.3599 - mae: 3615.3599\n",
            "Epoch 301/500\n",
            "34/34 [==============================] - 0s 2ms/step - loss: 3615.4841 - mae: 3615.4841\n",
            "Epoch 302/500\n",
            "34/34 [==============================] - 0s 2ms/step - loss: 3625.3337 - mae: 3625.3337\n",
            "Epoch 303/500\n",
            "34/34 [==============================] - 0s 2ms/step - loss: 3627.6467 - mae: 3627.6467\n",
            "Epoch 304/500\n",
            "34/34 [==============================] - 0s 2ms/step - loss: 3613.1729 - mae: 3613.1729\n",
            "Epoch 305/500\n",
            "34/34 [==============================] - 0s 2ms/step - loss: 3612.5935 - mae: 3612.5935\n",
            "Epoch 306/500\n",
            "34/34 [==============================] - 0s 2ms/step - loss: 3615.2095 - mae: 3615.2095\n",
            "Epoch 307/500\n",
            "34/34 [==============================] - 0s 2ms/step - loss: 3612.9321 - mae: 3612.9321\n",
            "Epoch 308/500\n",
            "34/34 [==============================] - 0s 2ms/step - loss: 3609.3218 - mae: 3609.3218\n",
            "Epoch 309/500\n",
            "34/34 [==============================] - 0s 2ms/step - loss: 3604.7759 - mae: 3604.7759\n",
            "Epoch 310/500\n",
            "34/34 [==============================] - 0s 2ms/step - loss: 3613.2202 - mae: 3613.2202\n",
            "Epoch 311/500\n",
            "34/34 [==============================] - 0s 2ms/step - loss: 3610.2161 - mae: 3610.2161\n",
            "Epoch 312/500\n",
            "34/34 [==============================] - 0s 2ms/step - loss: 3604.7368 - mae: 3604.7368\n",
            "Epoch 313/500\n",
            "34/34 [==============================] - 0s 2ms/step - loss: 3601.6445 - mae: 3601.6445\n",
            "Epoch 314/500\n",
            "34/34 [==============================] - 0s 2ms/step - loss: 3600.9082 - mae: 3600.9082\n",
            "Epoch 315/500\n",
            "34/34 [==============================] - 0s 2ms/step - loss: 3602.1089 - mae: 3602.1089\n",
            "Epoch 316/500\n",
            "34/34 [==============================] - 0s 2ms/step - loss: 3597.5544 - mae: 3597.5544\n",
            "Epoch 317/500\n",
            "34/34 [==============================] - 0s 2ms/step - loss: 3599.0271 - mae: 3599.0271\n",
            "Epoch 318/500\n",
            "34/34 [==============================] - 0s 1ms/step - loss: 3594.9536 - mae: 3594.9536\n",
            "Epoch 319/500\n",
            "34/34 [==============================] - 0s 2ms/step - loss: 3599.7793 - mae: 3599.7793\n",
            "Epoch 320/500\n",
            "34/34 [==============================] - 0s 2ms/step - loss: 3594.8286 - mae: 3594.8286\n",
            "Epoch 321/500\n",
            "34/34 [==============================] - 0s 1ms/step - loss: 3595.4509 - mae: 3595.4509\n",
            "Epoch 322/500\n",
            "34/34 [==============================] - 0s 2ms/step - loss: 3597.9614 - mae: 3597.9614\n",
            "Epoch 323/500\n",
            "34/34 [==============================] - 0s 2ms/step - loss: 3594.2505 - mae: 3594.2505\n",
            "Epoch 324/500\n",
            "34/34 [==============================] - 0s 2ms/step - loss: 3588.2085 - mae: 3588.2085\n",
            "Epoch 325/500\n",
            "34/34 [==============================] - 0s 2ms/step - loss: 3589.2964 - mae: 3589.2964\n",
            "Epoch 326/500\n",
            "34/34 [==============================] - 0s 2ms/step - loss: 3586.3713 - mae: 3586.3713\n",
            "Epoch 327/500\n",
            "34/34 [==============================] - 0s 2ms/step - loss: 3584.2842 - mae: 3584.2842\n",
            "Epoch 328/500\n",
            "34/34 [==============================] - 0s 1ms/step - loss: 3591.6304 - mae: 3591.6304\n",
            "Epoch 329/500\n",
            "34/34 [==============================] - 0s 2ms/step - loss: 3594.1140 - mae: 3594.1140\n",
            "Epoch 330/500\n",
            "34/34 [==============================] - 0s 2ms/step - loss: 3582.7371 - mae: 3582.7371\n",
            "Epoch 331/500\n",
            "34/34 [==============================] - 0s 1ms/step - loss: 3585.4294 - mae: 3585.4294\n",
            "Epoch 332/500\n",
            "34/34 [==============================] - 0s 2ms/step - loss: 3581.0835 - mae: 3581.0835\n",
            "Epoch 333/500\n",
            "34/34 [==============================] - 0s 2ms/step - loss: 3587.3318 - mae: 3587.3318\n",
            "Epoch 334/500\n",
            "34/34 [==============================] - 0s 1ms/step - loss: 3576.2256 - mae: 3576.2256\n",
            "Epoch 335/500\n",
            "34/34 [==============================] - 0s 1ms/step - loss: 3575.5945 - mae: 3575.5945\n",
            "Epoch 336/500\n",
            "34/34 [==============================] - 0s 1ms/step - loss: 3575.9919 - mae: 3575.9919\n",
            "Epoch 337/500\n",
            "34/34 [==============================] - 0s 2ms/step - loss: 3572.9541 - mae: 3572.9541\n",
            "Epoch 338/500\n",
            "34/34 [==============================] - 0s 1ms/step - loss: 3575.1440 - mae: 3575.1440\n",
            "Epoch 339/500\n",
            "34/34 [==============================] - 0s 1ms/step - loss: 3571.3386 - mae: 3571.3386\n",
            "Epoch 340/500\n",
            "34/34 [==============================] - 0s 1ms/step - loss: 3570.6006 - mae: 3570.6006\n",
            "Epoch 341/500\n",
            "34/34 [==============================] - 0s 1ms/step - loss: 3571.3149 - mae: 3571.3149\n",
            "Epoch 342/500\n",
            "34/34 [==============================] - 0s 2ms/step - loss: 3573.7188 - mae: 3573.7188\n",
            "Epoch 343/500\n",
            "34/34 [==============================] - 0s 2ms/step - loss: 3566.0486 - mae: 3566.0486\n",
            "Epoch 344/500\n",
            "34/34 [==============================] - 0s 2ms/step - loss: 3572.3523 - mae: 3572.3523\n",
            "Epoch 345/500\n",
            "34/34 [==============================] - 0s 2ms/step - loss: 3566.1392 - mae: 3566.1392\n",
            "Epoch 346/500\n",
            "34/34 [==============================] - 0s 2ms/step - loss: 3564.0237 - mae: 3564.0237\n",
            "Epoch 347/500\n",
            "34/34 [==============================] - 0s 2ms/step - loss: 3568.4932 - mae: 3568.4932\n",
            "Epoch 348/500\n",
            "34/34 [==============================] - 0s 2ms/step - loss: 3560.5708 - mae: 3560.5708\n",
            "Epoch 349/500\n",
            "34/34 [==============================] - 0s 2ms/step - loss: 3563.6675 - mae: 3563.6675\n",
            "Epoch 350/500\n",
            "34/34 [==============================] - 0s 2ms/step - loss: 3563.2061 - mae: 3563.2061\n",
            "Epoch 351/500\n",
            "34/34 [==============================] - 0s 2ms/step - loss: 3558.1711 - mae: 3558.1711\n",
            "Epoch 352/500\n",
            "34/34 [==============================] - 0s 2ms/step - loss: 3561.0242 - mae: 3561.0242\n",
            "Epoch 353/500\n",
            "34/34 [==============================] - 0s 2ms/step - loss: 3564.1975 - mae: 3564.1975\n",
            "Epoch 354/500\n",
            "34/34 [==============================] - 0s 2ms/step - loss: 3558.9048 - mae: 3558.9048\n",
            "Epoch 355/500\n",
            "34/34 [==============================] - 0s 2ms/step - loss: 3555.8494 - mae: 3555.8494\n",
            "Epoch 356/500\n",
            "34/34 [==============================] - 0s 1ms/step - loss: 3558.5605 - mae: 3558.5605\n",
            "Epoch 357/500\n",
            "34/34 [==============================] - 0s 2ms/step - loss: 3557.3340 - mae: 3557.3340\n",
            "Epoch 358/500\n",
            "34/34 [==============================] - 0s 2ms/step - loss: 3571.7258 - mae: 3571.7258\n",
            "Epoch 359/500\n",
            "34/34 [==============================] - 0s 2ms/step - loss: 3574.7888 - mae: 3574.7888\n",
            "Epoch 360/500\n",
            "34/34 [==============================] - 0s 1ms/step - loss: 3552.1755 - mae: 3552.1755\n",
            "Epoch 361/500\n",
            "34/34 [==============================] - 0s 2ms/step - loss: 3555.6660 - mae: 3555.6660\n",
            "Epoch 362/500\n",
            "34/34 [==============================] - 0s 2ms/step - loss: 3553.5649 - mae: 3553.5649\n",
            "Epoch 363/500\n",
            "34/34 [==============================] - 0s 2ms/step - loss: 3556.6760 - mae: 3556.6760\n",
            "Epoch 364/500\n",
            "34/34 [==============================] - 0s 2ms/step - loss: 3552.6987 - mae: 3552.6987\n",
            "Epoch 365/500\n",
            "34/34 [==============================] - 0s 2ms/step - loss: 3550.9648 - mae: 3550.9648\n",
            "Epoch 366/500\n",
            "34/34 [==============================] - 0s 2ms/step - loss: 3550.9119 - mae: 3550.9119\n",
            "Epoch 367/500\n",
            "34/34 [==============================] - 0s 2ms/step - loss: 3545.6101 - mae: 3545.6101\n",
            "Epoch 368/500\n",
            "34/34 [==============================] - 0s 2ms/step - loss: 3544.3479 - mae: 3544.3479\n",
            "Epoch 369/500\n",
            "34/34 [==============================] - 0s 2ms/step - loss: 3553.5352 - mae: 3553.5352\n",
            "Epoch 370/500\n",
            "34/34 [==============================] - 0s 2ms/step - loss: 3547.0259 - mae: 3547.0259\n",
            "Epoch 371/500\n",
            "34/34 [==============================] - 0s 2ms/step - loss: 3545.9214 - mae: 3545.9214\n",
            "Epoch 372/500\n",
            "34/34 [==============================] - 0s 2ms/step - loss: 3544.3655 - mae: 3544.3655\n",
            "Epoch 373/500\n",
            "34/34 [==============================] - 0s 2ms/step - loss: 3543.4023 - mae: 3543.4023\n",
            "Epoch 374/500\n",
            "34/34 [==============================] - 0s 2ms/step - loss: 3548.2471 - mae: 3548.2471\n",
            "Epoch 375/500\n",
            "34/34 [==============================] - 0s 3ms/step - loss: 3539.8999 - mae: 3539.8999\n",
            "Epoch 376/500\n",
            "34/34 [==============================] - 0s 2ms/step - loss: 3540.3386 - mae: 3540.3386\n",
            "Epoch 377/500\n",
            "34/34 [==============================] - 0s 2ms/step - loss: 3540.1711 - mae: 3540.1711\n",
            "Epoch 378/500\n",
            "34/34 [==============================] - 0s 2ms/step - loss: 3542.8118 - mae: 3542.8118\n",
            "Epoch 379/500\n",
            "34/34 [==============================] - 0s 2ms/step - loss: 3542.5833 - mae: 3542.5833\n",
            "Epoch 380/500\n",
            "34/34 [==============================] - 0s 2ms/step - loss: 3543.7507 - mae: 3543.7507\n",
            "Epoch 381/500\n",
            "34/34 [==============================] - 0s 2ms/step - loss: 3542.0789 - mae: 3542.0789\n",
            "Epoch 382/500\n",
            "34/34 [==============================] - 0s 2ms/step - loss: 3539.0115 - mae: 3539.0115\n",
            "Epoch 383/500\n",
            "34/34 [==============================] - 0s 2ms/step - loss: 3536.2109 - mae: 3536.2109\n",
            "Epoch 384/500\n",
            "34/34 [==============================] - 0s 2ms/step - loss: 3561.0454 - mae: 3561.0454\n",
            "Epoch 385/500\n",
            "34/34 [==============================] - 0s 2ms/step - loss: 3575.0466 - mae: 3575.0466\n",
            "Epoch 386/500\n",
            "34/34 [==============================] - 0s 2ms/step - loss: 3543.2676 - mae: 3543.2676\n",
            "Epoch 387/500\n",
            "34/34 [==============================] - 0s 1ms/step - loss: 3535.5984 - mae: 3535.5984\n",
            "Epoch 388/500\n",
            "34/34 [==============================] - 0s 2ms/step - loss: 3539.2173 - mae: 3539.2173\n",
            "Epoch 389/500\n",
            "34/34 [==============================] - 0s 2ms/step - loss: 3535.7266 - mae: 3535.7266\n",
            "Epoch 390/500\n",
            "34/34 [==============================] - 0s 1ms/step - loss: 3536.6926 - mae: 3536.6926\n",
            "Epoch 391/500\n",
            "34/34 [==============================] - 0s 2ms/step - loss: 3529.3435 - mae: 3529.3435\n",
            "Epoch 392/500\n",
            "34/34 [==============================] - 0s 1ms/step - loss: 3540.0815 - mae: 3540.0815\n",
            "Epoch 393/500\n",
            "34/34 [==============================] - 0s 2ms/step - loss: 3553.8633 - mae: 3553.8633\n",
            "Epoch 394/500\n",
            "34/34 [==============================] - 0s 1ms/step - loss: 3528.2063 - mae: 3528.2063\n",
            "Epoch 395/500\n",
            "34/34 [==============================] - 0s 2ms/step - loss: 3532.5776 - mae: 3532.5776\n",
            "Epoch 396/500\n",
            "34/34 [==============================] - 0s 2ms/step - loss: 3529.3008 - mae: 3529.3008\n",
            "Epoch 397/500\n",
            "34/34 [==============================] - 0s 2ms/step - loss: 3526.3005 - mae: 3526.3005\n",
            "Epoch 398/500\n",
            "34/34 [==============================] - 0s 2ms/step - loss: 3529.6616 - mae: 3529.6616\n",
            "Epoch 399/500\n",
            "34/34 [==============================] - 0s 2ms/step - loss: 3526.9326 - mae: 3526.9326\n",
            "Epoch 400/500\n",
            "34/34 [==============================] - 0s 1ms/step - loss: 3523.5142 - mae: 3523.5142\n",
            "Epoch 401/500\n",
            "34/34 [==============================] - 0s 2ms/step - loss: 3535.4880 - mae: 3535.4880\n",
            "Epoch 402/500\n",
            "34/34 [==============================] - 0s 2ms/step - loss: 3521.2976 - mae: 3521.2976\n",
            "Epoch 403/500\n",
            "34/34 [==============================] - 0s 2ms/step - loss: 3533.8921 - mae: 3533.8921\n",
            "Epoch 404/500\n",
            "34/34 [==============================] - 0s 2ms/step - loss: 3523.6479 - mae: 3523.6479\n",
            "Epoch 405/500\n",
            "34/34 [==============================] - 0s 2ms/step - loss: 3518.4917 - mae: 3518.4917\n",
            "Epoch 406/500\n",
            "34/34 [==============================] - 0s 2ms/step - loss: 3527.0581 - mae: 3527.0581\n",
            "Epoch 407/500\n",
            "34/34 [==============================] - 0s 2ms/step - loss: 3520.0627 - mae: 3520.0627\n",
            "Epoch 408/500\n",
            "34/34 [==============================] - 0s 2ms/step - loss: 3522.7024 - mae: 3522.7024\n",
            "Epoch 409/500\n",
            "34/34 [==============================] - 0s 2ms/step - loss: 3518.4141 - mae: 3518.4141\n",
            "Epoch 410/500\n",
            "34/34 [==============================] - 0s 2ms/step - loss: 3517.9131 - mae: 3517.9131\n",
            "Epoch 411/500\n",
            "34/34 [==============================] - 0s 2ms/step - loss: 3527.4312 - mae: 3527.4312\n",
            "Epoch 412/500\n",
            "34/34 [==============================] - 0s 2ms/step - loss: 3526.7710 - mae: 3526.7710\n",
            "Epoch 413/500\n",
            "34/34 [==============================] - 0s 3ms/step - loss: 3513.9839 - mae: 3513.9839\n",
            "Epoch 414/500\n",
            "34/34 [==============================] - 0s 2ms/step - loss: 3516.4883 - mae: 3516.4883\n",
            "Epoch 415/500\n",
            "34/34 [==============================] - 0s 2ms/step - loss: 3518.4270 - mae: 3518.4270\n",
            "Epoch 416/500\n",
            "34/34 [==============================] - 0s 2ms/step - loss: 3515.0193 - mae: 3515.0193\n",
            "Epoch 417/500\n",
            "34/34 [==============================] - 0s 2ms/step - loss: 3513.0696 - mae: 3513.0696\n",
            "Epoch 418/500\n",
            "34/34 [==============================] - 0s 2ms/step - loss: 3525.2498 - mae: 3525.2498\n",
            "Epoch 419/500\n",
            "34/34 [==============================] - 0s 2ms/step - loss: 3511.2341 - mae: 3511.2341\n",
            "Epoch 420/500\n",
            "34/34 [==============================] - 0s 2ms/step - loss: 3516.5583 - mae: 3516.5583\n",
            "Epoch 421/500\n",
            "34/34 [==============================] - 0s 2ms/step - loss: 3510.1123 - mae: 3510.1123\n",
            "Epoch 422/500\n",
            "34/34 [==============================] - 0s 2ms/step - loss: 3520.8413 - mae: 3520.8413\n",
            "Epoch 423/500\n",
            "34/34 [==============================] - 0s 2ms/step - loss: 3520.1541 - mae: 3520.1541\n",
            "Epoch 424/500\n",
            "34/34 [==============================] - 0s 2ms/step - loss: 3518.3489 - mae: 3518.3489\n",
            "Epoch 425/500\n",
            "34/34 [==============================] - 0s 3ms/step - loss: 3504.9624 - mae: 3504.9624\n",
            "Epoch 426/500\n",
            "34/34 [==============================] - 0s 2ms/step - loss: 3520.2451 - mae: 3520.2451\n",
            "Epoch 427/500\n",
            "34/34 [==============================] - 0s 2ms/step - loss: 3503.8018 - mae: 3503.8018\n",
            "Epoch 428/500\n",
            "34/34 [==============================] - 0s 2ms/step - loss: 3512.2600 - mae: 3512.2600\n",
            "Epoch 429/500\n",
            "34/34 [==============================] - 0s 2ms/step - loss: 3507.3325 - mae: 3507.3325\n",
            "Epoch 430/500\n",
            "34/34 [==============================] - 0s 2ms/step - loss: 3510.7043 - mae: 3510.7043\n",
            "Epoch 431/500\n",
            "34/34 [==============================] - 0s 2ms/step - loss: 3502.0315 - mae: 3502.0315\n",
            "Epoch 432/500\n",
            "34/34 [==============================] - 0s 2ms/step - loss: 3499.8254 - mae: 3499.8254\n",
            "Epoch 433/500\n",
            "34/34 [==============================] - 0s 2ms/step - loss: 3506.4712 - mae: 3506.4712\n",
            "Epoch 434/500\n",
            "34/34 [==============================] - 0s 2ms/step - loss: 3513.0635 - mae: 3513.0635\n",
            "Epoch 435/500\n",
            "34/34 [==============================] - 0s 2ms/step - loss: 3502.8679 - mae: 3502.8679\n",
            "Epoch 436/500\n",
            "34/34 [==============================] - 0s 2ms/step - loss: 3503.3931 - mae: 3503.3931\n",
            "Epoch 437/500\n",
            "34/34 [==============================] - 0s 2ms/step - loss: 3510.3247 - mae: 3510.3247\n",
            "Epoch 438/500\n",
            "34/34 [==============================] - 0s 2ms/step - loss: 3508.1758 - mae: 3508.1758\n",
            "Epoch 439/500\n",
            "34/34 [==============================] - 0s 2ms/step - loss: 3500.8853 - mae: 3500.8853\n",
            "Epoch 440/500\n",
            "34/34 [==============================] - 0s 2ms/step - loss: 3506.6230 - mae: 3506.6230\n",
            "Epoch 441/500\n",
            "34/34 [==============================] - 0s 2ms/step - loss: 3498.4810 - mae: 3498.4810\n",
            "Epoch 442/500\n",
            "34/34 [==============================] - 0s 3ms/step - loss: 3496.0654 - mae: 3496.0654\n",
            "Epoch 443/500\n",
            "34/34 [==============================] - 0s 2ms/step - loss: 3494.8975 - mae: 3494.8975\n",
            "Epoch 444/500\n",
            "34/34 [==============================] - 0s 2ms/step - loss: 3493.5388 - mae: 3493.5388\n",
            "Epoch 445/500\n",
            "34/34 [==============================] - 0s 2ms/step - loss: 3501.7283 - mae: 3501.7283\n",
            "Epoch 446/500\n",
            "34/34 [==============================] - 0s 2ms/step - loss: 3504.5205 - mae: 3504.5205\n",
            "Epoch 447/500\n",
            "34/34 [==============================] - 0s 2ms/step - loss: 3490.1060 - mae: 3490.1060\n",
            "Epoch 448/500\n",
            "34/34 [==============================] - 0s 2ms/step - loss: 3491.6484 - mae: 3491.6484\n",
            "Epoch 449/500\n",
            "34/34 [==============================] - 0s 3ms/step - loss: 3500.7085 - mae: 3500.7085\n",
            "Epoch 450/500\n",
            "34/34 [==============================] - 0s 2ms/step - loss: 3492.6704 - mae: 3492.6704\n",
            "Epoch 451/500\n",
            "34/34 [==============================] - 0s 2ms/step - loss: 3492.8953 - mae: 3492.8953\n",
            "Epoch 452/500\n",
            "34/34 [==============================] - 0s 2ms/step - loss: 3501.7595 - mae: 3501.7595\n",
            "Epoch 453/500\n",
            "34/34 [==============================] - 0s 2ms/step - loss: 3490.8103 - mae: 3490.8103\n",
            "Epoch 454/500\n",
            "34/34 [==============================] - 0s 2ms/step - loss: 3491.5049 - mae: 3491.5049\n",
            "Epoch 455/500\n",
            "34/34 [==============================] - 0s 2ms/step - loss: 3486.1736 - mae: 3486.1736\n",
            "Epoch 456/500\n",
            "34/34 [==============================] - 0s 2ms/step - loss: 3499.6582 - mae: 3499.6582\n",
            "Epoch 457/500\n",
            "34/34 [==============================] - 0s 2ms/step - loss: 3490.7319 - mae: 3490.7319\n",
            "Epoch 458/500\n",
            "34/34 [==============================] - 0s 2ms/step - loss: 3484.9595 - mae: 3484.9595\n",
            "Epoch 459/500\n",
            "34/34 [==============================] - 0s 2ms/step - loss: 3484.3608 - mae: 3484.3608\n",
            "Epoch 460/500\n",
            "34/34 [==============================] - 0s 2ms/step - loss: 3482.2163 - mae: 3482.2163\n",
            "Epoch 461/500\n",
            "34/34 [==============================] - 0s 2ms/step - loss: 3486.7903 - mae: 3486.7903\n",
            "Epoch 462/500\n",
            "34/34 [==============================] - 0s 2ms/step - loss: 3483.9075 - mae: 3483.9075\n",
            "Epoch 463/500\n",
            "34/34 [==============================] - 0s 2ms/step - loss: 3478.3113 - mae: 3478.3113\n",
            "Epoch 464/500\n",
            "34/34 [==============================] - 0s 2ms/step - loss: 3484.8813 - mae: 3484.8813\n",
            "Epoch 465/500\n",
            "34/34 [==============================] - 0s 2ms/step - loss: 3482.1479 - mae: 3482.1479\n",
            "Epoch 466/500\n",
            "34/34 [==============================] - 0s 2ms/step - loss: 3491.5908 - mae: 3491.5908\n",
            "Epoch 467/500\n",
            "34/34 [==============================] - 0s 2ms/step - loss: 3489.3252 - mae: 3489.3252\n",
            "Epoch 468/500\n",
            "34/34 [==============================] - 0s 2ms/step - loss: 3482.7917 - mae: 3482.7917\n",
            "Epoch 469/500\n",
            "34/34 [==============================] - 0s 2ms/step - loss: 3477.6179 - mae: 3477.6179\n",
            "Epoch 470/500\n",
            "34/34 [==============================] - 0s 2ms/step - loss: 3476.9788 - mae: 3476.9788\n",
            "Epoch 471/500\n",
            "34/34 [==============================] - 0s 2ms/step - loss: 3484.1299 - mae: 3484.1299\n",
            "Epoch 472/500\n",
            "34/34 [==============================] - 0s 2ms/step - loss: 3477.2971 - mae: 3477.2971\n",
            "Epoch 473/500\n",
            "34/34 [==============================] - 0s 2ms/step - loss: 3478.7642 - mae: 3478.7642\n",
            "Epoch 474/500\n",
            "34/34 [==============================] - 0s 2ms/step - loss: 3476.2754 - mae: 3476.2754\n",
            "Epoch 475/500\n",
            "34/34 [==============================] - 0s 3ms/step - loss: 3487.1960 - mae: 3487.1960\n",
            "Epoch 476/500\n",
            "34/34 [==============================] - 0s 2ms/step - loss: 3483.1301 - mae: 3483.1301\n",
            "Epoch 477/500\n",
            "34/34 [==============================] - 0s 2ms/step - loss: 3491.7498 - mae: 3491.7498\n",
            "Epoch 478/500\n",
            "34/34 [==============================] - 0s 2ms/step - loss: 3475.8167 - mae: 3475.8167\n",
            "Epoch 479/500\n",
            "34/34 [==============================] - 0s 2ms/step - loss: 3485.2781 - mae: 3485.2781\n",
            "Epoch 480/500\n",
            "34/34 [==============================] - 0s 2ms/step - loss: 3485.8274 - mae: 3485.8274\n",
            "Epoch 481/500\n",
            "34/34 [==============================] - 0s 2ms/step - loss: 3479.2605 - mae: 3479.2605\n",
            "Epoch 482/500\n",
            "34/34 [==============================] - 0s 2ms/step - loss: 3481.7878 - mae: 3481.7878\n",
            "Epoch 483/500\n",
            "34/34 [==============================] - 0s 2ms/step - loss: 3478.0171 - mae: 3478.0171\n",
            "Epoch 484/500\n",
            "34/34 [==============================] - 0s 2ms/step - loss: 3480.6248 - mae: 3480.6248\n",
            "Epoch 485/500\n",
            "34/34 [==============================] - 0s 2ms/step - loss: 3479.6973 - mae: 3479.6973\n",
            "Epoch 486/500\n",
            "34/34 [==============================] - 0s 2ms/step - loss: 3501.6780 - mae: 3501.6780\n",
            "Epoch 487/500\n",
            "34/34 [==============================] - 0s 1ms/step - loss: 3480.6709 - mae: 3480.6709\n",
            "Epoch 488/500\n",
            "34/34 [==============================] - 0s 2ms/step - loss: 3476.6245 - mae: 3476.6245\n",
            "Epoch 489/500\n",
            "34/34 [==============================] - 0s 2ms/step - loss: 3475.8687 - mae: 3475.8687\n",
            "Epoch 490/500\n",
            "34/34 [==============================] - 0s 2ms/step - loss: 3475.7146 - mae: 3475.7146\n",
            "Epoch 491/500\n",
            "34/34 [==============================] - 0s 2ms/step - loss: 3494.1079 - mae: 3494.1079\n",
            "Epoch 492/500\n",
            "34/34 [==============================] - 0s 2ms/step - loss: 3472.3083 - mae: 3472.3083\n",
            "Epoch 493/500\n",
            "34/34 [==============================] - 0s 2ms/step - loss: 3487.6060 - mae: 3487.6060\n",
            "Epoch 494/500\n",
            "34/34 [==============================] - 0s 2ms/step - loss: 3475.1423 - mae: 3475.1423\n",
            "Epoch 495/500\n",
            "34/34 [==============================] - 0s 2ms/step - loss: 3483.7156 - mae: 3483.7156\n",
            "Epoch 496/500\n",
            "34/34 [==============================] - 0s 2ms/step - loss: 3475.6892 - mae: 3475.6892\n",
            "Epoch 497/500\n",
            "34/34 [==============================] - 0s 2ms/step - loss: 3476.4756 - mae: 3476.4756\n",
            "Epoch 498/500\n",
            "34/34 [==============================] - 0s 2ms/step - loss: 3479.8452 - mae: 3479.8452\n",
            "Epoch 499/500\n",
            "34/34 [==============================] - 0s 2ms/step - loss: 3475.0266 - mae: 3475.0266\n",
            "Epoch 500/500\n",
            "34/34 [==============================] - 0s 3ms/step - loss: 3474.2004 - mae: 3474.2004\n"
          ],
          "name": "stdout"
        },
        {
          "output_type": "execute_result",
          "data": {
            "text/plain": [
              "<keras.callbacks.History at 0x7fdb074f5a10>"
            ]
          },
          "metadata": {},
          "execution_count": 58
        }
      ]
    },
    {
      "cell_type": "code",
      "metadata": {
        "colab": {
          "base_uri": "https://localhost:8080/"
        },
        "id": "vRMJ_hUIZEDA",
        "outputId": "39c92b23-b5b6-4707-c59b-c0b6db5dd0ce"
      },
      "source": [
        "# Check the results of the insurance model on the test data\n",
        "insurance_model.evaluate(x_test,y_test)"
      ],
      "execution_count": null,
      "outputs": [
        {
          "output_type": "stream",
          "text": [
            "9/9 [==============================] - 0s 2ms/step - loss: 3174.4651 - mae: 3174.4651\n"
          ],
          "name": "stdout"
        },
        {
          "output_type": "execute_result",
          "data": {
            "text/plain": [
              "[3174.465087890625, 3174.465087890625]"
            ]
          },
          "metadata": {},
          "execution_count": 59
        }
      ]
    },
    {
      "cell_type": "markdown",
      "metadata": {
        "id": "RTCTEaQubqoO"
      },
      "source": [
        "Right now it looks like our model isn't performing too well.... let's try and improve it"
      ]
    },
    {
      "cell_type": "code",
      "metadata": {
        "colab": {
          "base_uri": "https://localhost:8080/"
        },
        "id": "fshvke9idPJs",
        "outputId": "35a4a33f-57c3-41c2-fcc0-65335a3558fd"
      },
      "source": [
        "tf.random.set_seed(42)\n",
        "\n",
        "insurance_model_2=tf.keras.Sequential([\n",
        "  tf.keras.layers.Dense(100),\n",
        "  tf.keras.layers.Dense(10),\n",
        "  tf.keras.layers.Dense(1)\n",
        "])\n",
        "insurance_model_2.compile(loss=tf.keras.losses.mae,\n",
        "                          optimizer=tf.keras.optimizers.Adam(),\n",
        "                          metrics=[\"mae\"])\n",
        "insurance_model_2.fit(x_train,y_train,epochs=100,verbose=1)"
      ],
      "execution_count": null,
      "outputs": [
        {
          "output_type": "stream",
          "text": [
            "Epoch 1/100\n",
            "34/34 [==============================] - 0s 2ms/step - loss: 13273.1602 - mae: 13273.1602\n",
            "Epoch 2/100\n",
            "34/34 [==============================] - 0s 2ms/step - loss: 13104.4297 - mae: 13104.4297\n",
            "Epoch 3/100\n",
            "34/34 [==============================] - 0s 2ms/step - loss: 12749.5420 - mae: 12749.5420\n",
            "Epoch 4/100\n",
            "34/34 [==============================] - 0s 2ms/step - loss: 12055.7510 - mae: 12055.7510\n",
            "Epoch 5/100\n",
            "34/34 [==============================] - 0s 2ms/step - loss: 10905.8154 - mae: 10905.8154\n",
            "Epoch 6/100\n",
            "34/34 [==============================] - 0s 2ms/step - loss: 9457.7217 - mae: 9457.7217\n",
            "Epoch 7/100\n",
            "34/34 [==============================] - 0s 2ms/step - loss: 8147.6543 - mae: 8147.6543\n",
            "Epoch 8/100\n",
            "34/34 [==============================] - 0s 2ms/step - loss: 7528.8408 - mae: 7528.8408\n",
            "Epoch 9/100\n",
            "34/34 [==============================] - 0s 1ms/step - loss: 7429.1528 - mae: 7429.1528\n",
            "Epoch 10/100\n",
            "34/34 [==============================] - 0s 2ms/step - loss: 7409.0811 - mae: 7409.0811\n",
            "Epoch 11/100\n",
            "34/34 [==============================] - 0s 2ms/step - loss: 7390.8042 - mae: 7390.8042\n",
            "Epoch 12/100\n",
            "34/34 [==============================] - 0s 2ms/step - loss: 7368.9180 - mae: 7368.9180\n",
            "Epoch 13/100\n",
            "34/34 [==============================] - 0s 2ms/step - loss: 7348.5195 - mae: 7348.5195\n",
            "Epoch 14/100\n",
            "34/34 [==============================] - 0s 2ms/step - loss: 7326.4893 - mae: 7326.4893\n",
            "Epoch 15/100\n",
            "34/34 [==============================] - 0s 2ms/step - loss: 7307.5815 - mae: 7307.5815\n",
            "Epoch 16/100\n",
            "34/34 [==============================] - 0s 2ms/step - loss: 7285.7734 - mae: 7285.7734\n",
            "Epoch 17/100\n",
            "34/34 [==============================] - 0s 2ms/step - loss: 7265.7104 - mae: 7265.7104\n",
            "Epoch 18/100\n",
            "34/34 [==============================] - 0s 1ms/step - loss: 7242.5488 - mae: 7242.5488\n",
            "Epoch 19/100\n",
            "34/34 [==============================] - 0s 1ms/step - loss: 7220.5068 - mae: 7220.5068\n",
            "Epoch 20/100\n",
            "34/34 [==============================] - 0s 2ms/step - loss: 7197.1978 - mae: 7197.1978\n",
            "Epoch 21/100\n",
            "34/34 [==============================] - 0s 2ms/step - loss: 7179.0195 - mae: 7179.0195\n",
            "Epoch 22/100\n",
            "34/34 [==============================] - 0s 2ms/step - loss: 7151.2104 - mae: 7151.2104\n",
            "Epoch 23/100\n",
            "34/34 [==============================] - 0s 2ms/step - loss: 7126.4639 - mae: 7126.4639\n",
            "Epoch 24/100\n",
            "34/34 [==============================] - 0s 2ms/step - loss: 7101.9199 - mae: 7101.9199\n",
            "Epoch 25/100\n",
            "34/34 [==============================] - 0s 2ms/step - loss: 7084.3379 - mae: 7084.3379\n",
            "Epoch 26/100\n",
            "34/34 [==============================] - 0s 2ms/step - loss: 7052.3291 - mae: 7052.3291\n",
            "Epoch 27/100\n",
            "34/34 [==============================] - 0s 2ms/step - loss: 7024.3501 - mae: 7024.3501\n",
            "Epoch 28/100\n",
            "34/34 [==============================] - 0s 2ms/step - loss: 6996.6963 - mae: 6996.6963\n",
            "Epoch 29/100\n",
            "34/34 [==============================] - 0s 2ms/step - loss: 6969.0112 - mae: 6969.0112\n",
            "Epoch 30/100\n",
            "34/34 [==============================] - 0s 3ms/step - loss: 6942.1899 - mae: 6942.1899\n",
            "Epoch 31/100\n",
            "34/34 [==============================] - 0s 2ms/step - loss: 6911.7280 - mae: 6911.7280\n",
            "Epoch 32/100\n",
            "34/34 [==============================] - 0s 2ms/step - loss: 6884.0205 - mae: 6884.0205\n",
            "Epoch 33/100\n",
            "34/34 [==============================] - 0s 2ms/step - loss: 6853.4648 - mae: 6853.4648\n",
            "Epoch 34/100\n",
            "34/34 [==============================] - 0s 2ms/step - loss: 6823.0674 - mae: 6823.0674\n",
            "Epoch 35/100\n",
            "34/34 [==============================] - 0s 2ms/step - loss: 6789.6855 - mae: 6789.6855\n",
            "Epoch 36/100\n",
            "34/34 [==============================] - 0s 2ms/step - loss: 6755.7646 - mae: 6755.7646\n",
            "Epoch 37/100\n",
            "34/34 [==============================] - 0s 2ms/step - loss: 6720.2026 - mae: 6720.2026\n",
            "Epoch 38/100\n",
            "34/34 [==============================] - 0s 2ms/step - loss: 6689.7158 - mae: 6689.7158\n",
            "Epoch 39/100\n",
            "34/34 [==============================] - 0s 2ms/step - loss: 6652.4614 - mae: 6652.4614\n",
            "Epoch 40/100\n",
            "34/34 [==============================] - 0s 2ms/step - loss: 6618.1006 - mae: 6618.1006\n",
            "Epoch 41/100\n",
            "34/34 [==============================] - 0s 2ms/step - loss: 6585.8643 - mae: 6585.8643\n",
            "Epoch 42/100\n",
            "34/34 [==============================] - 0s 2ms/step - loss: 6559.4956 - mae: 6559.4956\n",
            "Epoch 43/100\n",
            "34/34 [==============================] - 0s 2ms/step - loss: 6530.0444 - mae: 6530.0444\n",
            "Epoch 44/100\n",
            "34/34 [==============================] - 0s 2ms/step - loss: 6506.8071 - mae: 6506.8071\n",
            "Epoch 45/100\n",
            "34/34 [==============================] - 0s 2ms/step - loss: 6493.5718 - mae: 6493.5718\n",
            "Epoch 46/100\n",
            "34/34 [==============================] - 0s 2ms/step - loss: 6475.9258 - mae: 6475.9258\n",
            "Epoch 47/100\n",
            "34/34 [==============================] - 0s 2ms/step - loss: 6458.8979 - mae: 6458.8979\n",
            "Epoch 48/100\n",
            "34/34 [==============================] - 0s 2ms/step - loss: 6445.1494 - mae: 6445.1494\n",
            "Epoch 49/100\n",
            "34/34 [==============================] - 0s 2ms/step - loss: 6430.9639 - mae: 6430.9639\n",
            "Epoch 50/100\n",
            "34/34 [==============================] - 0s 2ms/step - loss: 6417.7510 - mae: 6417.7510\n",
            "Epoch 51/100\n",
            "34/34 [==============================] - 0s 2ms/step - loss: 6403.2759 - mae: 6403.2759\n",
            "Epoch 52/100\n",
            "34/34 [==============================] - 0s 2ms/step - loss: 6392.4141 - mae: 6392.4141\n",
            "Epoch 53/100\n",
            "34/34 [==============================] - 0s 2ms/step - loss: 6378.7451 - mae: 6378.7451\n",
            "Epoch 54/100\n",
            "34/34 [==============================] - 0s 2ms/step - loss: 6364.9131 - mae: 6364.9131\n",
            "Epoch 55/100\n",
            "34/34 [==============================] - 0s 2ms/step - loss: 6351.5269 - mae: 6351.5269\n",
            "Epoch 56/100\n",
            "34/34 [==============================] - 0s 2ms/step - loss: 6337.6602 - mae: 6337.6602\n",
            "Epoch 57/100\n",
            "34/34 [==============================] - 0s 2ms/step - loss: 6324.8369 - mae: 6324.8369\n",
            "Epoch 58/100\n",
            "34/34 [==============================] - 0s 2ms/step - loss: 6310.1948 - mae: 6310.1948\n",
            "Epoch 59/100\n",
            "34/34 [==============================] - 0s 2ms/step - loss: 6295.6035 - mae: 6295.6035\n",
            "Epoch 60/100\n",
            "34/34 [==============================] - 0s 2ms/step - loss: 6284.8696 - mae: 6284.8696\n",
            "Epoch 61/100\n",
            "34/34 [==============================] - 0s 2ms/step - loss: 6265.6411 - mae: 6265.6411\n",
            "Epoch 62/100\n",
            "34/34 [==============================] - 0s 2ms/step - loss: 6253.0103 - mae: 6253.0103\n",
            "Epoch 63/100\n",
            "34/34 [==============================] - 0s 2ms/step - loss: 6234.9292 - mae: 6234.9292\n",
            "Epoch 64/100\n",
            "34/34 [==============================] - 0s 2ms/step - loss: 6218.0430 - mae: 6218.0430\n",
            "Epoch 65/100\n",
            "34/34 [==============================] - 0s 2ms/step - loss: 6201.1899 - mae: 6201.1899\n",
            "Epoch 66/100\n",
            "34/34 [==============================] - 0s 2ms/step - loss: 6183.9590 - mae: 6183.9590\n",
            "Epoch 67/100\n",
            "34/34 [==============================] - 0s 2ms/step - loss: 6171.2993 - mae: 6171.2993\n",
            "Epoch 68/100\n",
            "34/34 [==============================] - 0s 2ms/step - loss: 6148.8398 - mae: 6148.8398\n",
            "Epoch 69/100\n",
            "34/34 [==============================] - 0s 2ms/step - loss: 6132.5981 - mae: 6132.5981\n",
            "Epoch 70/100\n",
            "34/34 [==============================] - 0s 2ms/step - loss: 6112.3848 - mae: 6112.3848\n",
            "Epoch 71/100\n",
            "34/34 [==============================] - 0s 2ms/step - loss: 6092.7202 - mae: 6092.7202\n",
            "Epoch 72/100\n",
            "34/34 [==============================] - 0s 2ms/step - loss: 6073.7422 - mae: 6073.7422\n",
            "Epoch 73/100\n",
            "34/34 [==============================] - 0s 2ms/step - loss: 6059.4873 - mae: 6059.4873\n",
            "Epoch 74/100\n",
            "34/34 [==============================] - 0s 2ms/step - loss: 6031.3848 - mae: 6031.3848\n",
            "Epoch 75/100\n",
            "34/34 [==============================] - 0s 2ms/step - loss: 6010.3350 - mae: 6010.3350\n",
            "Epoch 76/100\n",
            "34/34 [==============================] - 0s 2ms/step - loss: 5995.2178 - mae: 5995.2178\n",
            "Epoch 77/100\n",
            "34/34 [==============================] - 0s 2ms/step - loss: 5963.0718 - mae: 5963.0718\n",
            "Epoch 78/100\n",
            "34/34 [==============================] - 0s 1ms/step - loss: 5940.0605 - mae: 5940.0605\n",
            "Epoch 79/100\n",
            "34/34 [==============================] - 0s 2ms/step - loss: 5915.1064 - mae: 5915.1064\n",
            "Epoch 80/100\n",
            "34/34 [==============================] - 0s 2ms/step - loss: 5887.9990 - mae: 5887.9990\n",
            "Epoch 81/100\n",
            "34/34 [==============================] - 0s 2ms/step - loss: 5861.6992 - mae: 5861.6992\n",
            "Epoch 82/100\n",
            "34/34 [==============================] - 0s 2ms/step - loss: 5834.3066 - mae: 5834.3066\n",
            "Epoch 83/100\n",
            "34/34 [==============================] - 0s 2ms/step - loss: 5805.8237 - mae: 5805.8237\n",
            "Epoch 84/100\n",
            "34/34 [==============================] - 0s 2ms/step - loss: 5772.3232 - mae: 5772.3232\n",
            "Epoch 85/100\n",
            "34/34 [==============================] - 0s 2ms/step - loss: 5745.1514 - mae: 5745.1514\n",
            "Epoch 86/100\n",
            "34/34 [==============================] - 0s 2ms/step - loss: 5711.3477 - mae: 5711.3477\n",
            "Epoch 87/100\n",
            "34/34 [==============================] - 0s 1ms/step - loss: 5674.5215 - mae: 5674.5215\n",
            "Epoch 88/100\n",
            "34/34 [==============================] - 0s 2ms/step - loss: 5639.4927 - mae: 5639.4927\n",
            "Epoch 89/100\n",
            "34/34 [==============================] - 0s 2ms/step - loss: 5600.6655 - mae: 5600.6655\n",
            "Epoch 90/100\n",
            "34/34 [==============================] - 0s 2ms/step - loss: 5559.4326 - mae: 5559.4326\n",
            "Epoch 91/100\n",
            "34/34 [==============================] - 0s 2ms/step - loss: 5523.6187 - mae: 5523.6187\n",
            "Epoch 92/100\n",
            "34/34 [==============================] - 0s 2ms/step - loss: 5474.1250 - mae: 5474.1250\n",
            "Epoch 93/100\n",
            "34/34 [==============================] - 0s 2ms/step - loss: 5432.2661 - mae: 5432.2661\n",
            "Epoch 94/100\n",
            "34/34 [==============================] - 0s 2ms/step - loss: 5386.0527 - mae: 5386.0527\n",
            "Epoch 95/100\n",
            "34/34 [==============================] - 0s 2ms/step - loss: 5333.1812 - mae: 5333.1812\n",
            "Epoch 96/100\n",
            "34/34 [==============================] - 0s 2ms/step - loss: 5288.8159 - mae: 5288.8159\n",
            "Epoch 97/100\n",
            "34/34 [==============================] - 0s 2ms/step - loss: 5234.6792 - mae: 5234.6792\n",
            "Epoch 98/100\n",
            "34/34 [==============================] - 0s 2ms/step - loss: 5170.9360 - mae: 5170.9360\n",
            "Epoch 99/100\n",
            "34/34 [==============================] - 0s 2ms/step - loss: 5112.9443 - mae: 5112.9443\n",
            "Epoch 100/100\n",
            "34/34 [==============================] - 0s 2ms/step - loss: 5059.8643 - mae: 5059.8643\n"
          ],
          "name": "stdout"
        },
        {
          "output_type": "execute_result",
          "data": {
            "text/plain": [
              "<keras.callbacks.History at 0x7fdb06b62650>"
            ]
          },
          "metadata": {},
          "execution_count": 65
        }
      ]
    },
    {
      "cell_type": "code",
      "metadata": {
        "colab": {
          "base_uri": "https://localhost:8080/"
        },
        "id": "yfkFmJk-Atrr",
        "outputId": "87f85405-d0d2-4a6f-ca41-6a98f2096000"
      },
      "source": [
        "insurance_model_2.evaluate(x_test,y_test)"
      ],
      "execution_count": null,
      "outputs": [
        {
          "output_type": "stream",
          "text": [
            "9/9 [==============================] - 0s 2ms/step - loss: 4924.3477 - mae: 4924.3477\n"
          ],
          "name": "stdout"
        },
        {
          "output_type": "execute_result",
          "data": {
            "text/plain": [
              "[4924.34765625, 4924.34765625]"
            ]
          },
          "metadata": {},
          "execution_count": 66
        }
      ]
    },
    {
      "cell_type": "code",
      "metadata": {
        "colab": {
          "base_uri": "https://localhost:8080/"
        },
        "id": "OXihI9WfA1qK",
        "outputId": "20099ec2-d797-48fd-cceb-708a611aa6c2"
      },
      "source": [
        "insurance_model.evaluate(x_test,y_test)"
      ],
      "execution_count": null,
      "outputs": [
        {
          "output_type": "stream",
          "text": [
            "9/9 [==============================] - 0s 3ms/step - loss: 3174.4651 - mae: 3174.4651\n"
          ],
          "name": "stdout"
        },
        {
          "output_type": "execute_result",
          "data": {
            "text/plain": [
              "[3174.465087890625, 3174.465087890625]"
            ]
          },
          "metadata": {},
          "execution_count": 67
        }
      ]
    },
    {
      "cell_type": "code",
      "metadata": {
        "colab": {
          "base_uri": "https://localhost:8080/"
        },
        "id": "TnCxG0OmBvvh",
        "outputId": "ec2863a6-2e65-4620-88cf-7fb92e75d3c7"
      },
      "source": [
        "tf.random.set_seed(42)\n",
        "callback=tf.keras.callbacks.EarlyStopping(monitor=\"loss\",patience=3)\n",
        "\n",
        "insurance_model_3=tf.keras.Sequential([\n",
        "  tf.keras.layers.Dense(100),\n",
        "  tf.keras.layers.Dense(10),\n",
        "  tf.keras.layers.Dense(1)\n",
        "])\n",
        "\n",
        "insurance_model_3.compile(loss=tf.keras.losses.mae,\n",
        "                          optimizer=tf.keras.optimizers.Adam(),\n",
        "                          metrics=[\"mae\"])\n",
        "history=insurance_model_3.fit(x_train,y_train,epochs=200,verbose=1)"
      ],
      "execution_count": null,
      "outputs": [
        {
          "output_type": "stream",
          "text": [
            "Epoch 1/200\n",
            "34/34 [==============================] - 0s 1ms/step - loss: 13273.1602 - mae: 13273.1602\n",
            "Epoch 2/200\n",
            "34/34 [==============================] - 0s 2ms/step - loss: 13104.4297 - mae: 13104.4297\n",
            "Epoch 3/200\n",
            "34/34 [==============================] - 0s 1ms/step - loss: 12749.5420 - mae: 12749.5420\n",
            "Epoch 4/200\n",
            "34/34 [==============================] - 0s 2ms/step - loss: 12055.7510 - mae: 12055.7510\n",
            "Epoch 5/200\n",
            "34/34 [==============================] - 0s 3ms/step - loss: 10905.8154 - mae: 10905.8154\n",
            "Epoch 6/200\n",
            "34/34 [==============================] - 0s 2ms/step - loss: 9457.7217 - mae: 9457.7217\n",
            "Epoch 7/200\n",
            "34/34 [==============================] - 0s 2ms/step - loss: 8147.6543 - mae: 8147.6543\n",
            "Epoch 8/200\n",
            "34/34 [==============================] - 0s 2ms/step - loss: 7528.8408 - mae: 7528.8408\n",
            "Epoch 9/200\n",
            "34/34 [==============================] - 0s 2ms/step - loss: 7429.1528 - mae: 7429.1528\n",
            "Epoch 10/200\n",
            "34/34 [==============================] - 0s 2ms/step - loss: 7409.0811 - mae: 7409.0811\n",
            "Epoch 11/200\n",
            "34/34 [==============================] - 0s 2ms/step - loss: 7390.8042 - mae: 7390.8042\n",
            "Epoch 12/200\n",
            "34/34 [==============================] - 0s 2ms/step - loss: 7368.9180 - mae: 7368.9180\n",
            "Epoch 13/200\n",
            "34/34 [==============================] - 0s 2ms/step - loss: 7348.5195 - mae: 7348.5195\n",
            "Epoch 14/200\n",
            "34/34 [==============================] - 0s 2ms/step - loss: 7326.4893 - mae: 7326.4893\n",
            "Epoch 15/200\n",
            "34/34 [==============================] - 0s 2ms/step - loss: 7307.5815 - mae: 7307.5815\n",
            "Epoch 16/200\n",
            "34/34 [==============================] - 0s 2ms/step - loss: 7285.7734 - mae: 7285.7734\n",
            "Epoch 17/200\n",
            "34/34 [==============================] - 0s 2ms/step - loss: 7265.7104 - mae: 7265.7104\n",
            "Epoch 18/200\n",
            "34/34 [==============================] - 0s 2ms/step - loss: 7242.5488 - mae: 7242.5488\n",
            "Epoch 19/200\n",
            "34/34 [==============================] - 0s 3ms/step - loss: 7220.5068 - mae: 7220.5068\n",
            "Epoch 20/200\n",
            "34/34 [==============================] - 0s 2ms/step - loss: 7197.1978 - mae: 7197.1978\n",
            "Epoch 21/200\n",
            "34/34 [==============================] - 0s 2ms/step - loss: 7179.0195 - mae: 7179.0195\n",
            "Epoch 22/200\n",
            "34/34 [==============================] - 0s 2ms/step - loss: 7151.2104 - mae: 7151.2104\n",
            "Epoch 23/200\n",
            "34/34 [==============================] - 0s 2ms/step - loss: 7126.4639 - mae: 7126.4639\n",
            "Epoch 24/200\n",
            "34/34 [==============================] - 0s 2ms/step - loss: 7101.9199 - mae: 7101.9199\n",
            "Epoch 25/200\n",
            "34/34 [==============================] - 0s 2ms/step - loss: 7084.3379 - mae: 7084.3379\n",
            "Epoch 26/200\n",
            "34/34 [==============================] - 0s 2ms/step - loss: 7052.3291 - mae: 7052.3291\n",
            "Epoch 27/200\n",
            "34/34 [==============================] - 0s 2ms/step - loss: 7024.3501 - mae: 7024.3501\n",
            "Epoch 28/200\n",
            "34/34 [==============================] - 0s 2ms/step - loss: 6996.6963 - mae: 6996.6963\n",
            "Epoch 29/200\n",
            "34/34 [==============================] - 0s 1ms/step - loss: 6969.0112 - mae: 6969.0112\n",
            "Epoch 30/200\n",
            "34/34 [==============================] - 0s 2ms/step - loss: 6942.1899 - mae: 6942.1899\n",
            "Epoch 31/200\n",
            "34/34 [==============================] - 0s 2ms/step - loss: 6911.7280 - mae: 6911.7280\n",
            "Epoch 32/200\n",
            "34/34 [==============================] - 0s 2ms/step - loss: 6884.0205 - mae: 6884.0205\n",
            "Epoch 33/200\n",
            "34/34 [==============================] - 0s 2ms/step - loss: 6853.4648 - mae: 6853.4648\n",
            "Epoch 34/200\n",
            "34/34 [==============================] - 0s 2ms/step - loss: 6823.0674 - mae: 6823.0674\n",
            "Epoch 35/200\n",
            "34/34 [==============================] - 0s 2ms/step - loss: 6789.6855 - mae: 6789.6855\n",
            "Epoch 36/200\n",
            "34/34 [==============================] - 0s 2ms/step - loss: 6755.7646 - mae: 6755.7646\n",
            "Epoch 37/200\n",
            "34/34 [==============================] - 0s 2ms/step - loss: 6720.2026 - mae: 6720.2026\n",
            "Epoch 38/200\n",
            "34/34 [==============================] - 0s 2ms/step - loss: 6689.7158 - mae: 6689.7158\n",
            "Epoch 39/200\n",
            "34/34 [==============================] - 0s 2ms/step - loss: 6652.4614 - mae: 6652.4614\n",
            "Epoch 40/200\n",
            "34/34 [==============================] - 0s 2ms/step - loss: 6618.1006 - mae: 6618.1006\n",
            "Epoch 41/200\n",
            "34/34 [==============================] - 0s 2ms/step - loss: 6585.8643 - mae: 6585.8643\n",
            "Epoch 42/200\n",
            "34/34 [==============================] - 0s 1ms/step - loss: 6559.4956 - mae: 6559.4956\n",
            "Epoch 43/200\n",
            "34/34 [==============================] - 0s 2ms/step - loss: 6530.0444 - mae: 6530.0444\n",
            "Epoch 44/200\n",
            "34/34 [==============================] - 0s 2ms/step - loss: 6506.8071 - mae: 6506.8071\n",
            "Epoch 45/200\n",
            "34/34 [==============================] - 0s 2ms/step - loss: 6493.5718 - mae: 6493.5718\n",
            "Epoch 46/200\n",
            "34/34 [==============================] - 0s 2ms/step - loss: 6475.9258 - mae: 6475.9258\n",
            "Epoch 47/200\n",
            "34/34 [==============================] - 0s 2ms/step - loss: 6458.8979 - mae: 6458.8979\n",
            "Epoch 48/200\n",
            "34/34 [==============================] - 0s 2ms/step - loss: 6445.1494 - mae: 6445.1494\n",
            "Epoch 49/200\n",
            "34/34 [==============================] - 0s 2ms/step - loss: 6430.9639 - mae: 6430.9639\n",
            "Epoch 50/200\n",
            "34/34 [==============================] - 0s 2ms/step - loss: 6417.7510 - mae: 6417.7510\n",
            "Epoch 51/200\n",
            "34/34 [==============================] - 0s 2ms/step - loss: 6403.2759 - mae: 6403.2759\n",
            "Epoch 52/200\n",
            "34/34 [==============================] - 0s 2ms/step - loss: 6392.4141 - mae: 6392.4141\n",
            "Epoch 53/200\n",
            "34/34 [==============================] - 0s 2ms/step - loss: 6378.7451 - mae: 6378.7451\n",
            "Epoch 54/200\n",
            "34/34 [==============================] - 0s 2ms/step - loss: 6364.9131 - mae: 6364.9131\n",
            "Epoch 55/200\n",
            "34/34 [==============================] - 0s 2ms/step - loss: 6351.5269 - mae: 6351.5269\n",
            "Epoch 56/200\n",
            "34/34 [==============================] - 0s 2ms/step - loss: 6337.6602 - mae: 6337.6602\n",
            "Epoch 57/200\n",
            "34/34 [==============================] - 0s 2ms/step - loss: 6324.8369 - mae: 6324.8369\n",
            "Epoch 58/200\n",
            "34/34 [==============================] - 0s 2ms/step - loss: 6310.1948 - mae: 6310.1948\n",
            "Epoch 59/200\n",
            "34/34 [==============================] - 0s 2ms/step - loss: 6295.6035 - mae: 6295.6035\n",
            "Epoch 60/200\n",
            "34/34 [==============================] - 0s 2ms/step - loss: 6284.8696 - mae: 6284.8696\n",
            "Epoch 61/200\n",
            "34/34 [==============================] - 0s 2ms/step - loss: 6265.6411 - mae: 6265.6411\n",
            "Epoch 62/200\n",
            "34/34 [==============================] - 0s 4ms/step - loss: 6253.0103 - mae: 6253.0103\n",
            "Epoch 63/200\n",
            "34/34 [==============================] - 0s 3ms/step - loss: 6234.9292 - mae: 6234.9292\n",
            "Epoch 64/200\n",
            "34/34 [==============================] - 0s 3ms/step - loss: 6218.0430 - mae: 6218.0430\n",
            "Epoch 65/200\n",
            "34/34 [==============================] - 0s 3ms/step - loss: 6201.1899 - mae: 6201.1899\n",
            "Epoch 66/200\n",
            "34/34 [==============================] - 0s 2ms/step - loss: 6183.9590 - mae: 6183.9590\n",
            "Epoch 67/200\n",
            "34/34 [==============================] - 0s 2ms/step - loss: 6171.2993 - mae: 6171.2993\n",
            "Epoch 68/200\n",
            "34/34 [==============================] - 0s 2ms/step - loss: 6148.8398 - mae: 6148.8398\n",
            "Epoch 69/200\n",
            "34/34 [==============================] - 0s 2ms/step - loss: 6132.5981 - mae: 6132.5981\n",
            "Epoch 70/200\n",
            "34/34 [==============================] - 0s 2ms/step - loss: 6112.3848 - mae: 6112.3848\n",
            "Epoch 71/200\n",
            "34/34 [==============================] - 0s 2ms/step - loss: 6092.7202 - mae: 6092.7202\n",
            "Epoch 72/200\n",
            "34/34 [==============================] - 0s 3ms/step - loss: 6073.7422 - mae: 6073.7422\n",
            "Epoch 73/200\n",
            "34/34 [==============================] - 0s 2ms/step - loss: 6059.4873 - mae: 6059.4873\n",
            "Epoch 74/200\n",
            "34/34 [==============================] - 0s 2ms/step - loss: 6031.3848 - mae: 6031.3848\n",
            "Epoch 75/200\n",
            "34/34 [==============================] - 0s 2ms/step - loss: 6010.3350 - mae: 6010.3350\n",
            "Epoch 76/200\n",
            "34/34 [==============================] - 0s 3ms/step - loss: 5995.2178 - mae: 5995.2178\n",
            "Epoch 77/200\n",
            "34/34 [==============================] - 0s 2ms/step - loss: 5963.0718 - mae: 5963.0718\n",
            "Epoch 78/200\n",
            "34/34 [==============================] - 0s 2ms/step - loss: 5940.0605 - mae: 5940.0605\n",
            "Epoch 79/200\n",
            "34/34 [==============================] - 0s 2ms/step - loss: 5915.1064 - mae: 5915.1064\n",
            "Epoch 80/200\n",
            "34/34 [==============================] - 0s 2ms/step - loss: 5887.9990 - mae: 5887.9990\n",
            "Epoch 81/200\n",
            "34/34 [==============================] - 0s 2ms/step - loss: 5861.6992 - mae: 5861.6992\n",
            "Epoch 82/200\n",
            "34/34 [==============================] - 0s 2ms/step - loss: 5834.3066 - mae: 5834.3066\n",
            "Epoch 83/200\n",
            "34/34 [==============================] - 0s 2ms/step - loss: 5805.8237 - mae: 5805.8237\n",
            "Epoch 84/200\n",
            "34/34 [==============================] - 0s 2ms/step - loss: 5772.3232 - mae: 5772.3232\n",
            "Epoch 85/200\n",
            "34/34 [==============================] - 0s 3ms/step - loss: 5745.1514 - mae: 5745.1514\n",
            "Epoch 86/200\n",
            "34/34 [==============================] - 0s 2ms/step - loss: 5711.3477 - mae: 5711.3477\n",
            "Epoch 87/200\n",
            "34/34 [==============================] - 0s 2ms/step - loss: 5674.5215 - mae: 5674.5215\n",
            "Epoch 88/200\n",
            "34/34 [==============================] - 0s 2ms/step - loss: 5639.4927 - mae: 5639.4927\n",
            "Epoch 89/200\n",
            "34/34 [==============================] - 0s 2ms/step - loss: 5600.6655 - mae: 5600.6655\n",
            "Epoch 90/200\n",
            "34/34 [==============================] - 0s 2ms/step - loss: 5559.4326 - mae: 5559.4326\n",
            "Epoch 91/200\n",
            "34/34 [==============================] - 0s 2ms/step - loss: 5523.6187 - mae: 5523.6187\n",
            "Epoch 92/200\n",
            "34/34 [==============================] - 0s 2ms/step - loss: 5474.1250 - mae: 5474.1250\n",
            "Epoch 93/200\n",
            "34/34 [==============================] - 0s 2ms/step - loss: 5432.2661 - mae: 5432.2661\n",
            "Epoch 94/200\n",
            "34/34 [==============================] - 0s 2ms/step - loss: 5386.0527 - mae: 5386.0527\n",
            "Epoch 95/200\n",
            "34/34 [==============================] - 0s 2ms/step - loss: 5333.1812 - mae: 5333.1812\n",
            "Epoch 96/200\n",
            "34/34 [==============================] - 0s 2ms/step - loss: 5288.8159 - mae: 5288.8159\n",
            "Epoch 97/200\n",
            "34/34 [==============================] - 0s 2ms/step - loss: 5234.6792 - mae: 5234.6792\n",
            "Epoch 98/200\n",
            "34/34 [==============================] - 0s 2ms/step - loss: 5170.9360 - mae: 5170.9360\n",
            "Epoch 99/200\n",
            "34/34 [==============================] - 0s 2ms/step - loss: 5112.9443 - mae: 5112.9443\n",
            "Epoch 100/200\n",
            "34/34 [==============================] - 0s 2ms/step - loss: 5059.8643 - mae: 5059.8643\n",
            "Epoch 101/200\n",
            "34/34 [==============================] - 0s 2ms/step - loss: 4987.6191 - mae: 4987.6191\n",
            "Epoch 102/200\n",
            "34/34 [==============================] - 0s 2ms/step - loss: 4915.2910 - mae: 4915.2910\n",
            "Epoch 103/200\n",
            "34/34 [==============================] - 0s 2ms/step - loss: 4847.3599 - mae: 4847.3599\n",
            "Epoch 104/200\n",
            "34/34 [==============================] - 0s 2ms/step - loss: 4768.0151 - mae: 4768.0151\n",
            "Epoch 105/200\n",
            "34/34 [==============================] - 0s 2ms/step - loss: 4683.4727 - mae: 4683.4727\n",
            "Epoch 106/200\n",
            "34/34 [==============================] - 0s 2ms/step - loss: 4600.5054 - mae: 4600.5054\n",
            "Epoch 107/200\n",
            "34/34 [==============================] - 0s 2ms/step - loss: 4513.1436 - mae: 4513.1436\n",
            "Epoch 108/200\n",
            "34/34 [==============================] - 0s 2ms/step - loss: 4422.2983 - mae: 4422.2983\n",
            "Epoch 109/200\n",
            "34/34 [==============================] - 0s 2ms/step - loss: 4339.9600 - mae: 4339.9600\n",
            "Epoch 110/200\n",
            "34/34 [==============================] - 0s 2ms/step - loss: 4254.3916 - mae: 4254.3916\n",
            "Epoch 111/200\n",
            "34/34 [==============================] - 0s 2ms/step - loss: 4173.1797 - mae: 4173.1797\n",
            "Epoch 112/200\n",
            "34/34 [==============================] - 0s 2ms/step - loss: 4102.2939 - mae: 4102.2939\n",
            "Epoch 113/200\n",
            "34/34 [==============================] - 0s 2ms/step - loss: 4031.9592 - mae: 4031.9592\n",
            "Epoch 114/200\n",
            "34/34 [==============================] - 0s 2ms/step - loss: 3986.0220 - mae: 3986.0220\n",
            "Epoch 115/200\n",
            "34/34 [==============================] - 0s 2ms/step - loss: 3943.2346 - mae: 3943.2346\n",
            "Epoch 116/200\n",
            "34/34 [==============================] - 0s 2ms/step - loss: 3918.8977 - mae: 3918.8977\n",
            "Epoch 117/200\n",
            "34/34 [==============================] - 0s 2ms/step - loss: 3895.5610 - mae: 3895.5610\n",
            "Epoch 118/200\n",
            "34/34 [==============================] - 0s 2ms/step - loss: 3869.5679 - mae: 3869.5679\n",
            "Epoch 119/200\n",
            "34/34 [==============================] - 0s 2ms/step - loss: 3850.2136 - mae: 3850.2136\n",
            "Epoch 120/200\n",
            "34/34 [==============================] - 0s 2ms/step - loss: 3834.7349 - mae: 3834.7349\n",
            "Epoch 121/200\n",
            "34/34 [==============================] - 0s 2ms/step - loss: 3827.0952 - mae: 3827.0952\n",
            "Epoch 122/200\n",
            "34/34 [==============================] - 0s 1ms/step - loss: 3821.6382 - mae: 3821.6382\n",
            "Epoch 123/200\n",
            "34/34 [==============================] - 0s 2ms/step - loss: 3813.8315 - mae: 3813.8315\n",
            "Epoch 124/200\n",
            "34/34 [==============================] - 0s 2ms/step - loss: 3805.7307 - mae: 3805.7307\n",
            "Epoch 125/200\n",
            "34/34 [==============================] - 0s 2ms/step - loss: 3794.7090 - mae: 3794.7090\n",
            "Epoch 126/200\n",
            "34/34 [==============================] - 0s 2ms/step - loss: 3804.4946 - mae: 3804.4946\n",
            "Epoch 127/200\n",
            "34/34 [==============================] - 0s 2ms/step - loss: 3796.0596 - mae: 3796.0596\n",
            "Epoch 128/200\n",
            "34/34 [==============================] - 0s 2ms/step - loss: 3791.0422 - mae: 3791.0422\n",
            "Epoch 129/200\n",
            "34/34 [==============================] - 0s 2ms/step - loss: 3800.0696 - mae: 3800.0696\n",
            "Epoch 130/200\n",
            "34/34 [==============================] - 0s 2ms/step - loss: 3788.5005 - mae: 3788.5005\n",
            "Epoch 131/200\n",
            "34/34 [==============================] - 0s 2ms/step - loss: 3780.8442 - mae: 3780.8442\n",
            "Epoch 132/200\n",
            "34/34 [==============================] - 0s 2ms/step - loss: 3774.5413 - mae: 3774.5413\n",
            "Epoch 133/200\n",
            "34/34 [==============================] - 0s 2ms/step - loss: 3771.0156 - mae: 3771.0156\n",
            "Epoch 134/200\n",
            "34/34 [==============================] - 0s 2ms/step - loss: 3769.3762 - mae: 3769.3762\n",
            "Epoch 135/200\n",
            "34/34 [==============================] - 0s 3ms/step - loss: 3766.7610 - mae: 3766.7610\n",
            "Epoch 136/200\n",
            "34/34 [==============================] - 0s 2ms/step - loss: 3765.5508 - mae: 3765.5508\n",
            "Epoch 137/200\n",
            "34/34 [==============================] - 0s 2ms/step - loss: 3774.5032 - mae: 3774.5032\n",
            "Epoch 138/200\n",
            "34/34 [==============================] - 0s 2ms/step - loss: 3785.3909 - mae: 3785.3909\n",
            "Epoch 139/200\n",
            "34/34 [==============================] - 0s 2ms/step - loss: 3761.1299 - mae: 3761.1299\n",
            "Epoch 140/200\n",
            "34/34 [==============================] - 0s 3ms/step - loss: 3764.1753 - mae: 3764.1753\n",
            "Epoch 141/200\n",
            "34/34 [==============================] - 0s 2ms/step - loss: 3763.9250 - mae: 3763.9250\n",
            "Epoch 142/200\n",
            "34/34 [==============================] - 0s 2ms/step - loss: 3762.7959 - mae: 3762.7959\n",
            "Epoch 143/200\n",
            "34/34 [==============================] - 0s 2ms/step - loss: 3754.4397 - mae: 3754.4397\n",
            "Epoch 144/200\n",
            "34/34 [==============================] - 0s 2ms/step - loss: 3750.3347 - mae: 3750.3347\n",
            "Epoch 145/200\n",
            "34/34 [==============================] - 0s 2ms/step - loss: 3750.4006 - mae: 3750.4006\n",
            "Epoch 146/200\n",
            "34/34 [==============================] - 0s 2ms/step - loss: 3755.4736 - mae: 3755.4736\n",
            "Epoch 147/200\n",
            "34/34 [==============================] - 0s 2ms/step - loss: 3750.3223 - mae: 3750.3223\n",
            "Epoch 148/200\n",
            "34/34 [==============================] - 0s 2ms/step - loss: 3758.1089 - mae: 3758.1089\n",
            "Epoch 149/200\n",
            "34/34 [==============================] - 0s 2ms/step - loss: 3743.4858 - mae: 3743.4858\n",
            "Epoch 150/200\n",
            "34/34 [==============================] - 0s 2ms/step - loss: 3738.5342 - mae: 3738.5342\n",
            "Epoch 151/200\n",
            "34/34 [==============================] - 0s 2ms/step - loss: 3740.1384 - mae: 3740.1384\n",
            "Epoch 152/200\n",
            "34/34 [==============================] - 0s 2ms/step - loss: 3742.4954 - mae: 3742.4954\n",
            "Epoch 153/200\n",
            "34/34 [==============================] - 0s 2ms/step - loss: 3744.4399 - mae: 3744.4399\n",
            "Epoch 154/200\n",
            "34/34 [==============================] - 0s 2ms/step - loss: 3737.1824 - mae: 3737.1824\n",
            "Epoch 155/200\n",
            "34/34 [==============================] - 0s 2ms/step - loss: 3737.6541 - mae: 3737.6541\n",
            "Epoch 156/200\n",
            "34/34 [==============================] - 0s 2ms/step - loss: 3737.1663 - mae: 3737.1663\n",
            "Epoch 157/200\n",
            "34/34 [==============================] - 0s 2ms/step - loss: 3733.1101 - mae: 3733.1101\n",
            "Epoch 158/200\n",
            "34/34 [==============================] - 0s 2ms/step - loss: 3729.5813 - mae: 3729.5813\n",
            "Epoch 159/200\n",
            "34/34 [==============================] - 0s 2ms/step - loss: 3725.9053 - mae: 3725.9053\n",
            "Epoch 160/200\n",
            "34/34 [==============================] - 0s 3ms/step - loss: 3733.2817 - mae: 3733.2817\n",
            "Epoch 161/200\n",
            "34/34 [==============================] - 0s 2ms/step - loss: 3728.2559 - mae: 3728.2559\n",
            "Epoch 162/200\n",
            "34/34 [==============================] - 0s 2ms/step - loss: 3724.5825 - mae: 3724.5825\n",
            "Epoch 163/200\n",
            "34/34 [==============================] - 0s 3ms/step - loss: 3723.0806 - mae: 3723.0806\n",
            "Epoch 164/200\n",
            "34/34 [==============================] - 0s 2ms/step - loss: 3726.9475 - mae: 3726.9475\n",
            "Epoch 165/200\n",
            "34/34 [==============================] - 0s 2ms/step - loss: 3716.5430 - mae: 3716.5430\n",
            "Epoch 166/200\n",
            "34/34 [==============================] - 0s 2ms/step - loss: 3721.9155 - mae: 3721.9155\n",
            "Epoch 167/200\n",
            "34/34 [==============================] - 0s 2ms/step - loss: 3721.1814 - mae: 3721.1814\n",
            "Epoch 168/200\n",
            "34/34 [==============================] - 0s 2ms/step - loss: 3715.2456 - mae: 3715.2456\n",
            "Epoch 169/200\n",
            "34/34 [==============================] - 0s 3ms/step - loss: 3713.9756 - mae: 3713.9756\n",
            "Epoch 170/200\n",
            "34/34 [==============================] - 0s 2ms/step - loss: 3707.9922 - mae: 3707.9922\n",
            "Epoch 171/200\n",
            "34/34 [==============================] - 0s 3ms/step - loss: 3707.4158 - mae: 3707.4158\n",
            "Epoch 172/200\n",
            "34/34 [==============================] - 0s 2ms/step - loss: 3710.6833 - mae: 3710.6833\n",
            "Epoch 173/200\n",
            "34/34 [==============================] - 0s 2ms/step - loss: 3703.3618 - mae: 3703.3618\n",
            "Epoch 174/200\n",
            "34/34 [==============================] - 0s 2ms/step - loss: 3710.9385 - mae: 3710.9385\n",
            "Epoch 175/200\n",
            "34/34 [==============================] - 0s 2ms/step - loss: 3713.0417 - mae: 3713.0417\n",
            "Epoch 176/200\n",
            "34/34 [==============================] - 0s 2ms/step - loss: 3705.0571 - mae: 3705.0571\n",
            "Epoch 177/200\n",
            "34/34 [==============================] - 0s 2ms/step - loss: 3698.9333 - mae: 3698.9333\n",
            "Epoch 178/200\n",
            "34/34 [==============================] - 0s 2ms/step - loss: 3697.9983 - mae: 3697.9983\n",
            "Epoch 179/200\n",
            "34/34 [==============================] - 0s 2ms/step - loss: 3704.9150 - mae: 3704.9150\n",
            "Epoch 180/200\n",
            "34/34 [==============================] - 0s 2ms/step - loss: 3710.3679 - mae: 3710.3679\n",
            "Epoch 181/200\n",
            "34/34 [==============================] - 0s 2ms/step - loss: 3696.6482 - mae: 3696.6482\n",
            "Epoch 182/200\n",
            "34/34 [==============================] - 0s 2ms/step - loss: 3692.7329 - mae: 3692.7329\n",
            "Epoch 183/200\n",
            "34/34 [==============================] - 0s 2ms/step - loss: 3691.1655 - mae: 3691.1655\n",
            "Epoch 184/200\n",
            "34/34 [==============================] - 0s 3ms/step - loss: 3699.2437 - mae: 3699.2437\n",
            "Epoch 185/200\n",
            "34/34 [==============================] - 0s 2ms/step - loss: 3693.2480 - mae: 3693.2480\n",
            "Epoch 186/200\n",
            "34/34 [==============================] - 0s 2ms/step - loss: 3696.1387 - mae: 3696.1387\n",
            "Epoch 187/200\n",
            "34/34 [==============================] - 0s 2ms/step - loss: 3687.8640 - mae: 3687.8640\n",
            "Epoch 188/200\n",
            "34/34 [==============================] - 0s 2ms/step - loss: 3693.3562 - mae: 3693.3562\n",
            "Epoch 189/200\n",
            "34/34 [==============================] - 0s 2ms/step - loss: 3682.7324 - mae: 3682.7324\n",
            "Epoch 190/200\n",
            "34/34 [==============================] - 0s 3ms/step - loss: 3683.2891 - mae: 3683.2891\n",
            "Epoch 191/200\n",
            "34/34 [==============================] - 0s 2ms/step - loss: 3697.6536 - mae: 3697.6536\n",
            "Epoch 192/200\n",
            "34/34 [==============================] - 0s 2ms/step - loss: 3684.6665 - mae: 3684.6665\n",
            "Epoch 193/200\n",
            "34/34 [==============================] - 0s 2ms/step - loss: 3675.5154 - mae: 3675.5154\n",
            "Epoch 194/200\n",
            "34/34 [==============================] - 0s 3ms/step - loss: 3676.3923 - mae: 3676.3923\n",
            "Epoch 195/200\n",
            "34/34 [==============================] - 0s 3ms/step - loss: 3672.8452 - mae: 3672.8452\n",
            "Epoch 196/200\n",
            "34/34 [==============================] - 0s 2ms/step - loss: 3682.0283 - mae: 3682.0283\n",
            "Epoch 197/200\n",
            "34/34 [==============================] - 0s 2ms/step - loss: 3665.7961 - mae: 3665.7961\n",
            "Epoch 198/200\n",
            "34/34 [==============================] - 0s 2ms/step - loss: 3671.7419 - mae: 3671.7419\n",
            "Epoch 199/200\n",
            "34/34 [==============================] - 0s 2ms/step - loss: 3680.5464 - mae: 3680.5464\n",
            "Epoch 200/200\n",
            "34/34 [==============================] - 0s 2ms/step - loss: 3665.6401 - mae: 3665.6401\n"
          ],
          "name": "stdout"
        }
      ]
    },
    {
      "cell_type": "code",
      "metadata": {
        "colab": {
          "base_uri": "https://localhost:8080/"
        },
        "id": "DKxKLBayDZ86",
        "outputId": "6cf9c9f5-1664-4df0-b6eb-8af1f2a09d05"
      },
      "source": [
        "insurance_model_3.evaluate(x_test,y_test)"
      ],
      "execution_count": null,
      "outputs": [
        {
          "output_type": "stream",
          "text": [
            "9/9 [==============================] - 0s 4ms/step - loss: 3491.2961 - mae: 3491.2961\n"
          ],
          "name": "stdout"
        },
        {
          "output_type": "execute_result",
          "data": {
            "text/plain": [
              "[3491.296142578125, 3491.296142578125]"
            ]
          },
          "metadata": {},
          "execution_count": 87
        }
      ]
    },
    {
      "cell_type": "code",
      "metadata": {
        "colab": {
          "base_uri": "https://localhost:8080/"
        },
        "id": "IvJS9SujDn1x",
        "outputId": "3cd8e922-4603-4bd4-ccd3-a324fa8f0ba4"
      },
      "source": [
        "insurance_model.evaluate(x_test,y_test),insurance_model_2.evaluate(x_test,y_test),insurance_model_3.evaluate(x_test,y_test)"
      ],
      "execution_count": null,
      "outputs": [
        {
          "output_type": "stream",
          "text": [
            "9/9 [==============================] - 0s 2ms/step - loss: 3174.4651 - mae: 3174.4651\n",
            "9/9 [==============================] - 0s 2ms/step - loss: 4924.3477 - mae: 4924.3477\n",
            "9/9 [==============================] - 0s 2ms/step - loss: 3491.2961 - mae: 3491.2961\n"
          ],
          "name": "stdout"
        },
        {
          "output_type": "execute_result",
          "data": {
            "text/plain": [
              "([3174.465087890625, 3174.465087890625],\n",
              " [4924.34765625, 4924.34765625],\n",
              " [3491.296142578125, 3491.296142578125])"
            ]
          },
          "metadata": {},
          "execution_count": 88
        }
      ]
    },
    {
      "cell_type": "code",
      "metadata": {
        "colab": {
          "base_uri": "https://localhost:8080/",
          "height": 296
        },
        "id": "gPaYt0atETzo",
        "outputId": "8f5273af-6c28-4fc6-f9da-67ba9712a8ea"
      },
      "source": [
        "pd.DataFrame(history.history).plot()\n",
        "plt.ylabel(\"loss\")\n",
        "plt.xlabel(\"epochs\")"
      ],
      "execution_count": null,
      "outputs": [
        {
          "output_type": "execute_result",
          "data": {
            "text/plain": [
              "Text(0.5, 0, 'epochs')"
            ]
          },
          "metadata": {},
          "execution_count": 89
        },
        {
          "output_type": "display_data",
          "data": {
            "image/png": "[encoded data removed]",
            "text/plain": [
              "<Figure size 432x288 with 1 Axes>"
            ]
          },
          "metadata": {
            "needs_background": "light"
          }
        }
      ]
    },
    {
      "cell_type": "markdown",
      "metadata": {
        "id": "TjuH025hJKb-"
      },
      "source": [
        "**->**   **Question:**  How long should you train for?\n",
        "\n",
        "It depends. Really... it depends on the problem you're working on. However, many people asked this question before.... so TensorFlow has a solution ! It's called the [ ***EarlyStopping Callback*** ] (https://www.tensorflow.org/api_docs/python/tf/keras/callbacks/EarlyStopping), which is a TensorFlow component you can add to your model to stop training once it stops improving a certain metric."
      ]
    },
    {
      "cell_type": "markdown",
      "metadata": {
        "id": "iH61cyxQMbTy"
      },
      "source": [
        "### Prepocessing data (normalization and standardization) \n",
        "\n",
        "In terms of scaling values,neural networks tends to prefer normalization .\n",
        "\n",
        "If yoy're not sure on which to use, you could try both and see which performs better."
      ]
    },
    {
      "cell_type": "code",
      "metadata": {
        "colab": {
          "base_uri": "https://localhost:8080/",
          "height": 419
        },
        "id": "PpNFTI4rVPcy",
        "outputId": "193050b5-cd71-447e-d1f5-3c6664b437dd"
      },
      "source": [
        "import pandas as pd\n",
        "import matplotlib.pyplot as plt\n",
        "import tensorflow as tf\n",
        "insurance=pd.read_csv(\"https://raw.githubusercontent.com/stedy/Machine-Learning-with-R-datasets/master/insurance.csv\")\n",
        "insurance"
      ],
      "execution_count": null,
      "outputs": [
        {
          "output_type": "execute_result",
          "data": {
            "text/html": [
              "<div>\n",
              "<style scoped>\n",
              "    .dataframe tbody tr th:only-of-type {\n",
              "        vertical-align: middle;\n",
              "    }\n",
              "\n",
              "    .dataframe tbody tr th {\n",
              "        vertical-align: top;\n",
              "    }\n",
              "\n",
              "    .dataframe thead th {\n",
              "        text-align: right;\n",
              "    }\n",
              "</style>\n",
              "<table border=\"1\" class=\"dataframe\">\n",
              "  <thead>\n",
              "    <tr style=\"text-align: right;\">\n",
              "      <th></th>\n",
              "      <th>age</th>\n",
              "      <th>sex</th>\n",
              "      <th>bmi</th>\n",
              "      <th>children</th>\n",
              "      <th>smoker</th>\n",
              "      <th>region</th>\n",
              "      <th>charges</th>\n",
              "    </tr>\n",
              "  </thead>\n",
              "  <tbody>\n",
              "    <tr>\n",
              "      <th>0</th>\n",
              "      <td>19</td>\n",
              "      <td>female</td>\n",
              "      <td>27.900</td>\n",
              "      <td>0</td>\n",
              "      <td>yes</td>\n",
              "      <td>southwest</td>\n",
              "      <td>16884.92400</td>\n",
              "    </tr>\n",
              "    <tr>\n",
              "      <th>1</th>\n",
              "      <td>18</td>\n",
              "      <td>male</td>\n",
              "      <td>33.770</td>\n",
              "      <td>1</td>\n",
              "      <td>no</td>\n",
              "      <td>southeast</td>\n",
              "      <td>1725.55230</td>\n",
              "    </tr>\n",
              "    <tr>\n",
              "      <th>2</th>\n",
              "      <td>28</td>\n",
              "      <td>male</td>\n",
              "      <td>33.000</td>\n",
              "      <td>3</td>\n",
              "      <td>no</td>\n",
              "      <td>southeast</td>\n",
              "      <td>4449.46200</td>\n",
              "    </tr>\n",
              "    <tr>\n",
              "      <th>3</th>\n",
              "      <td>33</td>\n",
              "      <td>male</td>\n",
              "      <td>22.705</td>\n",
              "      <td>0</td>\n",
              "      <td>no</td>\n",
              "      <td>northwest</td>\n",
              "      <td>21984.47061</td>\n",
              "    </tr>\n",
              "    <tr>\n",
              "      <th>4</th>\n",
              "      <td>32</td>\n",
              "      <td>male</td>\n",
              "      <td>28.880</td>\n",
              "      <td>0</td>\n",
              "      <td>no</td>\n",
              "      <td>northwest</td>\n",
              "      <td>3866.85520</td>\n",
              "    </tr>\n",
              "    <tr>\n",
              "      <th>...</th>\n",
              "      <td>...</td>\n",
              "      <td>...</td>\n",
              "      <td>...</td>\n",
              "      <td>...</td>\n",
              "      <td>...</td>\n",
              "      <td>...</td>\n",
              "      <td>...</td>\n",
              "    </tr>\n",
              "    <tr>\n",
              "      <th>1333</th>\n",
              "      <td>50</td>\n",
              "      <td>male</td>\n",
              "      <td>30.970</td>\n",
              "      <td>3</td>\n",
              "      <td>no</td>\n",
              "      <td>northwest</td>\n",
              "      <td>10600.54830</td>\n",
              "    </tr>\n",
              "    <tr>\n",
              "      <th>1334</th>\n",
              "      <td>18</td>\n",
              "      <td>female</td>\n",
              "      <td>31.920</td>\n",
              "      <td>0</td>\n",
              "      <td>no</td>\n",
              "      <td>northeast</td>\n",
              "      <td>2205.98080</td>\n",
              "    </tr>\n",
              "    <tr>\n",
              "      <th>1335</th>\n",
              "      <td>18</td>\n",
              "      <td>female</td>\n",
              "      <td>36.850</td>\n",
              "      <td>0</td>\n",
              "      <td>no</td>\n",
              "      <td>southeast</td>\n",
              "      <td>1629.83350</td>\n",
              "    </tr>\n",
              "    <tr>\n",
              "      <th>1336</th>\n",
              "      <td>21</td>\n",
              "      <td>female</td>\n",
              "      <td>25.800</td>\n",
              "      <td>0</td>\n",
              "      <td>no</td>\n",
              "      <td>southwest</td>\n",
              "      <td>2007.94500</td>\n",
              "    </tr>\n",
              "    <tr>\n",
              "      <th>1337</th>\n",
              "      <td>61</td>\n",
              "      <td>female</td>\n",
              "      <td>29.070</td>\n",
              "      <td>0</td>\n",
              "      <td>yes</td>\n",
              "      <td>northwest</td>\n",
              "      <td>29141.36030</td>\n",
              "    </tr>\n",
              "  </tbody>\n",
              "</table>\n",
              "<p>1338 rows × 7 columns</p>\n",
              "</div>"
            ],
            "text/plain": [
              "      age     sex     bmi  children smoker     region      charges\n",
              "0      19  female  27.900         0    yes  southwest  16884.92400\n",
              "1      18    male  33.770         1     no  southeast   1725.55230\n",
              "2      28    male  33.000         3     no  southeast   4449.46200\n",
              "3      33    male  22.705         0     no  northwest  21984.47061\n",
              "4      32    male  28.880         0     no  northwest   3866.85520\n",
              "...   ...     ...     ...       ...    ...        ...          ...\n",
              "1333   50    male  30.970         3     no  northwest  10600.54830\n",
              "1334   18  female  31.920         0     no  northeast   2205.98080\n",
              "1335   18  female  36.850         0     no  southeast   1629.83350\n",
              "1336   21  female  25.800         0     no  southwest   2007.94500\n",
              "1337   61  female  29.070         0    yes  northwest  29141.36030\n",
              "\n",
              "[1338 rows x 7 columns]"
            ]
          },
          "metadata": {},
          "execution_count": 2
        }
      ]
    },
    {
      "cell_type": "code",
      "metadata": {
        "colab": {
          "base_uri": "https://localhost:8080/",
          "height": 419
        },
        "id": "Yf8iYWlBF_y8",
        "outputId": "51371e19-06f7-46f7-fb32-77d14154e919"
      },
      "source": [
        ""
      ],
      "execution_count": null,
      "outputs": [
        {
          "output_type": "execute_result",
          "data": {
            "text/html": [
              "<div>\n",
              "<style scoped>\n",
              "    .dataframe tbody tr th:only-of-type {\n",
              "        vertical-align: middle;\n",
              "    }\n",
              "\n",
              "    .dataframe tbody tr th {\n",
              "        vertical-align: top;\n",
              "    }\n",
              "\n",
              "    .dataframe thead th {\n",
              "        text-align: right;\n",
              "    }\n",
              "</style>\n",
              "<table border=\"1\" class=\"dataframe\">\n",
              "  <thead>\n",
              "    <tr style=\"text-align: right;\">\n",
              "      <th></th>\n",
              "      <th>age</th>\n",
              "      <th>bmi</th>\n",
              "      <th>children</th>\n",
              "      <th>sex_female</th>\n",
              "      <th>sex_male</th>\n",
              "      <th>smoker_no</th>\n",
              "      <th>smoker_yes</th>\n",
              "      <th>region_northeast</th>\n",
              "      <th>region_northwest</th>\n",
              "      <th>region_southeast</th>\n",
              "      <th>region_southwest</th>\n",
              "    </tr>\n",
              "  </thead>\n",
              "  <tbody>\n",
              "    <tr>\n",
              "      <th>0</th>\n",
              "      <td>19</td>\n",
              "      <td>27.900</td>\n",
              "      <td>0</td>\n",
              "      <td>1</td>\n",
              "      <td>0</td>\n",
              "      <td>0</td>\n",
              "      <td>1</td>\n",
              "      <td>0</td>\n",
              "      <td>0</td>\n",
              "      <td>0</td>\n",
              "      <td>1</td>\n",
              "    </tr>\n",
              "    <tr>\n",
              "      <th>1</th>\n",
              "      <td>18</td>\n",
              "      <td>33.770</td>\n",
              "      <td>1</td>\n",
              "      <td>0</td>\n",
              "      <td>1</td>\n",
              "      <td>1</td>\n",
              "      <td>0</td>\n",
              "      <td>0</td>\n",
              "      <td>0</td>\n",
              "      <td>1</td>\n",
              "      <td>0</td>\n",
              "    </tr>\n",
              "    <tr>\n",
              "      <th>2</th>\n",
              "      <td>28</td>\n",
              "      <td>33.000</td>\n",
              "      <td>3</td>\n",
              "      <td>0</td>\n",
              "      <td>1</td>\n",
              "      <td>1</td>\n",
              "      <td>0</td>\n",
              "      <td>0</td>\n",
              "      <td>0</td>\n",
              "      <td>1</td>\n",
              "      <td>0</td>\n",
              "    </tr>\n",
              "    <tr>\n",
              "      <th>3</th>\n",
              "      <td>33</td>\n",
              "      <td>22.705</td>\n",
              "      <td>0</td>\n",
              "      <td>0</td>\n",
              "      <td>1</td>\n",
              "      <td>1</td>\n",
              "      <td>0</td>\n",
              "      <td>0</td>\n",
              "      <td>1</td>\n",
              "      <td>0</td>\n",
              "      <td>0</td>\n",
              "    </tr>\n",
              "    <tr>\n",
              "      <th>4</th>\n",
              "      <td>32</td>\n",
              "      <td>28.880</td>\n",
              "      <td>0</td>\n",
              "      <td>0</td>\n",
              "      <td>1</td>\n",
              "      <td>1</td>\n",
              "      <td>0</td>\n",
              "      <td>0</td>\n",
              "      <td>1</td>\n",
              "      <td>0</td>\n",
              "      <td>0</td>\n",
              "    </tr>\n",
              "    <tr>\n",
              "      <th>...</th>\n",
              "      <td>...</td>\n",
              "      <td>...</td>\n",
              "      <td>...</td>\n",
              "      <td>...</td>\n",
              "      <td>...</td>\n",
              "      <td>...</td>\n",
              "      <td>...</td>\n",
              "      <td>...</td>\n",
              "      <td>...</td>\n",
              "      <td>...</td>\n",
              "      <td>...</td>\n",
              "    </tr>\n",
              "    <tr>\n",
              "      <th>1333</th>\n",
              "      <td>50</td>\n",
              "      <td>30.970</td>\n",
              "      <td>3</td>\n",
              "      <td>0</td>\n",
              "      <td>1</td>\n",
              "      <td>1</td>\n",
              "      <td>0</td>\n",
              "      <td>0</td>\n",
              "      <td>1</td>\n",
              "      <td>0</td>\n",
              "      <td>0</td>\n",
              "    </tr>\n",
              "    <tr>\n",
              "      <th>1334</th>\n",
              "      <td>18</td>\n",
              "      <td>31.920</td>\n",
              "      <td>0</td>\n",
              "      <td>1</td>\n",
              "      <td>0</td>\n",
              "      <td>1</td>\n",
              "      <td>0</td>\n",
              "      <td>1</td>\n",
              "      <td>0</td>\n",
              "      <td>0</td>\n",
              "      <td>0</td>\n",
              "    </tr>\n",
              "    <tr>\n",
              "      <th>1335</th>\n",
              "      <td>18</td>\n",
              "      <td>36.850</td>\n",
              "      <td>0</td>\n",
              "      <td>1</td>\n",
              "      <td>0</td>\n",
              "      <td>1</td>\n",
              "      <td>0</td>\n",
              "      <td>0</td>\n",
              "      <td>0</td>\n",
              "      <td>1</td>\n",
              "      <td>0</td>\n",
              "    </tr>\n",
              "    <tr>\n",
              "      <th>1336</th>\n",
              "      <td>21</td>\n",
              "      <td>25.800</td>\n",
              "      <td>0</td>\n",
              "      <td>1</td>\n",
              "      <td>0</td>\n",
              "      <td>1</td>\n",
              "      <td>0</td>\n",
              "      <td>0</td>\n",
              "      <td>0</td>\n",
              "      <td>0</td>\n",
              "      <td>1</td>\n",
              "    </tr>\n",
              "    <tr>\n",
              "      <th>1337</th>\n",
              "      <td>61</td>\n",
              "      <td>29.070</td>\n",
              "      <td>0</td>\n",
              "      <td>1</td>\n",
              "      <td>0</td>\n",
              "      <td>0</td>\n",
              "      <td>1</td>\n",
              "      <td>0</td>\n",
              "      <td>1</td>\n",
              "      <td>0</td>\n",
              "      <td>0</td>\n",
              "    </tr>\n",
              "  </tbody>\n",
              "</table>\n",
              "<p>1338 rows × 11 columns</p>\n",
              "</div>"
            ],
            "text/plain": [
              "      age     bmi  ...  region_southeast  region_southwest\n",
              "0      19  27.900  ...                 0                 1\n",
              "1      18  33.770  ...                 1                 0\n",
              "2      28  33.000  ...                 1                 0\n",
              "3      33  22.705  ...                 0                 0\n",
              "4      32  28.880  ...                 0                 0\n",
              "...   ...     ...  ...               ...               ...\n",
              "1333   50  30.970  ...                 0                 0\n",
              "1334   18  31.920  ...                 0                 0\n",
              "1335   18  36.850  ...                 1                 0\n",
              "1336   21  25.800  ...                 0                 1\n",
              "1337   61  29.070  ...                 0                 0\n",
              "\n",
              "[1338 rows x 11 columns]"
            ]
          },
          "metadata": {},
          "execution_count": 90
        }
      ]
    },
    {
      "cell_type": "code",
      "metadata": {
        "colab": {
          "base_uri": "https://localhost:8080/",
          "height": 282
        },
        "id": "Yu9SwYY_SjB_",
        "outputId": "fa2bbe67-1a28-4d5d-be91-a4dc43be605f"
      },
      "source": [
        "x[\"age\"].plot(kind=\"hist\")"
      ],
      "execution_count": null,
      "outputs": [
        {
          "output_type": "execute_result",
          "data": {
            "text/plain": [
              "<matplotlib.axes._subplots.AxesSubplot at 0x7fdb06149450>"
            ]
          },
          "metadata": {},
          "execution_count": 95
        },
        {
          "output_type": "display_data",
          "data": {
            "image/png": "[encoded data removed]",
            "text/plain": [
              "<Figure size 432x288 with 1 Axes>"
            ]
          },
          "metadata": {
            "needs_background": "light"
          }
        }
      ]
    },
    {
      "cell_type": "code",
      "metadata": {
        "colab": {
          "base_uri": "https://localhost:8080/",
          "height": 282
        },
        "id": "Pjbf78ZuSpFq",
        "outputId": "168cb8b5-4852-47ea-d30d-b82a98759704"
      },
      "source": [
        "x[\"bmi\"].plot(kind=\"hist\")"
      ],
      "execution_count": null,
      "outputs": [
        {
          "output_type": "execute_result",
          "data": {
            "text/plain": [
              "<matplotlib.axes._subplots.AxesSubplot at 0x7fdb06019410>"
            ]
          },
          "metadata": {},
          "execution_count": 96
        },
        {
          "output_type": "display_data",
          "data": {
            "image/png": "[encoded data removed]",
            "text/plain": [
              "<Figure size 432x288 with 1 Axes>"
            ]
          },
          "metadata": {
            "needs_background": "light"
          }
        }
      ]
    },
    {
      "cell_type": "code",
      "metadata": {
        "id": "ZL1AdYNoTP8N"
      },
      "source": [
        ""
      ],
      "execution_count": null,
      "outputs": []
    }
  ]
}